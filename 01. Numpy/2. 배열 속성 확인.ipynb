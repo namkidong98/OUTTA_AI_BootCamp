{
 "cells": [
  {
   "cell_type": "markdown",
   "metadata": {},
   "source": [
    "# **2. 배열 속성 확인**"
   ]
  },
  {
   "cell_type": "markdown",
   "metadata": {},
   "source": [
    "정리본\n",
    "\n",
    "1. data.dtype: ndarray의 자료형 확인\n",
    "\n",
    "2. data.ndim: ndarray의 차원 수 확인\n",
    "\n",
    "3. data.shape: ndarray의 크기를 확인\n",
    "\n",
    "4. data.size: ndarray의 원소의 개수를 확인"
   ]
  },
  {
   "cell_type": "markdown",
   "metadata": {},
   "source": [
    "<메소드(method)와 속성(attribut)의 차이에 따른 괄호 사용 유무>\n",
    "\n",
    "1. 메소드 (Method):\n",
    "<br> 메소드는 특정 동작을 수행하는 함수이다. \n",
    "<br> 이러한 메소드를 호출할 때는 함수처럼 괄호를 사용하여 호출한다.\n",
    "<br> 예를 들어, ndarray.sum()은 배열의 모든 요소의 합을 계산하는 메소드이다.\n",
    "\n",
    "2. 속성 (Attribute):\n",
    "<br> 속성은 객체의 특성이나 정보를 나타내는 변수이다.\n",
    "<br> 이러한 속성을 호출할 때는 괄호 없이 속성 이름만 사용합니다.\n",
    "<br> 예를 들어, ndarray.size와 ndarray.shape는 배열의 크기와 형태에 대한 속성이다"
   ]
  },
  {
   "cell_type": "code",
   "execution_count": 1,
   "metadata": {},
   "outputs": [],
   "source": [
    "import numpy as np"
   ]
  },
  {
   "cell_type": "code",
   "execution_count": 3,
   "metadata": {},
   "outputs": [
    {
     "data": {
      "text/plain": [
       "array([[[ 1,  2,  3,  4],\n",
       "        [ 5,  6,  7,  8],\n",
       "        [ 9, 10, 11, 12]],\n",
       "\n",
       "       [[13, 14, 15, 16],\n",
       "        [17, 18, 19, 20],\n",
       "        [21, 22, 23, 24]]])"
      ]
     },
     "execution_count": 3,
     "metadata": {},
     "output_type": "execute_result"
    }
   ],
   "source": [
    "# 1부터 24까지 연속적인 수로 이루어진 'data'라는 배열\n",
    "# shape: 2X3X4인 3차원 배열\n",
    "data = np.arange(1, 25).reshape(2, 3, 4)\n",
    "data"
   ]
  },
  {
   "cell_type": "code",
   "execution_count": 4,
   "metadata": {},
   "outputs": [
    {
     "data": {
      "text/plain": [
       "dtype('int32')"
      ]
     },
     "execution_count": 4,
     "metadata": {},
     "output_type": "execute_result"
    }
   ],
   "source": [
    "# data 배열의 자료형 확인\n",
    "data.dtype"
   ]
  },
  {
   "cell_type": "code",
   "execution_count": 5,
   "metadata": {},
   "outputs": [
    {
     "data": {
      "text/plain": [
       "3"
      ]
     },
     "execution_count": 5,
     "metadata": {},
     "output_type": "execute_result"
    }
   ],
   "source": [
    "# data 배열의 차원 확인\n",
    "data.ndim #number of dimension(차원의 개수)"
   ]
  },
  {
   "cell_type": "code",
   "execution_count": 7,
   "metadata": {},
   "outputs": [
    {
     "data": {
      "text/plain": [
       "(2, 3, 4)"
      ]
     },
     "execution_count": 7,
     "metadata": {},
     "output_type": "execute_result"
    }
   ],
   "source": [
    "# data 배열의 크기 확인\n",
    "data.shape"
   ]
  },
  {
   "cell_type": "code",
   "execution_count": 8,
   "metadata": {},
   "outputs": [
    {
     "data": {
      "text/plain": [
       "24"
      ]
     },
     "execution_count": 8,
     "metadata": {},
     "output_type": "execute_result"
    }
   ],
   "source": [
    "# data 배열의 원소 개수 확인\n",
    "data.size"
   ]
  }
 ],
 "metadata": {
  "kernelspec": {
   "display_name": "Python 3",
   "language": "python",
   "name": "python3"
  },
  "language_info": {
   "codemirror_mode": {
    "name": "ipython",
    "version": 3
   },
   "file_extension": ".py",
   "mimetype": "text/x-python",
   "name": "python",
   "nbconvert_exporter": "python",
   "pygments_lexer": "ipython3",
   "version": "3.10.11"
  },
  "orig_nbformat": 4
 },
 "nbformat": 4,
 "nbformat_minor": 2
}
