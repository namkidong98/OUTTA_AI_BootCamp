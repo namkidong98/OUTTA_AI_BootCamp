{
 "cells": [
  {
   "cell_type": "markdown",
   "metadata": {},
   "source": [
    "# 과제"
   ]
  },
  {
   "cell_type": "markdown",
   "metadata": {},
   "source": [
    "## **과제 (100점)**\n",
    "\n",
    "본인이 관심 있는 그룹에 대해서 해당 크롤링을 반복해서 수행하시오. 데이터를 수집하여 excel파일로 저장하시오.\n",
    "\n"
   ]
  },
  {
   "cell_type": "markdown",
   "metadata": {},
   "source": [
    "![KakaoTalk_20230717_234457558.png](data:image/png;base64,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)"
   ]
  },
  {
   "cell_type": "markdown",
   "metadata": {},
   "source": [
    "아래에 코드 입력"
   ]
  },
  {
   "cell_type": "code",
   "execution_count": 1,
   "metadata": {},
   "outputs": [],
   "source": [
    "#1. 필요한 라이브러리 import 하기 (10점)\n",
    "import pandas as pd\n",
    "import requests\n",
    "import re\n",
    "from bs4 import BeautifulSoup"
   ]
  },
  {
   "cell_type": "code",
   "execution_count": 2,
   "metadata": {},
   "outputs": [],
   "source": [
    "#2. 링크를 request.get으로 가져오기 (header가 필요한 경우 headers 입력) (10점)\n",
    "res = requests.get(\"https://www.gmarket.co.kr/n/best?viewType=G&groupCode=G07\")\n",
    "\n",
    "#3. BeautifulSoup을 이용해 파싱하기 (10점)\n",
    "soup = BeautifulSoup(res.content, 'html.parser')"
   ]
  },
  {
   "cell_type": "code",
   "execution_count": null,
   "metadata": {},
   "outputs": [],
   "source": [
    "soup"
   ]
  },
  {
   "cell_type": "code",
   "execution_count": 4,
   "metadata": {},
   "outputs": [],
   "source": [
    "#4. 상품명 크롤링하여 리스트로 저장하기 (20점)\n",
    "item_list = soup.select('a.itemname')\n",
    "\n",
    "title_list = [] #빈 리스트 생성\n",
    "for item in item_list:\n",
    "    title_list.append(item.get_text())\n",
    "# title_list"
   ]
  },
  {
   "cell_type": "code",
   "execution_count": 5,
   "metadata": {},
   "outputs": [],
   "source": [
    "#5. 정가 정보 크롤링하여 리스트로 저장하기 (10점)\n",
    "item_list = soup.select('div.o-price')\n",
    "\n",
    "org_price_list = [] #빈 리스트 생성\n",
    "for item in item_list:\n",
    "    org_price_list.append(item.get_text())\n",
    "# org_price_list"
   ]
  },
  {
   "cell_type": "code",
   "execution_count": 6,
   "metadata": {},
   "outputs": [],
   "source": [
    "#6. 할인가 정보 크롤링하여 리스트로 저장하기 (10점)\n",
    "item_list = soup.select('div.s-price')\n",
    "\n",
    "sale_price_list = [] #빈 리스트 생성\n",
    "for item in item_list:\n",
    "    sale_price_list.append(item.get_text())\n",
    "# sale_price_list "
   ]
  },
  {
   "cell_type": "code",
   "execution_count": 7,
   "metadata": {},
   "outputs": [],
   "source": [
    "def extract_number(x):\n",
    "    price = re.findall(\"\\d.*원\", x)\n",
    "    \n",
    "    try:\n",
    "        price_num = price[0].replace('원', '') # 문자열 내의 원을 없앤다\n",
    "        \n",
    "        try:\n",
    "            price_num = int(price_num.replace(',', '')) # 쉼표가 있으면 없애고 정수로 변환\n",
    "        except:\n",
    "            price_num = int(price_num) # 쉼표가 없으면 그냥 정수로만 변환\n",
    "    except:\n",
    "        pass\n",
    "    \n",
    "    return price_num if price else None # price가 빈 리스트가 아닐 때에는 price_num을 반환하고 아니면 None을 반환"
   ]
  },
  {
   "cell_type": "code",
   "execution_count": 8,
   "metadata": {},
   "outputs": [],
   "source": [
    "def fill_na_with_sales(row):\n",
    "    if pd.isna(row['정가']):\n",
    "        return row['판매가']\n",
    "    else:\n",
    "        return row['정가']"
   ]
  },
  {
   "cell_type": "code",
   "execution_count": 9,
   "metadata": {},
   "outputs": [],
   "source": [
    "#7. 적절히 데이터 전처리를 하여 DataFrame 객체로 만들고 Excel 파일로 저장하기 (30점)\n",
    "#이때, DataFrame의 열은 \"상품명, 정가, 판매가\"로 구성되어야 함.\n",
    "\n",
    "total = pd.DataFrame([title_list, org_price_list, sale_price_list]).T\n",
    "total.columns = ['상품명', '정가', '판매가']\n",
    "\n",
    "#위에서 정의한 함수를 활용하여 정가와 판매가에서 숫자만 추출해낸다\n",
    "total['정가'] = total['정가'].apply(extract_number)        \n",
    "total['판매가'] = total['판매가'].apply(extract_number)\n",
    "\n",
    "total['정가'] = total.apply(fill_na_with_sales, axis=1)     #total의 정가 중 비어있는 값에 대한 처리를 해주고\n",
    "total['정가'] = total['정가'].apply(int)                    #float형인 정가의 데이터를 int형으로 변환"
   ]
  },
  {
   "cell_type": "code",
   "execution_count": 10,
   "metadata": {},
   "outputs": [],
   "source": [
    "total.to_excel('gmarket_best_food.xlsx') #데이터프레임 total의 데이터를 엑셀 파일로 저장하기"
   ]
  }
 ],
 "metadata": {
  "kernelspec": {
   "display_name": "Python 3",
   "language": "python",
   "name": "python3"
  },
  "language_info": {
   "codemirror_mode": {
    "name": "ipython",
    "version": 3
   },
   "file_extension": ".py",
   "mimetype": "text/x-python",
   "name": "python",
   "nbconvert_exporter": "python",
   "pygments_lexer": "ipython3",
   "version": "3.10.11"
  },
  "orig_nbformat": 4
 },
 "nbformat": 4,
 "nbformat_minor": 2
}
