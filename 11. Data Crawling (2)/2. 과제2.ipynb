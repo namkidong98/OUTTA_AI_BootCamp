{
 "cells": [
  {
   "cell_type": "markdown",
   "metadata": {},
   "source": [
    "# 과제 (100점)"
   ]
  },
  {
   "cell_type": "markdown",
   "metadata": {},
   "source": [
    "#### 본인이 관심 있는 키워드에 대해서 해당 크롤링을 반복해서 수행하시오. 데이터를 수집하여 excel 파일로 저장하시오."
   ]
  },
  {
   "cell_type": "code",
   "execution_count": 1,
   "metadata": {},
   "outputs": [],
   "source": [
    "#1. 필요한 라이브러리 import 하기 (10점)\n",
    "from selenium import webdriver\n",
    "from selenium.webdriver.common.by import By\n",
    "from selenium.webdriver.common.keys import Keys\n",
    "from selenium.webdriver.chrome.service import Service\n",
    "import pandas as pd\n",
    "import re"
   ]
  },
  {
   "cell_type": "code",
   "execution_count": 2,
   "metadata": {},
   "outputs": [],
   "source": [
    "#2. 본인이 관심 있는 키워드에 대해서 크롤링을 수행하고 상품명, 가격, 별점 정보 저장하기 (40점)\n",
    "driver = webdriver.Chrome()\n",
    "driver.get(\"https://www.gmarket.co.kr\")\n",
    "\n",
    "search_box = driver.find_element(By.NAME, 'keyword')\n",
    "search_box.send_keys('축구공')\n",
    "search_box.send_keys(Keys.RETURN)\n",
    "\n",
    "driver.implicitly_wait(3)\n",
    "\n",
    "search_results = driver.find_elements(By.CSS_SELECTOR, 'div.box__information') \n",
    "\n",
    "title_list = list()\n",
    "price_list = list()\n",
    "star_list = list()\n",
    "\n",
    "for result in search_results:\n",
    "    #만족도가 없을 수도 있기에 try except문을 활용\n",
    "    try:\n",
    "        title_element = result.find_element(By.CSS_SELECTOR, 'span.text__item')\n",
    "        price_element = result.find_element(By.CSS_SELECTOR, 'div.box__price-seller > strong')\n",
    "        star_element = result.find_element(By.CSS_SELECTOR, 'span.image__awards-points > span')\n",
    "        title_list.append(title_element.text)\n",
    "        price_list.append(price_element.text)\n",
    "        star_list.append(star_element.text)\n",
    "    except:\n",
    "        pass\n",
    "\n",
    "driver.quit()"
   ]
  },
  {
   "cell_type": "code",
   "execution_count": 3,
   "metadata": {},
   "outputs": [],
   "source": [
    "def extract_comma(x):\n",
    "    price = int(x.replace(\",\", \"\")) #replace로 쉼표까지 제거하고 int로 변환\n",
    "    return price\n",
    "\n",
    "def extract_stars(x):\n",
    "    ext = re.findall(\"\\d+%\", x)\n",
    "    #데이터가 빈 경우가 있으므로 try, except문 사용\n",
    "    try:\n",
    "        stars = int(ext[0].replace('%', \"\")) #%를 제거한 뒤 int로 변환\n",
    "    except:\n",
    "        pass\n",
    "    return stars if ext else None #데이터가 있을 경우 stars를 반환, 아닐 경우 None을 반환"
   ]
  },
  {
   "cell_type": "code",
   "execution_count": 4,
   "metadata": {},
   "outputs": [],
   "source": [
    "#3. 적절히 데이터 전처리를 하여 DataFrame 객체로 만들고 Excel 파일로 저장하기 (50점)\n",
    "#이때, DataFrame의 열은 \"상품명, 판매가, 만족도\"로 구성되어야 함.\n",
    "df = pd.DataFrame([title_list, price_list, star_list]).T\n",
    "df.columns = ['상품명', '판매가', '만족도']\n",
    "\n",
    "df['판매가'] = df['판매가'].apply(extract_comma)\n",
    "df['만족도'] = df['만족도'].apply(extract_stars)\n",
    "df = df.dropna().reset_index().iloc[:, 1:]\n",
    "df.to_excel('gmarket_soccerball_stars.xlsx')"
   ]
  }
 ],
 "metadata": {
  "kernelspec": {
   "display_name": "Python 3",
   "language": "python",
   "name": "python3"
  },
  "language_info": {
   "codemirror_mode": {
    "name": "ipython",
    "version": 3
   },
   "file_extension": ".py",
   "mimetype": "text/x-python",
   "name": "python",
   "nbconvert_exporter": "python",
   "pygments_lexer": "ipython3",
   "version": "3.10.11"
  },
  "orig_nbformat": 4
 },
 "nbformat": 4,
 "nbformat_minor": 2
}
