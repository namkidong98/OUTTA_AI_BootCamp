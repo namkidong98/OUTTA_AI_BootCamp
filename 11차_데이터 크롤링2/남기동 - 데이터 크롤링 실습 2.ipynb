{
 "cells": [
  {
   "cell_type": "markdown",
   "id": "5187c4e1",
   "metadata": {},
   "source": [
    "# 라이브러리 설치"
   ]
  },
  {
   "cell_type": "code",
   "execution_count": null,
   "id": "c2b7084e",
   "metadata": {},
   "outputs": [],
   "source": [
    "!pip install selenium"
   ]
  },
  {
   "cell_type": "markdown",
   "id": "42526e7d",
   "metadata": {},
   "source": [
    "# Selenium 연습"
   ]
  },
  {
   "cell_type": "markdown",
   "id": "b363551b",
   "metadata": {},
   "source": [
    "## By.Name 구문"
   ]
  },
  {
   "cell_type": "code",
   "execution_count": 2,
   "id": "aff26984",
   "metadata": {},
   "outputs": [],
   "source": [
    "from selenium import webdriver\n",
    "from selenium.webdriver.common.by import By\n",
    "from selenium.webdriver.common.keys import Keys\n",
    "from selenium.webdriver.chrome.service import Service\n",
    "\n",
    "# ChromeDriver의 경로를 지정하고, WebDriver 인스턴스를 생성합니다.\n",
    "driver = webdriver.Chrome() #C드라이브 Windows 폴더에 넣었기 때문에 아무것도 입력하지 않아도 된다\n",
    "#driver 변수에 webdriver 객체를 넣는다\n",
    "\n",
    "# 지마켓의 메인 페이지를 엽니다.\n",
    "driver.get('https://www.gmarket.co.kr') #webdriver 객체가 메소드 get을 통해 URL을 탐색할 수 있다\n",
    "\n",
    "# 검색어를 입력할 수 있는 input 요소를 찾습니다. (GMarket의 경우 <input name=\"keyword\" title=\"검색창\" class=\"form__input\" ...꼴이다)\n",
    "search_box = driver.find_element(By.NAME, 'keyword')\n",
    "#By.Name은 name속성을 가지고 탐색하는 것이다\n",
    "\n",
    "# 검색어를 입력하고, Enter 키를 눌러 검색을 실행합니다. (Selenium은 찾은 것을 가지고 또 크롤링할 수 있다)\n",
    "search_box.send_keys('손풍기')       #input 요소(지금은 search_box)에 '손풍기'라는 입력을 보낸다, 단 입력에 그치므로\n",
    "search_box.send_keys(Keys.RETURN)   #엔터 역할을 하는 Keys.Return이 필요하다\n",
    "\n",
    "# 작업이 끝나면 WebDriver를 종료하여 브라우저 창을 닫습니다.\n",
    "driver.quit()"
   ]
  },
  {
   "cell_type": "markdown",
   "id": "f7e91211",
   "metadata": {},
   "source": [
    "## By.CSS_SELECTOR 구문"
   ]
  },
  {
   "cell_type": "code",
   "execution_count": 3,
   "id": "d0ba22cd",
   "metadata": {},
   "outputs": [],
   "source": [
    "from selenium import webdriver\n",
    "from selenium.webdriver.common.by import By\n",
    "from selenium.webdriver.common.keys import Keys\n",
    "from selenium.webdriver.chrome.service import Service\n",
    "\n",
    "title_list = list()\n",
    "\n",
    "# ChromeDriver의 경로를 지정하고, WebDriver 인스턴스를 생성합니다.\n",
    "driver = webdriver.Chrome()\n",
    "\n",
    "# 지마켓의 베스트 페이지를 엽니다.\n",
    "driver.get('https://www.gmarket.co.kr/n/best')\n",
    "\n",
    "# 상품명을 입력 받아 item_list 변수에 저장합니다.\n",
    "item_list = driver.find_elements(By.CSS_SELECTOR, 'a.itemname') #By.CSS_SELECTOR: 키워드에 해당하는 객체를 반환, element's'이므로 여러 개 반환\n",
    "\n",
    "for item in item_list:\n",
    "    title_list.append(item.text)\n",
    "\n",
    "driver.quit()"
   ]
  },
  {
   "cell_type": "code",
   "execution_count": 4,
   "id": "4704868d",
   "metadata": {},
   "outputs": [
    {
     "name": "stdout",
     "output_type": "stream",
     "text": [
      "['[CJ제일제당][CJ직배송] 포도씨유 500ML x 6', '[원할머니]원할머니 명품육개장 600g 10팩', '연세 뼈를 생각한 고칼슘두유 검은콩 48팩 + 호두아몬드 48팩', '[풀무원]풀무원 풀무원 T 노엣지피자 4종 6판 골라담기 (콤비/베이컨/포테이토콘/BBQ)', '[삼립]삼립디저트 누네띠네 2.5kgx1개', '이쌀이다 촉촉하고 찰진 안동밥상 백진주 10kg', '[할리스]할리스 1L 아메리카노 x4병', '[디스커버리](롯데백화점)디스커버리 공용 마운틴 LT DXSH4112N', '[서울우유]서울우유 멸균우유 흰우유 200mlx48개', '삼다수 T 제주 삼다수 무라벨 500ml X 40병', '[베지밀]베지밀 달콤한 베지밀B 검은콩 두유 190ml x 96팩', '[웅진]빅토리아 청귤 500ml 40개', '[해동찬가]7/24(월) 단하루 20%할인) 한돈대패삼겹살 300gX4팩+한돈대패목살 300gX3팩 /총 7팩(2.1kg)', '[삼진어묵]삼진어묵 옛날모듬어묵 1Kg x 3개', '[동아오츠카]나랑드사이다 제로 345ml 24캔(뚱캔)', '[동아오츠카]동아오츠카 T 라인바싸 탄산수/탄산음료 500ml 2박스 ( 20입+20입 )', '다향 훈제오리 13팩 1등급', '제로스킨 스키니매트 (1+1)', '프리미엄 1등급 한우 등심 200g x 2팩 /총 400g /17560원(쿠폰가)/냉장 한우 암소', '던킨 T 디즈니 에스프레소 블렌드 캡슐커피 5g 100개 외 4종 택1', '[메가박스](유니버스클럽 전용) 메가박스 일반예매권 2D-주중/주말', '(15%쿠폰적용가 8670) 냄새줄인 락스 2100ml x 6개 / 최신제조 / 욕실 및 화장실 살균 소독제', '[델포유]델포유 오븐에 구운 십센치 파운드 30개 5가지맛', '무중력 깔창 1+1+1+1 신발 쿠션 충격흡수 완화 군인 등산 구두 푹신한 키높이', '궁중비법 포기김치 10kg', '[나이키]나이키 NSW 반팔티셔츠 푸츄라 아이콘 스우시 AR5005 AR5004 택1', '[목우촌]목우촌주부9단 살코기햄 1kg x 2개', '[코카콜라]코카콜라 190ml x 60CAN', '[네파](롯데백화점)남여 여름 베이퍼 액티브 아이스 밴딩 등산팬츠 7I31623 7I41623', '[SPAM]스팸 25%라이트 200g x9개', '[스카이패션](1+1) 남녀공용 시원한 린넨라이크 쿨 와이드 밴딩팬츠', '[풀무원]풀무원 T 생산직송 톡톡 포기김치 10kg', '[풀무원]G풀무원 토이쿠키 3+1 브레드이발소/킹덤 3개 구매시 1개 더', '[롯데제과]아이스브레이커스 듀오체리 8개 (반값특가)', '[하비비](15%쿠폰) 청개구리 자동 변기 클리너 세정제 6개 (12개월분)', '[코디](15%+클럽12% 쿠폰적용가 25700) 블루 3겹 데코 화장지 27m 30롤 3팩 휴지', '[쁘띠비데]비데물티슈 쁘띠비데 캡형 46매x10팩', '[어나더디](15%쿠폰가 12670원)(4개세트) 심리스 브라탑 4color 노라인 노와이어 스포츠브라 스판소재', '나비골 국내산 여름별미 열무김치 2kg 2개구매시비빔면증정(주문일자7월24일 기준으로 증정)', '[더푸룸]섬유유연제 라벤더향 2.5L 4개 (특가행사)', '신화당제과 우리쌀전병 9박스+인절미스낵 5봉', '(노티드) 1만원권', '[베베앙(물티슈)]베베앙 아기물티슈 시그니처 대용량 100매 캡형 10팩', '[엘렌실라](7/24 단하루)(1+1+정품증정) 슈퍼 달팽이크림 50g 1+1 (+프렌치콜라겐 대용량 에멀전 750ml 증정)', '[맥케인]맥케인 케이준 배터드 감자튀김 2kg+(증정)어니언링 외 모음', '[도루코](최종혜택가 23800원) 페이스6 면도기획세트 2호(면도기+날 총13입+폼) + 6스타일 날2입 증정 / 6중날', '[외할머니밥상]스지 많고 뼈없는 업그레이드 외할머니 도가니탕 500gx4팩 / 2셋트 구매시마다 하나더', '[조르단]부드러운 어린이칫솔 조르단 STEP 1단계 10개', '[천일식품]사누끼 포차 우동 230g10봉 (개별포장) + 소스 10봉 + 후레이크 10개', '이맛쌀 20kg', '[깨끗한나라]깨끗한나라 (특가) New 벚꽃 프리미엄 화장지 27미터 30롤 3팩', '삼다수 T 제주 삼다수 무라벨 2L X 24병', '[오뚜기]오뚜기 맛있는 밥 30입(210gx10)x 3개 / 오뚜기 흰밥', '(놀이대전) 캐리비안베이 골드1 골드2 종일권(이용기간 상이)', '[헬로]헬로 순수 3겹 30m 30롤 3팩 천연펄프 화장지 초특가행사', '[3SKBOX]깔끔한 톰슨가공 최다보유/포장이 빨라지는 택배박스 3sk 창립 기념 감사 이벤트 1000원 즉시 할인', '[깨끗한나라](20% 쿠폰적용가 11840) 깨끗한나라 키친타올 100매 10팩 (톡톡 뽑아쓰는)', '[웅진]자연은 90일 토마토 주스 340ml x 24페트', '[퓨어잇]퓨어잇 유기농 떡뻥 아이 쌀과자 간식 골라담기+증정', '[그린핑거]마이키즈 캐치티니핑 워시 320mlX3 + 스타벅스 5천원권 증정', '[구글플레이]기프트코드 10만원 / 구글 기프트카드', '[맥심]맥심 모카골드 커피믹스 400T', '[휴테크]휴테크 카카오 무선 쿠션 마사지기 (죠르디/어피치)', '[스파클]스파클생수 500ml 100병 (도착보장/무라벨생수)', '추추추어탕 500g 5팩 국내산 미꾸라지만 사용', '[농심]안성탕면 125g 5입X8개(총40개)', '[덴티스테]덴티스테 플러스화이트 160gx3개 + 여행용20g 1개 기본증정 (7/24단하루 치실1개 추가증정) 쿠폰가 23890원', '[이디야커피]이디야커피 T 컵커피 300ml 5종 골라담기 10입+10입', '[CJ제일제당][CJ직배송] 카놀라유 900ML x 4', '[종근당건강]종근당건강 락토핏 생유산균 코어맥스 2g x 60포 x 6통', '[연세우유]연세우유 전용목장우유 180ml (48팩)YS257', '[목우촌]목우촌 주부9단 비엔나소시지 450g x 3개', '[구글플레이]기프트코드 5만원 / 구글 기프트카드', '[대상 웰라이프]뉴케어 구수한맛 200ml x 30팩 /균형영양식 가장 친숙한 맛 누룽지맛 식사대용식 환자영양식', '[고래사어묵]고래사 고래사어묵 프리미엄어묵세트 (15종 /25개)', '[햇반]햇반 210g x24입', '[동아오츠카]나랑드사이다 350ML 20입 1박스(플레인파인애플그린애플)', '[살림백서](15%쿠폰적용가 12920) 살림백서 뿌리는 곰팡이제거제 400ml 4개 욕실 베란다', '(이마트USA) 항공직송 워싱턴산 생체리 1.8kg', '[동원에프앤비]통그릴 비엔나 (소시지) 300g x 6봉', '[휠라]휠라 신상 브라/팬티/나시 여름 세일 /인핏 솔리드 여성 브라 (FI4BAD6445F_DID)', '[CJ제일제당]CJ제일제당 T 고메 소바바치킨 소이허니 봉 300g X 5개', '[리르]리얼 펜타투 아이라이너 1+1+1 총3개', '푸드조아 경기미 10kg+10kg (총 20kg)', '[롯데칠성]펩시콜라 제로 210ml x 60캔 (30캔 2박스)', '[박스포유]100%직접생산/ 박스포유 택배박스', '[대상 웰라이프][최종혜택가22,760원] 마이밀 뉴프로틴 오리지널 24입 +증정', '(할인특가/별똥별 신간) 생각의 발견 (도서10권+워크북3권) / 세이펜 미포함', '미미네 국물떡볶이 9봉 + 눈꽃치즈 국물떡볶이 1봉 (총10봉)', '무료배송 페이퍼맥스 고양이 종이컵 2000개/1박스', '[삼성전자]새로운 갤럭시폴더블 사전알림 EVENT/ 알림신청 /100원딜(구매시자동응모)', '[해피바스]해피바스 바디워시900g 3종세트 유자/체리/자몽', '[쿠쿠](혜택가 20.4만원) 쿠쿠 본사직영 CRP-DHP0610FD 6인용 IH전기압력 밥솥', '[오롯담]오롯담 나주곰탕 700g 12팩', '[브라운(물티슈)]브라운 아기물티슈 네이처 마일드 70매 캡형 10+10팩', '착한낙지 매콤~칼칼 착한낙지 135g x 6팩+비법소스 6팩', '[크록스][크록스 정품] 클래식 크러쉬 클로그 공용샌들 207521-100', '[미쁘]무형광 미쁘 핸드타올 2겹5000매 페이퍼타올 핸드타월', '[맥심]맥심 모카골드 커피믹스 400T', '[BBQ]BBQ 비비큐치킨 공식몰 / 자메이카 통다리 바베큐 x 10팩 / 오늘만 시즈닝 증정', '[코카콜라]코카콜라제로 190ml x 60CAN', '(할인특가) 키즈엠 - 0~3세 그림책 낱권 골라담기 (전 25종) : 옵션선택', '[아토세이프]최종혜택가 14520원 아토세이프 귀찮아 습기제거제 520ml 24개입/제습제/장마철필수품', '제로스킨 핸드폰필름 아틀라스 갤럭시', '[벨롭]밸롭 아쿠아슈즈/워터슈즈/래쉬가드/수영복/비치웨어/여성/남성/아동/키즈 모음전', '[어나더디](15%쿠폰가 13180원)(4개세트) 스트랩 심리스 브라탑 4color 노와이어 스포츠브라 스판소재', '[물고기삼촌]양꼬치 양깍두기 양고기 1kg + 쯔란1봉', '[공식파트너] 위닉스 뽀송 제습기 10L DXAE100-JWK', '[스파클]스파클생수 2L 30병 (도착보장/무라벨생수)', '[서울우유]멸균우유 1000ml x 10입 (1박스)', '[깨끗한나라]깨끗한나라 순수시그니처 화장지 브라운 30m 30롤 2팩', '[맥심]맥심 모카골드 커피믹스 180T: 쿠폰가 23500원 ~', '(UNSEEN SET) SHOWNU X HYUNGWON THE 1ST MINI ALBUM THE UNSEEN', '[크록스]크록스 남녀공용 바야밴드 클로그_205089-066 (블랙/화이트)', '세모금컵 4000매 생수컵 정수기컵', '[예가정성]특등급 농협 예산 삼광미 10kg2포', '[목우촌]T 목우촌 프라임 한입 돈까스 500g x4봉', '[비아북]개념연결 초등 한국사+사회 사전 세트 (전2권)', '[나이키골프]나이키 남여공용볼캡 골프모자 4종 헤리티지86 레거시91', '[웅진]하늘보리 500ml x 20개입', '[동원샘물]동원샘물 2L 24병 /생수전문배송', '[농심]육개장사발면 24개입', '[노브랜드]노브랜드 도톰한 물티슈 100매 X 20개입', '[미니멜리사]미니멜리사 메듀즈 키즈 샌들 모음 신발 슬리퍼 모음 유아 여아 초등 학생 주니어 젤리 슈즈', '[훈훈]생새우살 1kg (손질새우 알새우 볶음용새우) 소 190-220미', '[일동후디스]하이뮨 마시는 프로틴 밸런스(125mL 24입)', '삼광쌀 만세보령 GOLD 특등급 10kg', '[삼진어묵]삼진어묵 T 옛날모듬어묵 1Kg x 3개', '가바 여성 쿨맥스 라이크라 데님 2종', '[모나코올리브]먼지제거 물기제거 빗자루 리프 몬스터비 1+1', '[락토핏]종근당건강 유산균 락토핏 골드 50포 3통(150일분)', '[베베숲]NEW 베베숲 프라임 70매 캡 20팩', '[맥심]화이트골드 커피믹스 180T+180T : 43900원 쿠폰가 ~', '[연세우유]속편한 락토프리 멸균우유 오리지널 190ml 48팩/ 두유', '강부자 역대최저가/SK단독 부자 뼈없는 갈비탕 800gx10팩', '1+1+1+1 남여 린넨 소음방지 실내화', '우리아이 반찬 짜지않은 메추리알 장조림 1kg x 2팩', '[올반키친]올반 찰핫도그15봉+크런치핫도그15봉(신세계푸드 중복쿠폰 할인)', '[동원에프앤비]라이트스탠다드 참치 85g x 14캔', '[비에프엘아웃도어][버팔로] 1+1 버팔로 프리미엄 블랙라벨 구명조끼', '[동아오츠카]포카리스웨트 340ml x 20PET', '홍천철원 강원도 미백 찰옥수수 20개입(17cm이상 특품)', '[부즈펌](라이카미) 부즈펌 진짜 진짜 재밌는 그림책 골라 담기 - 3권 이상 무료배송', '[제주삼다수][무료배송] 제주 삼다수 그린(무라벨) 2L 24병 (유라벨/무라벨 랜덤발송)', '[동원에프앤비]동원 라이트 스탠다드 참치 150g 원터치 10개', '[아침농산]2022년 햅쌀 농부의아침 쌀10kg 백미 상등급', '[노브랜드]노브랜드 3겹 화장지 33M X 30롤 3팩', '토니모리 수분앰플 7700원+썸머 COOL세일 UPTO 79%', '[샤오미]최종48만 미지아 1S B116 올인원 물걸레 로봇청소기 (관부가세 포함)', '제로스킨 케이스 시그니처5 (1+1)', '[구글플레이]기프트코드 1만원 / 구글 기프트카드', '[위닉스]공식인증점)위닉스 17L제습기 {DN3E170-LWK} 1등급 제습기 (빠른발송)', '[한국교육방송공사]EBS 초등 만점왕 시리즈 2023년 1~6학년 2학기 세트 선택구매', '제로스킨 케이스 시그니처6 (1+1)', '[SOil](S-OIL) 에쓰-오일 모바일주유상품권 5만원권', '[유파]방송유파 선풍기리모컨초미풍발터치 TSK-3528CR', '[바스파]스크럽 사해소금 바디워시/클렌저 각질케어 1000ml 쿠폰가13180 (+행사중)', '[무궁화]브라이트 초고농축 캡슐세제 파우치형 4개 (120개입) + 핸드워시 용기 1개 증정', '[스파클][스파클 무라벨] 스파클 생수 2리터 42병', '[라엘]라엘 유기농 순면커버 중/소/대 생리대 5팩', '[널담]널담 베이글 3종 6개입 (플레인/크랜베리호두/흑임자) / 2세트시 2천원 할인', '[베베쥬]가을오픈 여름세일/아동복 상하복 원피스 팬츠 티셔츠/데일리룩 하객룩 외', '[피코크]피코크 떡갈비 450gx6팩 (신세계푸드 중복 쿠폰 할인)', '[맥심](행사상품)N 동서식품맥심모카골드믹스230T 2760G', '[켈로그]다크초코 프로틴 딜라이트 350g 3입 + 비치백 + 다크초코 프로틴 딜라이트 50g 증정', '[웅진]빅토리아 청귤+플레인 500ml 20+20개', '프리미엄 1등급 한우 채끝 200g x 2팩 총 400g /20080원(쿠폰가)/ 냉장 한우 암소', '[구글플레이]기프트코드 20만원 / 구글 기프트카드', '[어나더디](15%쿠폰가 11820원)(1+1) 더 아이 주니어 하이틴 심리스 브라탑 일체형 노와이어', '[아이러브베베]아이러브베베아기물티슈 핑크100매캡형X20팩', '[농심]백산수 무라벨 2L 24병 /생수전문배송', '[매일유업]매일 소화가 잘되는 멸균우유 190ml 48팩', '[동원에프앤비]DHA 참치 150g 원터치 10개', '밥맛좋은 경기미 백미 쌀10kg 특등급 당일도정', '[티젠]티젠 콤부차 5가지맛 혼합 50스틱 (샤인머스캣/망고구아바/파인애플/피치/베리)', '[바이오가]등드름 바디워시 베타인살리실레이트', '[맥심]카누 미니 마일드 130T+130T 총260T: 공유의 커피~', '[미쁘]무형광 미쁘핸드타월 핸드타올2겹 5000매 페이퍼타올', '[탑클래스]+사은품)참존 탑클래스 콜라겐 대용량 수분크림 100ml 2개 리프팅 바운스크림', '[임금님표이천]임금님표 이천쌀 알찬미 20kg(10kg2포)', '[남가네설악추어탕]남가네 설악 추어탕 450g12팩', '[HC해피콜]NEW 컴포트 다이아몬드 후라이팬 2종세트 (28팬+28웍) + 스타벅스 기프티콘 증정', '[크록스][크록스 정품] 클래식 크러쉬 클로그 공용샌들 207521-001', '[아디다스]아디다스 여성 아디컬러 트레이닝 반바지 쇼츠 블랙 FM2595', '[언더아머](신세계센텀점)언더아머 (6종택1)남성 HOVR 팬텀 소닉 인피니트 플로우 런닝화 운동화[3025516 3026121 ...', '오아로 쉬폰 원피스 2종 세트', '[농심]카프리썬오렌지망고 200ml 40개', '[티젠]티젠 콤부차 30스틱X2박스 택2', '산지직송 성주참외 랜덤 가정용 10kg 실중량 선별발송 4시간특가', '시즌오프가 1+1 남여공용 비침없는 면 프린팅 티셔츠 장당 3750원 딱 오늘만 가능한 가격', '[지오다노]15%쿠폰 지오다노 SS 여름 PK티셔츠/셔츠/슬랙스 외', '[서울우유]멸균우유 200ml x 24입 (1박스)', '[지오지아]22%쿠폰 지오지아 여름 필수템 남자의 여름코디추천', '아동/성인 여름샌들 아쿠아슈즈 남녀캐주얼화 학생용실내화', '[버팔로][BUFFALO] 프리미엄 블랙라벨 구명조끼', '[햇살드리(양곡)]수향미 골든퀸 수향미 10kg 단일품종 상등급', '[아이깨끗해]아이깨끗해 4.5L 대용량 +사은품 490ml 공용기', '[닥터린]닥터린 초임계 알티지(rTG) 오메가3 5개월분 (7/24 파격특가+10%쿠폰+락티움 증정)', '(VER SET / JEWEL SET) SHOWNU X HYUNGWON THE 1ST MINI ALBUM THE UNSEEN', '덴마크 유산균 이야기 170gx60캡슐 프로바이오틱스']\n"
     ]
    }
   ],
   "source": [
    "print(title_list)"
   ]
  },
  {
   "cell_type": "markdown",
   "id": "4a3d6591",
   "metadata": {},
   "source": [
    "# selenium 실행하고 상품명, 가격, 별점 정보 저장"
   ]
  },
  {
   "cell_type": "code",
   "execution_count": 5,
   "id": "0212841f",
   "metadata": {},
   "outputs": [],
   "source": [
    "from selenium import webdriver\n",
    "from selenium.webdriver.common.by import By\n",
    "from selenium.webdriver.common.keys import Keys\n",
    "from selenium.webdriver.chrome.service import Service\n",
    "\n",
    "#상품명, 가격, 별점 정보를 저장할 빈 리스트를 생성\n",
    "title_list = list()\n",
    "price_list = list()\n",
    "star_list = list()\n",
    "\n",
    "# ChromeDriver의 경로를 지정하고, WebDriver 인스턴스를 생성합니다.\n",
    "driver = webdriver.Chrome()\n",
    "\n",
    "# 지마켓의 메인 페이지를 엽니다.\n",
    "driver.get('https://www.gmarket.co.kr')\n",
    "\n",
    "# 검색어를 입력할 수 있는 input 요소를 찾습니다.\n",
    "search_box = driver.find_element(By.NAME, 'keyword')\n",
    "\n",
    "# 검색어를 입력하고, Enter 키를 눌러 검색을 실행합니다.\n",
    "search_box.send_keys('손풍기')\n",
    "search_box.send_keys(Keys.RETURN)\n",
    "\n",
    "# 결과 페이지가 로드될 때까지 잠시 기다립니다.\n",
    "driver.implicitly_wait(3)\n",
    "\n",
    "# 정보를 담은 박스를 선택합니다.\n",
    "search_results = driver.find_elements(By.CSS_SELECTOR, 'div.box__information') #tag는 '#' class는 '.'이다\n",
    "\n",
    "for result in search_results:\n",
    "    #만족도가 없을 수도 있기에 try except문을 활용\n",
    "    try:\n",
    "        title_element = result.find_element(By.CSS_SELECTOR, 'span.text__item')\n",
    "        price_element = result.find_element(By.CSS_SELECTOR, 'div.box__price-seller > strong')\n",
    "        star_element = result.find_element(By.CSS_SELECTOR, 'span.image__awards-points > span')\n",
    "        title_list.append(title_element.text)\n",
    "        price_list.append(price_element.text)\n",
    "        star_list.append(star_element.text)\n",
    "    except:\n",
    "        pass\n",
    "    \n",
    "# 작업이 끝나면 WebDriver를 종료하여 브라우저 창을 닫습니다.\n",
    "driver.quit()"
   ]
  },
  {
   "cell_type": "markdown",
   "id": "d5562181",
   "metadata": {},
   "source": [
    "# 데이터 프레임으로 저장하고 Excel 파일로 저장하기"
   ]
  },
  {
   "cell_type": "code",
   "execution_count": 7,
   "id": "6a7f288f",
   "metadata": {},
   "outputs": [],
   "source": [
    "import pandas as pd\n",
    "\n",
    "gmarket_selenium_df = pd.DataFrame([title_list, price_list, star_list]).T"
   ]
  },
  {
   "cell_type": "code",
   "execution_count": 8,
   "id": "7a392265",
   "metadata": {},
   "outputs": [],
   "source": [
    "gmarket_selenium_df.columns = ['상품명', '판매가', '만족도']"
   ]
  },
  {
   "cell_type": "code",
   "execution_count": 9,
   "id": "176e224f",
   "metadata": {},
   "outputs": [
    {
     "data": {
      "text/html": [
       "<div>\n",
       "<style scoped>\n",
       "    .dataframe tbody tr th:only-of-type {\n",
       "        vertical-align: middle;\n",
       "    }\n",
       "\n",
       "    .dataframe tbody tr th {\n",
       "        vertical-align: top;\n",
       "    }\n",
       "\n",
       "    .dataframe thead th {\n",
       "        text-align: right;\n",
       "    }\n",
       "</style>\n",
       "<table border=\"1\" class=\"dataframe\">\n",
       "  <thead>\n",
       "    <tr style=\"text-align: right;\">\n",
       "      <th></th>\n",
       "      <th>상품명</th>\n",
       "      <th>판매가</th>\n",
       "      <th>만족도</th>\n",
       "    </tr>\n",
       "  </thead>\n",
       "  <tbody>\n",
       "    <tr>\n",
       "      <th>0</th>\n",
       "      <td>초경량 1+1 미소양품 프리미엄 소형 미니 휴대용 핸디 손 선풍기</td>\n",
       "      <td>29,900</td>\n",
       "      <td></td>\n",
       "    </tr>\n",
       "    <tr>\n",
       "      <th>1</th>\n",
       "      <td>휴대용 선풍기 냉풍기 무선 저소음 각도조절 미니 써큘레이터</td>\n",
       "      <td>37,900</td>\n",
       "      <td></td>\n",
       "    </tr>\n",
       "    <tr>\n",
       "      <th>2</th>\n",
       "      <td>휴대용선풍기 휴대용목걸이 미니 손선풍기 RX-8820</td>\n",
       "      <td>17,300</td>\n",
       "      <td></td>\n",
       "    </tr>\n",
       "    <tr>\n",
       "      <th>3</th>\n",
       "      <td>C.ONE 목에거는 휴대용선풍기 넥선풍기 NAVY</td>\n",
       "      <td>29,900</td>\n",
       "      <td>만족도 92% 입니다.</td>\n",
       "    </tr>\n",
       "    <tr>\n",
       "      <th>4</th>\n",
       "      <td>슈틸루스터 에어컨 선풍기 올리브 season2 ST-AF200</td>\n",
       "      <td>45,900</td>\n",
       "      <td>만족도 76% 입니다.</td>\n",
       "    </tr>\n",
       "    <tr>\n",
       "      <th>...</th>\n",
       "      <td>...</td>\n",
       "      <td>...</td>\n",
       "      <td>...</td>\n",
       "    </tr>\n",
       "    <tr>\n",
       "      <th>94</th>\n",
       "      <td>1+1 휴대용 집게 선풍기 6인치대형팬 BLDC 탁상용 유모차선풍기 OEF-6FAN</td>\n",
       "      <td>27,900</td>\n",
       "      <td>만족도 92% 입니다.</td>\n",
       "    </tr>\n",
       "    <tr>\n",
       "      <th>95</th>\n",
       "      <td>휴대용 넥밴드 선풍기 넥 목 목걸이 유팬 목풍기 BI-NF8 블랙</td>\n",
       "      <td>33,060</td>\n",
       "      <td>만족도 82% 입니다.</td>\n",
       "    </tr>\n",
       "    <tr>\n",
       "      <th>96</th>\n",
       "      <td>휴대용 넥밴드 선풍기 충전식 넥선풍기 A206 그린</td>\n",
       "      <td>22,500</td>\n",
       "      <td>만족도 66% 입니다.</td>\n",
       "    </tr>\n",
       "    <tr>\n",
       "      <th>97</th>\n",
       "      <td>무선 휴대용 선풍기 TS-8DF45(화이트) 미니 탁상용 1+1</td>\n",
       "      <td>46,800</td>\n",
       "      <td>만족도 94% 입니다.</td>\n",
       "    </tr>\n",
       "    <tr>\n",
       "      <th>98</th>\n",
       "      <td>엑스 포켓 넥밴드 목걸이 휴대용선풍기 SX-NF21W</td>\n",
       "      <td>24,800</td>\n",
       "      <td>만족도 100% 입니다.</td>\n",
       "    </tr>\n",
       "  </tbody>\n",
       "</table>\n",
       "<p>99 rows × 3 columns</p>\n",
       "</div>"
      ],
      "text/plain": [
       "                                               상품명     판매가            만족도\n",
       "0             초경량 1+1 미소양품 프리미엄 소형 미니 휴대용 핸디 손 선풍기  29,900               \n",
       "1                 휴대용 선풍기 냉풍기 무선 저소음 각도조절 미니 써큘레이터  37,900               \n",
       "2                    휴대용선풍기 휴대용목걸이 미니 손선풍기 RX-8820  17,300               \n",
       "3                      C.ONE 목에거는 휴대용선풍기 넥선풍기 NAVY  29,900   만족도 92% 입니다.\n",
       "4               슈틸루스터 에어컨 선풍기 올리브 season2 ST-AF200  45,900   만족도 76% 입니다.\n",
       "..                                             ...     ...            ...\n",
       "94  1+1 휴대용 집게 선풍기 6인치대형팬 BLDC 탁상용 유모차선풍기 OEF-6FAN  27,900   만족도 92% 입니다.\n",
       "95            휴대용 넥밴드 선풍기 넥 목 목걸이 유팬 목풍기 BI-NF8 블랙  33,060   만족도 82% 입니다.\n",
       "96                    휴대용 넥밴드 선풍기 충전식 넥선풍기 A206 그린  22,500   만족도 66% 입니다.\n",
       "97             무선 휴대용 선풍기 TS-8DF45(화이트) 미니 탁상용 1+1  46,800   만족도 94% 입니다.\n",
       "98                   엑스 포켓 넥밴드 목걸이 휴대용선풍기 SX-NF21W  24,800  만족도 100% 입니다.\n",
       "\n",
       "[99 rows x 3 columns]"
      ]
     },
     "execution_count": 9,
     "metadata": {},
     "output_type": "execute_result"
    }
   ],
   "source": [
    "gmarket_selenium_df"
   ]
  },
  {
   "cell_type": "code",
   "execution_count": 10,
   "id": "ec181364",
   "metadata": {},
   "outputs": [],
   "source": [
    "def extract_comma(x):\n",
    "    price = int(x.replace(\",\", \"\")) #replace로 쉼표까지 제거하고 int로 변환\n",
    "    return price"
   ]
  },
  {
   "cell_type": "code",
   "execution_count": 11,
   "id": "9b7d9fb6",
   "metadata": {},
   "outputs": [],
   "source": [
    "gmarket_selenium_df['판매가'] = gmarket_selenium_df['판매가'].apply(extract_comma)"
   ]
  },
  {
   "cell_type": "code",
   "execution_count": 12,
   "id": "9164b40b",
   "metadata": {},
   "outputs": [],
   "source": [
    "import re\n",
    "\n",
    "def extract_stars(x):\n",
    "    ext = re.findall(\"\\d+%\", x)\n",
    "    #데이터가 빈 경우가 있으므로 try, except문 사용\n",
    "    try:\n",
    "        stars = int(ext[0].replace('%', \"\")) #%를 제거한 뒤 int로 변환\n",
    "    except:\n",
    "        pass\n",
    "    return stars if ext else None #데이터가 있을 경우 stars를 반환, 아닐 경우 None을 반환"
   ]
  },
  {
   "cell_type": "code",
   "execution_count": 13,
   "id": "230d91f7",
   "metadata": {},
   "outputs": [],
   "source": [
    "gmarket_selenium_df['만족도'] = gmarket_selenium_df['만족도'].apply(extract_stars)"
   ]
  },
  {
   "cell_type": "code",
   "execution_count": 14,
   "id": "a25fd9f2",
   "metadata": {},
   "outputs": [],
   "source": [
    "gmarket_selenium_df = gmarket_selenium_df.dropna().reset_index().iloc[:, 1:]"
   ]
  },
  {
   "cell_type": "code",
   "execution_count": 15,
   "id": "7c58aa80",
   "metadata": {},
   "outputs": [],
   "source": [
    "gmarket_selenium_df.to_excel('gmarket_handfan_stars.xlsx')"
   ]
  },
  {
   "cell_type": "markdown",
   "id": "991f806a",
   "metadata": {},
   "source": [
    "# 과제 (100점)"
   ]
  },
  {
   "cell_type": "markdown",
   "id": "f2f4a5c1",
   "metadata": {},
   "source": [
    "#### 본인이 관심 있는 키워드에 대해서 해당 크롤링을 반복해서 수행하시오. 데이터를 수집하여 excel 파일로 저장하시오."
   ]
  },
  {
   "cell_type": "code",
   "execution_count": 1,
   "id": "33c4a281",
   "metadata": {},
   "outputs": [],
   "source": [
    "#1. 필요한 라이브러리 import 하기 (10점)\n",
    "from selenium import webdriver\n",
    "from selenium.webdriver.common.by import By\n",
    "from selenium.webdriver.common.keys import Keys\n",
    "from selenium.webdriver.chrome.service import Service\n",
    "import pandas as pd\n",
    "import re"
   ]
  },
  {
   "cell_type": "code",
   "execution_count": 2,
   "id": "895a50b8",
   "metadata": {},
   "outputs": [],
   "source": [
    "#2. 본인이 관심 있는 키워드에 대해서 크롤링을 수행하고 상품명, 가격, 별점 정보 저장하기 (40점)\n",
    "driver = webdriver.Chrome()\n",
    "driver.get(\"https://www.gmarket.co.kr\")\n",
    "\n",
    "search_box = driver.find_element(By.NAME, 'keyword')\n",
    "search_box.send_keys('축구공')\n",
    "search_box.send_keys(Keys.RETURN)\n",
    "\n",
    "driver.implicitly_wait(3)\n",
    "\n",
    "search_results = driver.find_elements(By.CSS_SELECTOR, 'div.box__information') \n",
    "\n",
    "title_list = list()\n",
    "price_list = list()\n",
    "star_list = list()\n",
    "\n",
    "for result in search_results:\n",
    "    #만족도가 없을 수도 있기에 try except문을 활용\n",
    "    try:\n",
    "        title_element = result.find_element(By.CSS_SELECTOR, 'span.text__item')\n",
    "        price_element = result.find_element(By.CSS_SELECTOR, 'div.box__price-seller > strong')\n",
    "        star_element = result.find_element(By.CSS_SELECTOR, 'span.image__awards-points > span')\n",
    "        title_list.append(title_element.text)\n",
    "        price_list.append(price_element.text)\n",
    "        star_list.append(star_element.text)\n",
    "    except:\n",
    "        pass\n",
    "\n",
    "driver.quit()"
   ]
  },
  {
   "cell_type": "code",
   "execution_count": 4,
   "id": "41240fbc",
   "metadata": {},
   "outputs": [],
   "source": [
    "def extract_comma(x):\n",
    "    price = int(x.replace(\",\", \"\")) #replace로 쉼표까지 제거하고 int로 변환\n",
    "    return price\n",
    "\n",
    "def extract_stars(x):\n",
    "    ext = re.findall(\"\\d+%\", x)\n",
    "    #데이터가 빈 경우가 있으므로 try, except문 사용\n",
    "    try:\n",
    "        stars = int(ext[0].replace('%', \"\")) #%를 제거한 뒤 int로 변환\n",
    "    except:\n",
    "        pass\n",
    "    return stars if ext else None #데이터가 있을 경우 stars를 반환, 아닐 경우 None을 반환"
   ]
  },
  {
   "cell_type": "code",
   "execution_count": 5,
   "id": "99c586a5",
   "metadata": {},
   "outputs": [],
   "source": [
    "#3. 적절히 데이터 전처리를 하여 DataFrame 객체로 만들고 Excel 파일로 저장하기 (50점)\n",
    "#이때, DataFrame의 열은 \"상품명, 판매가, 만족도\"로 구성되어야 함.\n",
    "df = pd.DataFrame([title_list, price_list, star_list]).T\n",
    "df.columns = ['상품명', '판매가', '만족도']\n",
    "\n",
    "df['판매가'] = df['판매가'].apply(extract_comma)\n",
    "df['만족도'] = df['만족도'].apply(extract_stars)\n",
    "df = df.dropna().reset_index().iloc[:, 1:]\n",
    "df.to_excel('gmarket_soccerball_stars.xlsx')"
   ]
  }
 ],
 "metadata": {
  "kernelspec": {
   "display_name": "Python 3 (ipykernel)",
   "language": "python",
   "name": "python3"
  },
  "language_info": {
   "codemirror_mode": {
    "name": "ipython",
    "version": 3
   },
   "file_extension": ".py",
   "mimetype": "text/x-python",
   "name": "python",
   "nbconvert_exporter": "python",
   "pygments_lexer": "ipython3",
   "version": "3.10.11"
  }
 },
 "nbformat": 4,
 "nbformat_minor": 5
}
