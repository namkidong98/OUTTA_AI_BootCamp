{
 "cells": [
  {
   "cell_type": "markdown",
   "metadata": {},
   "source": [
    "# **4. 인덱싱과 슬라이싱**"
   ]
  },
  {
   "cell_type": "markdown",
   "metadata": {},
   "source": [
    "- 인덱스: 여러 원소를 가지고 있는 객체(리스트, 튜플, 배열 등)에 부여되는 번호\n",
    "- 슬라이싱: 여러 원소를 가지고 있는 객체의 일부를 추출하는 것\n",
    "\n",
    "\n",
    "---\n",
    "\n",
    "\n",
    "- 파이썬의 List와 동일하게 ndarray도 인덱싱과 슬라이싱 사용 가능"
   ]
  },
  {
   "cell_type": "code",
   "execution_count": 1,
   "metadata": {},
   "outputs": [],
   "source": [
    "import numpy as np"
   ]
  },
  {
   "cell_type": "markdown",
   "metadata": {},
   "source": [
    "정리본\n",
    "\n",
    "1. "
   ]
  },
  {
   "cell_type": "markdown",
   "metadata": {},
   "source": [
    "### 1) Indexing (인덱싱)"
   ]
  },
  {
   "cell_type": "code",
   "execution_count": 2,
   "metadata": {},
   "outputs": [
    {
     "data": {
      "text/plain": [
       "array([[ 8, 10],\n",
       "       [ 2,  4],\n",
       "       [ 1,  8]])"
      ]
     },
     "execution_count": 2,
     "metadata": {},
     "output_type": "execute_result"
    }
   ],
   "source": [
    "# 1부터 10까지 수 중 랜덤하게 6개의 수가 추출된 'arr1'이라는 배열\n",
    "# shape: 3X2인 2차원 배열\n",
    "arr1 = np.random.randint(1, 11, (3, 2))\n",
    "arr1"
   ]
  },
  {
   "cell_type": "code",
   "execution_count": 3,
   "metadata": {},
   "outputs": [
    {
     "data": {
      "text/plain": [
       "array([ 8, 10])"
      ]
     },
     "execution_count": 3,
     "metadata": {},
     "output_type": "execute_result"
    }
   ],
   "source": [
    "# 1행 출력\n",
    "arr1[0] # 행을 출력하는 것은 새로운 ndarray로 반환"
   ]
  },
  {
   "cell_type": "code",
   "execution_count": 4,
   "metadata": {},
   "outputs": [
    {
     "data": {
      "text/plain": [
       "2"
      ]
     },
     "execution_count": 4,
     "metadata": {},
     "output_type": "execute_result"
    }
   ],
   "source": [
    "# 2행 1열의 원소 출력\n",
    "arr1[1][0] # 원소는 ndarray의 자료형에 맞게 반환"
   ]
  },
  {
   "cell_type": "code",
   "execution_count": 6,
   "metadata": {},
   "outputs": [
    {
     "data": {
      "text/plain": [
       "2"
      ]
     },
     "execution_count": 6,
     "metadata": {},
     "output_type": "execute_result"
    }
   ],
   "source": [
    "arr1[1, 0] # 중간에 ,를 사용하는 것으로도 인덱싱할 수 있다(row, column 순서)"
   ]
  },
  {
   "cell_type": "markdown",
   "metadata": {},
   "source": [
    "### 2) Slicing (슬라이싱)"
   ]
  },
  {
   "cell_type": "markdown",
   "metadata": {},
   "source": [
    "- 1차원 배열의 슬라이싱"
   ]
  },
  {
   "cell_type": "code",
   "execution_count": 7,
   "metadata": {},
   "outputs": [
    {
     "data": {
      "text/plain": [
       "array([10, 11, 12, 13, 14, 15, 16, 17, 18, 19])"
      ]
     },
     "execution_count": 7,
     "metadata": {},
     "output_type": "execute_result"
    }
   ],
   "source": [
    "# 10부터 19까지 연속적인 수로 이루어진 'arr2'라는 배열\n",
    "# shape: 1차원 배열\n",
    "arr2 = np.arange(10, 20, 1)\n",
    "arr2"
   ]
  },
  {
   "cell_type": "code",
   "execution_count": 8,
   "metadata": {},
   "outputs": [
    {
     "data": {
      "text/plain": [
       "array([14, 15, 16])"
      ]
     },
     "execution_count": 8,
     "metadata": {},
     "output_type": "execute_result"
    }
   ],
   "source": [
    "# index가 4부터 6까지인 원소 출력\n",
    "arr2[4:7]"
   ]
  },
  {
   "cell_type": "code",
   "execution_count": 9,
   "metadata": {},
   "outputs": [
    {
     "data": {
      "text/plain": [
       "array([16, 17, 18, 19])"
      ]
     },
     "execution_count": 9,
     "metadata": {},
     "output_type": "execute_result"
    }
   ],
   "source": [
    "# index가 6 이상인 원소 출력\n",
    "arr2[6:]"
   ]
  },
  {
   "cell_type": "code",
   "execution_count": 10,
   "metadata": {},
   "outputs": [
    {
     "data": {
      "text/plain": [
       "array([10, 11, 12, 13, 14, 15, 20, 20, 20, 20])"
      ]
     },
     "execution_count": 10,
     "metadata": {},
     "output_type": "execute_result"
    }
   ],
   "source": [
    "# index가 6 이상인 원소를 모두 20으로 바꾸기\n",
    "arr2[6:] = 20 # 슬라이싱 하여 해당 부분을 가져오고 20을 대입하여 리스트의 원소를 변화시키는 방식\n",
    "arr2"
   ]
  },
  {
   "cell_type": "markdown",
   "metadata": {},
   "source": [
    "- 다차원 배열의 슬라이싱"
   ]
  },
  {
   "cell_type": "code",
   "execution_count": 11,
   "metadata": {},
   "outputs": [
    {
     "data": {
      "text/plain": [
       "array([[1, 2, 3],\n",
       "       [4, 5, 6],\n",
       "       [7, 8, 9]])"
      ]
     },
     "execution_count": 11,
     "metadata": {},
     "output_type": "execute_result"
    }
   ],
   "source": [
    "# 1부터 9까지 연속적인 수로 이루어진 'arr3'라는 배열\n",
    "# shape: 3X3인 2차원 배열\n",
    "arr3 = np.arange(1, 10).reshape(3, 3)\n",
    "arr3"
   ]
  },
  {
   "cell_type": "code",
   "execution_count": 16,
   "metadata": {},
   "outputs": [
    {
     "data": {
      "text/plain": [
       "array([[2, 3],\n",
       "       [5, 6]])"
      ]
     },
     "execution_count": 16,
     "metadata": {},
     "output_type": "execute_result"
    }
   ],
   "source": [
    "# 2, 3, 5, 6으로 구성된 2차원 배열 출력\n",
    "arr3[:2, 1:] # 콤마(,)를 이용하여 앞에는 row를, 뒤에는 column을 슬라이싱하였다\n",
    "# arr3[:2] # 행을 기준으로 0부터 1(2미만)까지를 슬라이싱"
   ]
  },
  {
   "cell_type": "code",
   "execution_count": 19,
   "metadata": {},
   "outputs": [
    {
     "data": {
      "text/plain": [
       "array([[1, 2, 3],\n",
       "       [4, 5, 6]])"
      ]
     },
     "execution_count": 19,
     "metadata": {},
     "output_type": "execute_result"
    }
   ],
   "source": [
    "# 1행과 2행 출력\n",
    "arr3[:2, :] #row는 시작(0)부터 1(2미만)까지 슬라이싱, column은 전체\n",
    "            #arr3[:2]와 동일한 출력"
   ]
  },
  {
   "cell_type": "code",
   "execution_count": 22,
   "metadata": {},
   "outputs": [
    {
     "name": "stdout",
     "output_type": "stream",
     "text": [
      "[[2]\n",
      " [5]\n",
      " [8]]\n",
      "\n",
      "[2 5 8]\n"
     ]
    }
   ],
   "source": [
    "# 2열 출력\n",
    "print(arr3[:, 1:2]) # 기존 arr3의 구조를 유지하면서 원하는 열(column)을 출력\n",
    "print()\n",
    "print(arr3[:, 1])   # 기존 arr3의 구조를 무시하고 1차원 배열로 원했던 열(column)의 원소들을 출력"
   ]
  },
  {
   "cell_type": "code",
   "execution_count": 23,
   "metadata": {},
   "outputs": [
    {
     "ename": "ValueError",
     "evalue": "cannot convert float NaN to integer",
     "output_type": "error",
     "traceback": [
      "\u001b[1;31m---------------------------------------------------------------------------\u001b[0m",
      "\u001b[1;31mValueError\u001b[0m                                Traceback (most recent call last)",
      "Cell \u001b[1;32mIn[23], line 4\u001b[0m\n\u001b[0;32m      1\u001b[0m \u001b[39m# 2, 3, 5, 6을 모두 결측치로 바꾸기\u001b[39;00m\n\u001b[0;32m      2\u001b[0m \u001b[39m# 결측치: 데이터에 값이 없는 것 (NaN, null, None)\u001b[39;00m\n\u001b[0;32m      3\u001b[0m \u001b[39m# 결측치 != 0, False\u001b[39;00m\n\u001b[1;32m----> 4\u001b[0m arr3[:\u001b[39m2\u001b[39;49m, \u001b[39m1\u001b[39;49m:] \u001b[39m=\u001b[39m np\u001b[39m.\u001b[39mnan\n",
      "\u001b[1;31mValueError\u001b[0m: cannot convert float NaN to integer"
     ]
    }
   ],
   "source": [
    "# 2, 3, 5, 6을 모두 결측치로 바꾸기\n",
    "# 결측치: 데이터에 값이 없는 것 (NaN, null, None)\n",
    "# 결측치 != 0, False\n",
    "arr3[:2, 1:] = np.nan\n",
    "\n",
    "# 오류가 발생하는 이유는 nan은 기존 원소의 자료형이 float일 때만 변환시킬 수 있기 때문이다"
   ]
  },
  {
   "cell_type": "code",
   "execution_count": 24,
   "metadata": {},
   "outputs": [
    {
     "data": {
      "text/plain": [
       "array([[ 1., nan, nan],\n",
       "       [ 4., nan, nan],\n",
       "       [ 7.,  8.,  9.]])"
      ]
     },
     "execution_count": 24,
     "metadata": {},
     "output_type": "execute_result"
    }
   ],
   "source": [
    "# numpy에서 자료형이 float일 때만 결측치 삽입 가능\n",
    "arr3 = arr3.astype('float64')\n",
    "arr3[:2, 1:] = np.nan\n",
    "arr3"
   ]
  },
  {
   "cell_type": "markdown",
   "metadata": {},
   "source": [
    "### 3) 마스킹 연산 (boolean 인덱싱)"
   ]
  },
  {
   "cell_type": "markdown",
   "metadata": {},
   "source": [
    "- 마스킹 연산: 조건에 부합하는 데이터만 추출하는 방법"
   ]
  },
  {
   "cell_type": "code",
   "execution_count": 26,
   "metadata": {},
   "outputs": [
    {
     "data": {
      "text/plain": [
       "array([[ 0.51321955, -1.08171034,  0.01671173, -0.31144897, -0.62580861],\n",
       "       [-2.12342481, -0.73150296,  0.75523104,  0.39236703,  0.32208269],\n",
       "       [ 0.8792229 ,  0.13566858, -0.86654452,  1.05276389,  0.73503426],\n",
       "       [-0.02417307, -1.02628816,  1.48565166, -0.18021896, -0.22423662],\n",
       "       [-0.65116128, -0.26367812,  2.47826164, -1.43624954, -0.29219381]])"
      ]
     },
     "execution_count": 26,
     "metadata": {},
     "output_type": "execute_result"
    }
   ],
   "source": [
    "# 난수가 표준정규분포 따르는 'arr4'라는 배열 생성\n",
    "# shape: 5X5인 2차원 배열\n",
    "arr4 = np.random.randn(5, 5)\n",
    "arr4"
   ]
  },
  {
   "cell_type": "code",
   "execution_count": 27,
   "metadata": {},
   "outputs": [
    {
     "data": {
      "text/plain": [
       "array([[ True, False,  True, False, False],\n",
       "       [False, False,  True,  True,  True],\n",
       "       [ True,  True, False,  True,  True],\n",
       "       [False, False,  True, False, False],\n",
       "       [False, False,  True, False, False]])"
      ]
     },
     "execution_count": 27,
     "metadata": {},
     "output_type": "execute_result"
    }
   ],
   "source": [
    "# arr4 안의 원소가 양수이면 True, 음수이면 False 출력\n",
    "arr4 > 0"
   ]
  },
  {
   "cell_type": "code",
   "execution_count": 29,
   "metadata": {},
   "outputs": [
    {
     "data": {
      "text/plain": [
       "array([[0.51321955, 0.        , 0.01671173, 0.        , 0.        ],\n",
       "       [0.        , 0.        , 0.75523104, 0.39236703, 0.32208269],\n",
       "       [0.8792229 , 0.13566858, 0.        , 1.05276389, 0.73503426],\n",
       "       [0.        , 0.        , 1.48565166, 0.        , 0.        ],\n",
       "       [0.        , 0.        , 2.47826164, 0.        , 0.        ]])"
      ]
     },
     "execution_count": 29,
     "metadata": {},
     "output_type": "execute_result"
    }
   ],
   "source": [
    "# arr4 안의 원소가 음수면 0 삽입\n",
    "arr4[arr4 < 0] = 0 #ndarray의 인덱스에 조건을 넣어주면 조건이 true가 되는 원소만 인덱싱할 수 있다\n",
    "arr4\n"
   ]
  }
 ],
 "metadata": {
  "kernelspec": {
   "display_name": "Python 3",
   "language": "python",
   "name": "python3"
  },
  "language_info": {
   "codemirror_mode": {
    "name": "ipython",
    "version": 3
   },
   "file_extension": ".py",
   "mimetype": "text/x-python",
   "name": "python",
   "nbconvert_exporter": "python",
   "pygments_lexer": "ipython3",
   "version": "3.10.11"
  },
  "orig_nbformat": 4
 },
 "nbformat": 4,
 "nbformat_minor": 2
}
