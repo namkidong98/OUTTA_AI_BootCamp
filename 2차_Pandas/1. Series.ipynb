{
 "cells": [
  {
   "cell_type": "markdown",
   "metadata": {},
   "source": [
    "# **1. Series**"
   ]
  },
  {
   "cell_type": "code",
   "execution_count": 1,
   "metadata": {},
   "outputs": [],
   "source": [
    "import numpy as np\n",
    "import pandas as pd"
   ]
  },
  {
   "cell_type": "markdown",
   "metadata": {},
   "source": [
    "# 정리본\n",
    "\n",
    "### Series 객체(object) 생성\n",
    "- **obj = pd.Series(data, index = )** : data를 index와 연결지어 Series 객체 생성 (list, tuple, dictionary, ndarray 가능)\n",
    "\n",
    "### Series 속성(attribute) 확인\n",
    "- **obj.index** : Series 객체의 인덱스를 반환\n",
    "\n",
    "- **obj.values** : Series 객체의 데이터를 반환\n",
    "\n",
    "- **obj.isnull()** : Series 객체의 각 key(index)마다 결측치(NaN)이 있으면 True로 없으면 False로 반환\n",
    "\n",
    "- **obj.notnull()** : isnull의 반대로 bool을 반환\n",
    "\n",
    "### Series 데이터 선택\n",
    "- **obj[ index명 ]** : 해당 인덱스 명의 value를 반환\n",
    "    <br> cf) obj [ [ index1, index2, ... ] ] : 여러 개의 인덱스를 쓸 때는 리스트로 묶어서 사용\n",
    "\n",
    "- **obj.loc[ index명 ]** : 해당 인덱스명의 value를 반환 (슬라이싱도 가능)\n",
    "\n",
    "- **obj.iloc[ index number ]** : 해당 인덱스의 value를 반환 (슬라이싱도 가능)\n",
    "\n",
    "### Series 데이터 연산\n",
    "- **obj.sum(), obj.mean()** : 집계 함수 사용 가능\n",
    "\n",
    "- **obj1 + obj2** : 같은 index명의 value들을 더한다 (결측치가 하나라도 있으면 결과도 결측치가 된다)\n",
    "\n",
    "- **obj1.add(obj2, fill_value = 숫자)** : 결측치에 원하는 숫자를 기입한 후 연산을 수행한다"
   ]
  },
  {
   "cell_type": "markdown",
   "metadata": {},
   "source": [
    "### 1) Series 객체 생성"
   ]
  },
  {
   "cell_type": "markdown",
   "metadata": {},
   "source": [
    "```\n",
    "pd.Series(data, index = )\n",
    "```\n"
   ]
  },
  {
   "cell_type": "markdown",
   "metadata": {},
   "source": [
    "![series_피카츄.png](data:image/png;base64,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)"
   ]
  },
  {
   "cell_type": "code",
   "execution_count": 2,
   "metadata": {},
   "outputs": [
    {
     "data": {
      "text/plain": [
       "이름    피카츄\n",
       "속성     전기\n",
       "HP     35\n",
       "공격     55\n",
       "방어     40\n",
       "dtype: object"
      ]
     },
     "execution_count": 2,
     "metadata": {},
     "output_type": "execute_result"
    }
   ],
   "source": [
    "# [방법1] list 사용\n",
    "obj = pd.Series(['피카츄', '전기', 35, 55, 40],\n",
    "                index = ['이름', '속성', 'HP', '공격', '방어'])\n",
    "obj"
   ]
  },
  {
   "cell_type": "code",
   "execution_count": 3,
   "metadata": {},
   "outputs": [
    {
     "data": {
      "text/plain": [
       "이름    피카츄\n",
       "속성     전기\n",
       "HP     35\n",
       "공격     55\n",
       "방어     40\n",
       "dtype: object"
      ]
     },
     "execution_count": 3,
     "metadata": {},
     "output_type": "execute_result"
    }
   ],
   "source": [
    "# [방법2] tuple 사용\n",
    "# 데이터 값 : 'value' 변수에 저장\n",
    "# index 값 : 'index_name' 변수에 저장\n",
    "value = ('피카츄', '전기', 35, 55, 40)\n",
    "index_name = ('이름', '속성', 'HP', '공격', '방어')\n",
    "obj = pd.Series(value, index = index_name)\n",
    "obj"
   ]
  },
  {
   "cell_type": "code",
   "execution_count": 28,
   "metadata": {},
   "outputs": [
    {
     "data": {
      "text/plain": [
       "이름    피카츄\n",
       "속성     전기\n",
       "HP     35\n",
       "공격     55\n",
       "방어     40\n",
       "dtype: object"
      ]
     },
     "execution_count": 28,
     "metadata": {},
     "output_type": "execute_result"
    }
   ],
   "source": [
    "# pd.Series의 인자로 튜플을 그래도 전달하는 것도 가능\n",
    "obj = pd.Series(('피카츄', '전기', 35, 55, 40), index=('이름', '속성', 'HP', '공격', '방어'))\n",
    "obj"
   ]
  },
  {
   "cell_type": "code",
   "execution_count": 4,
   "metadata": {},
   "outputs": [
    {
     "data": {
      "text/plain": [
       "이름    피카츄\n",
       "속성     전기\n",
       "HP     35\n",
       "공격     55\n",
       "방어     40\n",
       "dtype: object"
      ]
     },
     "execution_count": 4,
     "metadata": {},
     "output_type": "execute_result"
    }
   ],
   "source": [
    "# [방법3] Dictionary 사용\n",
    "obj = pd.Series({'이름':'피카츄', '속성':'전기', 'HP':35, '공격':55, '방어':40})\n",
    "obj"
   ]
  },
  {
   "cell_type": "markdown",
   "metadata": {},
   "source": [
    "### 2) Series 속성 확인"
   ]
  },
  {
   "cell_type": "code",
   "execution_count": 5,
   "metadata": {},
   "outputs": [
    {
     "data": {
      "text/plain": [
       "Index(['이름', '속성', 'HP', '공격', '방어'], dtype='object')"
      ]
     },
     "execution_count": 5,
     "metadata": {},
     "output_type": "execute_result"
    }
   ],
   "source": [
    "# obj 객체의 index 확인\n",
    "obj.index"
   ]
  },
  {
   "cell_type": "code",
   "execution_count": 6,
   "metadata": {},
   "outputs": [
    {
     "data": {
      "text/plain": [
       "array(['피카츄', '전기', 35, 55, 40], dtype=object)"
      ]
     },
     "execution_count": 6,
     "metadata": {},
     "output_type": "execute_result"
    }
   ],
   "source": [
    "# obj 객체의 데이터 값(value) 확인\n",
    "obj.values"
   ]
  },
  {
   "cell_type": "code",
   "execution_count": 7,
   "metadata": {},
   "outputs": [
    {
     "data": {
      "text/plain": [
       "이름    False\n",
       "속성    False\n",
       "HP    False\n",
       "공격    False\n",
       "방어    False\n",
       "dtype: bool"
      ]
     },
     "execution_count": 7,
     "metadata": {},
     "output_type": "execute_result"
    }
   ],
   "source": [
    "# obj 객체의 결측치 확인\n",
    "# 결측치인 값: True 출력, 결측치가 아닌 값: False 출력\n",
    "obj.isnull()"
   ]
  },
  {
   "cell_type": "code",
   "execution_count": 8,
   "metadata": {},
   "outputs": [
    {
     "data": {
      "text/plain": [
       "이름    True\n",
       "속성    True\n",
       "HP    True\n",
       "공격    True\n",
       "방어    True\n",
       "dtype: bool"
      ]
     },
     "execution_count": 8,
     "metadata": {},
     "output_type": "execute_result"
    }
   ],
   "source": [
    "# obj 객체의 결측치 확인\n",
    "# 결측치인 값: False 출력, 결측치가 아닌 값: True 출력\n",
    "obj.notnull()"
   ]
  },
  {
   "cell_type": "markdown",
   "metadata": {},
   "source": [
    "### 3) Series 데이터 선택"
   ]
  },
  {
   "cell_type": "markdown",
   "metadata": {},
   "source": [
    "![series_피카츄.png](data:image/png;base64,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)"
   ]
  },
  {
   "cell_type": "markdown",
   "metadata": {},
   "source": [
    "- 피카츄의 속성은 무엇일까? (인덱싱)"
   ]
  },
  {
   "cell_type": "code",
   "execution_count": 9,
   "metadata": {},
   "outputs": [
    {
     "data": {
      "text/plain": [
       "'전기'"
      ]
     },
     "execution_count": 9,
     "metadata": {},
     "output_type": "execute_result"
    }
   ],
   "source": [
    "# [방법1] index 이름 사용\n",
    "obj['속성']"
   ]
  },
  {
   "cell_type": "code",
   "execution_count": 11,
   "metadata": {},
   "outputs": [
    {
     "data": {
      "text/plain": [
       "'전기'"
      ]
     },
     "execution_count": 11,
     "metadata": {},
     "output_type": "execute_result"
    }
   ],
   "source": [
    "# [방법2] loc 사용\n",
    "obj.loc['속성']"
   ]
  },
  {
   "cell_type": "code",
   "execution_count": 13,
   "metadata": {},
   "outputs": [
    {
     "data": {
      "text/plain": [
       "'전기'"
      ]
     },
     "execution_count": 13,
     "metadata": {},
     "output_type": "execute_result"
    }
   ],
   "source": [
    "# [방법3] iloc 사용\n",
    "obj.iloc[1] #index location을 의미하며 index이므로 0부터 시작"
   ]
  },
  {
   "cell_type": "markdown",
   "metadata": {},
   "source": [
    "- 피카츄의 HP, 공격, 방어 수치는? (슬라이싱)\n",
    "\n"
   ]
  },
  {
   "cell_type": "code",
   "execution_count": 15,
   "metadata": {},
   "outputs": [
    {
     "data": {
      "text/plain": [
       "HP    35\n",
       "공격    55\n",
       "방어    40\n",
       "dtype: object"
      ]
     },
     "execution_count": 15,
     "metadata": {},
     "output_type": "execute_result"
    }
   ],
   "source": [
    "# [방법1] index 이름 사용\n",
    "obj[['HP', '공격', '방어']] #대괄호가 2개 필요하다는 점을 주의!!"
   ]
  },
  {
   "cell_type": "code",
   "execution_count": 16,
   "metadata": {},
   "outputs": [
    {
     "data": {
      "text/plain": [
       "HP    35\n",
       "공격    55\n",
       "방어    40\n",
       "dtype: object"
      ]
     },
     "execution_count": 16,
     "metadata": {},
     "output_type": "execute_result"
    }
   ],
   "source": [
    "# [방법2] loc 사용, index 이름 'HP'부터 '방어'까지 출력\n",
    "obj.loc['HP' : '방어'] #index의 이름으로 슬라이싱 할 때는 stop이 포함이 되고"
   ]
  },
  {
   "cell_type": "code",
   "execution_count": 17,
   "metadata": {},
   "outputs": [
    {
     "data": {
      "text/plain": [
       "HP    35\n",
       "공격    55\n",
       "방어    40\n",
       "dtype: object"
      ]
     },
     "execution_count": 17,
     "metadata": {},
     "output_type": "execute_result"
    }
   ],
   "source": [
    "# [방법3] iloc 사용, index 번호 2부터 4까지 출력\n",
    "obj.iloc[2:5] #index의 번호로 슬라이싱 할 때는 stop이 불포함(미만)이 된다"
   ]
  },
  {
   "cell_type": "markdown",
   "metadata": {},
   "source": [
    "### 4) Series 데이터 연산"
   ]
  },
  {
   "cell_type": "markdown",
   "metadata": {},
   "source": [
    "- 단일 Series내 연산"
   ]
  },
  {
   "cell_type": "code",
   "execution_count": 18,
   "metadata": {},
   "outputs": [
    {
     "data": {
      "text/plain": [
       "이름    피카츄\n",
       "속성     전기\n",
       "HP     70\n",
       "공격     55\n",
       "방어     40\n",
       "dtype: object"
      ]
     },
     "execution_count": 18,
     "metadata": {},
     "output_type": "execute_result"
    }
   ],
   "source": [
    "# 피카츄의 HP가 2배 증가\n",
    "# 데이터 선택 방법: loc을 사용한 인덱싱\n",
    "obj.loc['HP'] = obj.loc['HP'] * 2\n",
    "obj"
   ]
  },
  {
   "cell_type": "code",
   "execution_count": 19,
   "metadata": {},
   "outputs": [
    {
     "data": {
      "text/plain": [
       "이름     피카츄\n",
       "속성      전기\n",
       "HP      70\n",
       "공격    27.5\n",
       "방어    20.0\n",
       "dtype: object"
      ]
     },
     "execution_count": 19,
     "metadata": {},
     "output_type": "execute_result"
    }
   ],
   "source": [
    "# 피카츄의 공격력과 방어력이 2배 감소\n",
    "# 데이터 선택 방법: iloc을 사용한 슬라이싱\n",
    "# 공격(3), 방어(4)\n",
    "obj.iloc[3:] = obj.iloc[3:] / 2     # obj.iloc[3:5] = obj.iloc[3:5] / 2 와 동일한 코드\n",
    "obj"
   ]
  },
  {
   "cell_type": "code",
   "execution_count": 20,
   "metadata": {},
   "outputs": [
    {
     "data": {
      "text/plain": [
       "117.5"
      ]
     },
     "execution_count": 20,
     "metadata": {},
     "output_type": "execute_result"
    }
   ],
   "source": [
    "# HP, 공격, 방어 총합 계산\n",
    "# 데이터 선택 방법: loc을 사용한 슬라이싱\n",
    "# 집계함수 활용\n",
    "obj.loc['HP':'방어'].sum()"
   ]
  },
  {
   "cell_type": "code",
   "execution_count": 21,
   "metadata": {},
   "outputs": [
    {
     "data": {
      "text/plain": [
       "39.166666666666664"
      ]
     },
     "execution_count": 21,
     "metadata": {},
     "output_type": "execute_result"
    }
   ],
   "source": [
    "# HP(2), 공격, 방어(4) 평균 계산\n",
    "# 데이터 선택 방법: iloc을 사용한 슬라이싱\n",
    "# 집계함수 활용\n",
    "obj.iloc[2:].mean()"
   ]
  },
  {
   "cell_type": "markdown",
   "metadata": {},
   "source": [
    "- 2개의 Series간 연산"
   ]
  },
  {
   "cell_type": "markdown",
   "metadata": {},
   "source": [
    "![chlwhd,,.png](data:image/png;base64,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)"
   ]
  },
  {
   "cell_type": "code",
   "execution_count": 22,
   "metadata": {},
   "outputs": [
    {
     "name": "stdout",
     "output_type": "stream",
     "text": [
      "이름     피카츄\n",
      "HP      35\n",
      "공격      55\n",
      "방어      40\n",
      "스피드    NaN\n",
      "dtype: object\n",
      "\n",
      "이름     파이리\n",
      "HP      39\n",
      "공격      52\n",
      "방어     NaN\n",
      "스피드     65\n",
      "dtype: object\n"
     ]
    }
   ],
   "source": [
    "# 위와 같은 2개의 obj1, obj2 series 객체 생성 (결측치는 np.nan 삽입)\n",
    "# obj1은 list를 사용해 series 생성\n",
    "obj1 = pd.Series(['피카츄', 35, 55, 40, np.nan],\n",
    "                 index = ['이름', 'HP', '공격', '방어', '스피드'])\n",
    "\n",
    "# obj2는 dictionary를 사용해 series 생성\n",
    "obj2 = pd.Series({'이름':'파이리', 'HP':39, '공격':52, '방어':np.nan, '스피드':65})\n",
    "\n",
    "print(obj1)\n",
    "print()\n",
    "print(obj2)"
   ]
  },
  {
   "cell_type": "code",
   "execution_count": 23,
   "metadata": {},
   "outputs": [
    {
     "name": "stdout",
     "output_type": "stream",
     "text": [
      "HP      35\n",
      "공격      55\n",
      "방어      40\n",
      "스피드    NaN\n",
      "dtype: object\n",
      "\n",
      "HP      39\n",
      "공격      52\n",
      "방어     NaN\n",
      "스피드     65\n",
      "dtype: object\n"
     ]
    }
   ],
   "source": [
    "# obj1 객체의 수치 부분만 obj1_num 변수에 저장 (loc사용)\n",
    "# obj2 객체의 수치 부분만 obj2_num 변수에 저장 (iloc 사용)\n",
    "obj1_num = obj1.loc['HP' : '스피드']\n",
    "obj2_num = obj2.iloc[1: ]\n",
    "print(obj1_num)\n",
    "print()\n",
    "print(obj2_num)"
   ]
  },
  {
   "cell_type": "code",
   "execution_count": 24,
   "metadata": {},
   "outputs": [
    {
     "data": {
      "text/plain": [
       "HP      74\n",
       "공격     107\n",
       "방어     NaN\n",
       "스피드    NaN\n",
       "dtype: object"
      ]
     },
     "execution_count": 24,
     "metadata": {},
     "output_type": "execute_result"
    }
   ],
   "source": [
    "# obj1_num과 obj2_num 덧셈\n",
    "# 더하기 기호 사용\n",
    "obj1_num + obj2_num     # 둘 중 하나의 객체에라도 결측치(NaN)이 있다면 결과도 결측치가 된다"
   ]
  },
  {
   "cell_type": "code",
   "execution_count": 25,
   "metadata": {},
   "outputs": [
    {
     "data": {
      "text/plain": [
       "HP      74\n",
       "공격     107\n",
       "방어     NaN\n",
       "스피드    NaN\n",
       "dtype: object"
      ]
     },
     "execution_count": 25,
     "metadata": {},
     "output_type": "execute_result"
    }
   ],
   "source": [
    "# obj1_num과 obj2_num 덧셈\n",
    "# .add 함수 사용\n",
    "obj1_num.add(obj2_num)"
   ]
  },
  {
   "cell_type": "code",
   "execution_count": 26,
   "metadata": {},
   "outputs": [
    {
     "data": {
      "text/plain": [
       "HP      74\n",
       "공격     107\n",
       "방어      70\n",
       "스피드     95\n",
       "dtype: object"
      ]
     },
     "execution_count": 26,
     "metadata": {},
     "output_type": "execute_result"
    }
   ],
   "source": [
    "# obj1_num과 obj2_num 덧셈\n",
    "# 결측치 30으로 채우기\n",
    "obj1_num.add(obj2_num, fill_value = 30)     #결측치가 있는 데이터를 30으로 채우고 난 이후에 연산을 수행"
   ]
  }
 ],
 "metadata": {
  "kernelspec": {
   "display_name": "Python 3",
   "language": "python",
   "name": "python3"
  },
  "language_info": {
   "codemirror_mode": {
    "name": "ipython",
    "version": 3
   },
   "file_extension": ".py",
   "mimetype": "text/x-python",
   "name": "python",
   "nbconvert_exporter": "python",
   "pygments_lexer": "ipython3",
   "version": "3.10.11"
  },
  "orig_nbformat": 4
 },
 "nbformat": 4,
 "nbformat_minor": 2
}
