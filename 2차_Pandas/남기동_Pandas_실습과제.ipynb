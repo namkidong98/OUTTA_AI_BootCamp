{
  "cells": [
    {
      "attachments": {},
      "cell_type": "markdown",
      "metadata": {
        "id": "JVaEuikOzuCq"
      },
      "source": [
        "## **Pandas 실습 과제 (총점: 100점)**"
      ]
    },
    {
      "cell_type": "code",
      "execution_count": null,
      "metadata": {
        "id": "HbTM85eVXyiC"
      },
      "outputs": [],
      "source": [
        "# 실습 과제에서 사용할 titanic 데이터셋을 불러오는 코드입니다.\n",
        "# 실습 진행 전 꼭 실행해주세요.\n",
        "import seaborn as sns\n",
        "df = sns.load_dataset('titanic')"
      ]
    },
    {
      "cell_type": "code",
      "execution_count": null,
      "metadata": {
        "id": "iRBdtpVTYPkv"
      },
      "outputs": [],
      "source": [
        "# pandas 라이브러리 불러와주세요. (5점)\n",
        "import pandas as pd\n",
        "series = pd.Series(['초코파이', '오리온', 171, 5830],\n",
        "                    index = ['상품명', '제조사', '열량', '가격'])\n",
        "print(series)"
      ]
    },
    {
      "attachments": {},
      "cell_type": "markdown",
      "metadata": {
        "id": "ZzWwR_ANfXFa"
      },
      "source": [
        "### [목표1] Dataframe의 속성을 확인해봅시다. (10점)"
      ]
    },
    {
      "cell_type": "code",
      "execution_count": null,
      "metadata": {
        "id": "mkTdRiACZUh_"
      },
      "outputs": [],
      "source": [
        "# 'df' 객체의 column 이름을 확인해주세요. (5점)\n",
        "df.columns"
      ]
    },
    {
      "cell_type": "code",
      "execution_count": null,
      "metadata": {
        "id": "2NiU1OH-YkQI"
      },
      "outputs": [],
      "source": [
        "# 'df' 객체의 상단 5개 행을 출력해주세요. (5점)\n",
        "df.head(5)"
      ]
    },
    {
      "attachments": {},
      "cell_type": "markdown",
      "metadata": {
        "id": "6v5gRbS5feI_"
      },
      "source": [
        "### [목표2] Dataframe의 결측치를 확인하고, 상황에 맞게 결측치를 처리해봅시다. (35점)"
      ]
    },
    {
      "attachments": {},
      "cell_type": "markdown",
      "metadata": {
        "id": "eeBNgS2oflp-"
      },
      "source": [
        "- 결측치 확인 (10점)"
      ]
    },
    {
      "cell_type": "code",
      "execution_count": null,
      "metadata": {
        "id": "LxODOlPZZJz8"
      },
      "outputs": [],
      "source": [
        "# df 객체의 column별 결측치 수를 확인해주세요. (10점)\n",
        "missing_values = df.isnull().sum()\n",
        "print(missing_values)"
      ]
    },
    {
      "attachments": {},
      "cell_type": "markdown",
      "metadata": {
        "id": "-AHhMN5UfrCL"
      },
      "source": [
        "- 결측치 처리 (25점)"
      ]
    },
    {
      "cell_type": "code",
      "execution_count": 14,
      "metadata": {
        "id": "KQo5l0_wZ_z4"
      },
      "outputs": [],
      "source": [
        "# 결측치가 많은 'deck'열을 삭제해주세요. (10점)\n",
        "# inplace 옵션을 지정해 원본 df에 수정사항을 반영해주세요.\n",
        "df.drop('deck', axis=1, inplace=True)"
      ]
    },
    {
      "cell_type": "code",
      "execution_count": 16,
      "metadata": {
        "id": "qQRonKA4bPfg"
      },
      "outputs": [],
      "source": [
        "# 'age'열은 'age'열의 평균으로 결측치를 채워주세요. (15점)\n",
        "# inplace 옵션을 지정해 원본 df에 수정사항을 반영해주세요.\n",
        "# 목표를 수행할 수 있는 코드를 스스로 작성해보시고, 도움이 필요하시면 아래 단계를 차근차근 따라서 실습해주세요.\n",
        "'''\n",
        "1단계: 'age'열을 선택해주세요.\n",
        "2단계: 위에서 선택한 'age'열에 결측치를 채우는 함수를 덧붙여주세요.\n",
        "3단계: 함수 안에 채울 값('age'열의 평균 구하는 코드)을 넣어주세요.\n",
        "4단계: 함수 안에 inplace 옵션을 지정해주세요.\n",
        "'''\n",
        "age = df['age']\n",
        "\n",
        "# 2단계: 결측치를 평균값으로 채우는 함수 정의\n",
        "def fill_age(column):\n",
        "    mean = column.mean()\n",
        "    column.fillna(mean, inplace=True)\n",
        "\n",
        "# 3단계: 함수에 채울 값(평균값) 적용\n",
        "fill_age(age)"
      ]
    },
    {
      "cell_type": "code",
      "execution_count": null,
      "metadata": {
        "id": "KXF_MmXAbnBa"
      },
      "outputs": [],
      "source": [
        "# 이 코드를 실행하여 위에서 결측치를 처리한 것이 어떻게 df 데이터프레임에 반영되었는지 확인해주세요.\n",
        "print(df)"
      ]
    },
    {
      "attachments": {},
      "cell_type": "markdown",
      "metadata": {
        "id": "WhFYork9WC7N"
      },
      "source": [
        "### [목표3] 1등석, 2등석, 3등석 각각의 평균 운임을 확인해봅시다. (15점)"
      ]
    },
    {
      "cell_type": "code",
      "execution_count": null,
      "metadata": {
        "id": "vse1uyGjTK5W"
      },
      "outputs": [],
      "source": [
        "# 목표를 수행할 수 있는 코드를 스스로 작성해보시고, 도움이 필요하시면 아래 단계를 차근차근 따라서 실습해주세요.\n",
        "'''\n",
        "1단계. 좌석 정보가 담긴 'class'열을 기준으로 데이터를 묶어주세요.\n",
        "2단계. 위의 결과에서 운임 정보가 담긴 'fare'열을 선택해주세요.\n",
        "3단계. 위의 결과에 평균을 구하는 함수를 덧붙여주세요.\n",
        "'''\n",
        "group = df.groupby('class')\n",
        "\n",
        "# 2단계: 'fare' 열 선택\n",
        "fare = group['fare']\n",
        "\n",
        "# 3단계: 평균을 구하는 함수 추가\n",
        "def cal_mean(column):\n",
        "    mean = column.mean()\n",
        "    return mean\n",
        "\n",
        "# 4단계: 함수 호출하여 평균 계산\n",
        "fare_mean = cal_mean(fare)\n",
        "print(fare_mean)"
      ]
    },
    {
      "attachments": {},
      "cell_type": "markdown",
      "metadata": {
        "id": "f9i8uVAlYnJb"
      },
      "source": [
        "### [목표4] Southampton에 정박한 5세 이하 아이들의 운임을 3만큼 빼주는 코드를 작성해봅시다. (30점)"
      ]
    },
    {
      "attachments": {},
      "cell_type": "markdown",
      "metadata": {
        "id": "Y-tyVfZSf0qi"
      },
      "source": [
        "(1) Southampton에 정박한 5세 이하 아이들의 운임 데이터를 선택하여 's_child' 변수에 저장해주세요. (16점)"
      ]
    },
    {
      "cell_type": "code",
      "execution_count": null,
      "metadata": {
        "id": "YP2fgUxyZBhv"
      },
      "outputs": [],
      "source": [
        "# 목표를 수행할 수 있는 코드를 스스로 작성해보시고, 도움이 필요하시면 아래 단계를 차근차근 따라서 실습해주세요.\n",
        "'''\n",
        "1단계. 'embark_town'이 'Southampton'인지 확인하는 코드를 작성해주세요.\n",
        "2단계. 'age'가 5 이하인지 확인하는 코드를 작성해주세요.\n",
        "3단계. 위의 코드를 df[ ]안에 넣어서 두 조건을 모두 만족하는 데이터를 선택해주세요.\n",
        "4단계. 위에서 선택한 데이터 중 'fare'열만 선택해주세요.\n",
        "5단계. 선택된 데이터를 s_child 변수에 저장해주세요.\n",
        "'''\n"
      ]
    },
    {
      "cell_type": "code",
      "execution_count": null,
      "metadata": {
        "id": "C4CZWXrUtwjt"
      },
      "outputs": [],
      "source": [
        "# 이 코드를 실행하여 s_child가 잘 만들어졌는지 확인해주세요.\n",
        "print(s_child)"
      ]
    },
    {
      "attachments": {},
      "cell_type": "markdown",
      "metadata": {
        "id": "zyNEHiaSrghU"
      },
      "source": [
        "(2) lambda를 사용하여 x - 3을 해주는 함수 f를 만들고, s_child 데이터에 적용해주세요. (14점)"
      ]
    },
    {
      "cell_type": "code",
      "execution_count": null,
      "metadata": {
        "id": "89TpSeVJc_0U"
      },
      "outputs": [],
      "source": []
    },
    {
      "attachments": {},
      "cell_type": "markdown",
      "metadata": {
        "id": "vj30TSLEv16S"
      },
      "source": [
        "### [목표5] Dataframe을 파일로 저장해봅시다. (5점)"
      ]
    },
    {
      "cell_type": "code",
      "execution_count": null,
      "metadata": {
        "id": "QZYzEaLrvA__"
      },
      "outputs": [],
      "source": [
        "# df 객체를 'titanic_실습.csv'로 저장해주세요.\n",
        "df.to_csv('titanic_실습.csv')"
      ]
    }
  ],
  "metadata": {
    "colab": {
      "provenance": []
    },
    "kernelspec": {
      "display_name": "Python 3",
      "name": "python3"
    },
    "language_info": {
      "codemirror_mode": {
        "name": "ipython",
        "version": 3
      },
      "file_extension": ".py",
      "mimetype": "text/x-python",
      "name": "python",
      "nbconvert_exporter": "python",
      "pygments_lexer": "ipython3",
      "version": "3.10.11"
    }
  },
  "nbformat": 4,
  "nbformat_minor": 0
}
