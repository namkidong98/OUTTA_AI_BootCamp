{
  "cells": [
    {
      "cell_type": "markdown",
      "metadata": {
        "id": "ENZvt5kDFjTF"
      },
      "source": [
        "# 비지도학습 과제\n",
        "### 전처리 2차시에서 진행한 실습에서 이어지는 내용입니다.\n",
        "### 2차시에서 최종적으로 저장한 hyundi_preprocessed.csv 파일을 활용해 비지도학습 클러스터링을 진행합니다."
      ]
    },
    {
      "cell_type": "markdown",
      "metadata": {
        "id": "Fsnp4LHxF0Iy"
      },
      "source": [
        "### 파일 불러오기"
      ]
    },
    {
      "cell_type": "code",
      "execution_count": 1,
      "metadata": {
        "id": "QxuhwP17E85Q"
      },
      "outputs": [],
      "source": [
        "import numpy as np\n",
        "import pandas as pd"
      ]
    },
    {
      "cell_type": "code",
      "execution_count": 2,
      "metadata": {
        "id": "9wluA9MfFS7Q"
      },
      "outputs": [],
      "source": [
        "df = pd.read_csv('hyundi_preprocessed.csv', index_col=0)"
      ]
    },
    {
      "cell_type": "code",
      "execution_count": 3,
      "metadata": {
        "colab": {
          "base_uri": "https://localhost:8080/",
          "height": 424
        },
        "id": "e7W48MjDFWvO",
        "outputId": "8fe836ff-4276-493f-d803-f65fd4abd669"
      },
      "outputs": [
        {
          "data": {
            "text/html": [
              "<div>\n",
              "<style scoped>\n",
              "    .dataframe tbody tr th:only-of-type {\n",
              "        vertical-align: middle;\n",
              "    }\n",
              "\n",
              "    .dataframe tbody tr th {\n",
              "        vertical-align: top;\n",
              "    }\n",
              "\n",
              "    .dataframe thead th {\n",
              "        text-align: right;\n",
              "    }\n",
              "</style>\n",
              "<table border=\"1\" class=\"dataframe\">\n",
              "  <thead>\n",
              "    <tr style=\"text-align: right;\">\n",
              "      <th></th>\n",
              "      <th>model</th>\n",
              "      <th>year</th>\n",
              "      <th>price</th>\n",
              "      <th>transmission</th>\n",
              "      <th>mileage</th>\n",
              "      <th>fuelType</th>\n",
              "      <th>tax</th>\n",
              "      <th>mpg</th>\n",
              "      <th>engineSize</th>\n",
              "    </tr>\n",
              "  </thead>\n",
              "  <tbody>\n",
              "    <tr>\n",
              "      <th>0</th>\n",
              "      <td>7</td>\n",
              "      <td>2017</td>\n",
              "      <td>7999</td>\n",
              "      <td>0</td>\n",
              "      <td>17307</td>\n",
              "      <td>0</td>\n",
              "      <td>145.0</td>\n",
              "      <td>58.9</td>\n",
              "      <td>1.2</td>\n",
              "    </tr>\n",
              "    <tr>\n",
              "      <th>1</th>\n",
              "      <td>12</td>\n",
              "      <td>2016</td>\n",
              "      <td>14499</td>\n",
              "      <td>2</td>\n",
              "      <td>25233</td>\n",
              "      <td>2</td>\n",
              "      <td>235.0</td>\n",
              "      <td>43.5</td>\n",
              "      <td>2.0</td>\n",
              "    </tr>\n",
              "    <tr>\n",
              "      <th>2</th>\n",
              "      <td>12</td>\n",
              "      <td>2016</td>\n",
              "      <td>11399</td>\n",
              "      <td>0</td>\n",
              "      <td>37877</td>\n",
              "      <td>2</td>\n",
              "      <td>30.0</td>\n",
              "      <td>61.7</td>\n",
              "      <td>1.7</td>\n",
              "    </tr>\n",
              "    <tr>\n",
              "      <th>3</th>\n",
              "      <td>5</td>\n",
              "      <td>2016</td>\n",
              "      <td>6499</td>\n",
              "      <td>0</td>\n",
              "      <td>23789</td>\n",
              "      <td>0</td>\n",
              "      <td>20.0</td>\n",
              "      <td>60.1</td>\n",
              "      <td>1.0</td>\n",
              "    </tr>\n",
              "    <tr>\n",
              "      <th>4</th>\n",
              "      <td>6</td>\n",
              "      <td>2015</td>\n",
              "      <td>10199</td>\n",
              "      <td>0</td>\n",
              "      <td>33177</td>\n",
              "      <td>2</td>\n",
              "      <td>160.0</td>\n",
              "      <td>51.4</td>\n",
              "      <td>2.0</td>\n",
              "    </tr>\n",
              "    <tr>\n",
              "      <th>...</th>\n",
              "      <td>...</td>\n",
              "      <td>...</td>\n",
              "      <td>...</td>\n",
              "      <td>...</td>\n",
              "      <td>...</td>\n",
              "      <td>...</td>\n",
              "      <td>...</td>\n",
              "      <td>...</td>\n",
              "      <td>...</td>\n",
              "    </tr>\n",
              "    <tr>\n",
              "      <th>4854</th>\n",
              "      <td>15</td>\n",
              "      <td>2019</td>\n",
              "      <td>29995</td>\n",
              "      <td>3</td>\n",
              "      <td>1567</td>\n",
              "      <td>2</td>\n",
              "      <td>145.0</td>\n",
              "      <td>39.8</td>\n",
              "      <td>2.2</td>\n",
              "    </tr>\n",
              "    <tr>\n",
              "      <th>4856</th>\n",
              "      <td>9</td>\n",
              "      <td>2015</td>\n",
              "      <td>7830</td>\n",
              "      <td>0</td>\n",
              "      <td>59508</td>\n",
              "      <td>2</td>\n",
              "      <td>30.0</td>\n",
              "      <td>65.7</td>\n",
              "      <td>1.7</td>\n",
              "    </tr>\n",
              "    <tr>\n",
              "      <th>4857</th>\n",
              "      <td>5</td>\n",
              "      <td>2017</td>\n",
              "      <td>6830</td>\n",
              "      <td>0</td>\n",
              "      <td>13810</td>\n",
              "      <td>0</td>\n",
              "      <td>20.0</td>\n",
              "      <td>60.1</td>\n",
              "      <td>1.0</td>\n",
              "    </tr>\n",
              "    <tr>\n",
              "      <th>4858</th>\n",
              "      <td>12</td>\n",
              "      <td>2018</td>\n",
              "      <td>13994</td>\n",
              "      <td>0</td>\n",
              "      <td>23313</td>\n",
              "      <td>0</td>\n",
              "      <td>145.0</td>\n",
              "      <td>44.8</td>\n",
              "      <td>1.6</td>\n",
              "    </tr>\n",
              "    <tr>\n",
              "      <th>4859</th>\n",
              "      <td>12</td>\n",
              "      <td>2016</td>\n",
              "      <td>15999</td>\n",
              "      <td>2</td>\n",
              "      <td>11472</td>\n",
              "      <td>2</td>\n",
              "      <td>125.0</td>\n",
              "      <td>57.6</td>\n",
              "      <td>1.7</td>\n",
              "    </tr>\n",
              "  </tbody>\n",
              "</table>\n",
              "<p>4592 rows × 9 columns</p>\n",
              "</div>"
            ],
            "text/plain": [
              "      model  year  price  transmission  mileage  fuelType    tax   mpg  \\\n",
              "0         7  2017   7999             0    17307         0  145.0  58.9   \n",
              "1        12  2016  14499             2    25233         2  235.0  43.5   \n",
              "2        12  2016  11399             0    37877         2   30.0  61.7   \n",
              "3         5  2016   6499             0    23789         0   20.0  60.1   \n",
              "4         6  2015  10199             0    33177         2  160.0  51.4   \n",
              "...     ...   ...    ...           ...      ...       ...    ...   ...   \n",
              "4854     15  2019  29995             3     1567         2  145.0  39.8   \n",
              "4856      9  2015   7830             0    59508         2   30.0  65.7   \n",
              "4857      5  2017   6830             0    13810         0   20.0  60.1   \n",
              "4858     12  2018  13994             0    23313         0  145.0  44.8   \n",
              "4859     12  2016  15999             2    11472         2  125.0  57.6   \n",
              "\n",
              "      engineSize  \n",
              "0            1.2  \n",
              "1            2.0  \n",
              "2            1.7  \n",
              "3            1.0  \n",
              "4            2.0  \n",
              "...          ...  \n",
              "4854         2.2  \n",
              "4856         1.7  \n",
              "4857         1.0  \n",
              "4858         1.6  \n",
              "4859         1.7  \n",
              "\n",
              "[4592 rows x 9 columns]"
            ]
          },
          "execution_count": 3,
          "metadata": {},
          "output_type": "execute_result"
        }
      ],
      "source": [
        "df"
      ]
    },
    {
      "cell_type": "markdown",
      "metadata": {
        "id": "XFSbbtf9F3NB"
      },
      "source": [
        "# 지금부터 df를 활용해 K-means Clustering을 진행하시면 됩니다.\n",
        "* 다양한 클러스터를 만들며, 클러스터링에 익숙해지는 자유도 높은 과제 입니다.\n",
        "* 비지도학습 K-means Clustering 강의 및 자료를 활용해 현대 중고차에 대한 클러스터링 분석을 자유롭게 진행해보세요.\n",
        "* 분석을 위해 모든 열을 다 사용해도 되고, 몇 가지 열을 골라서 진행해도 됩니다!"
      ]
    },
    {
      "cell_type": "code",
      "execution_count": 4,
      "metadata": {
        "colab": {
          "base_uri": "https://localhost:8080/",
          "height": 424
        },
        "id": "d1elVyciJkSX",
        "outputId": "51734c48-9265-47be-93ed-f7b747005c3b"
      },
      "outputs": [
        {
          "data": {
            "text/html": [
              "<div>\n",
              "<style scoped>\n",
              "    .dataframe tbody tr th:only-of-type {\n",
              "        vertical-align: middle;\n",
              "    }\n",
              "\n",
              "    .dataframe tbody tr th {\n",
              "        vertical-align: top;\n",
              "    }\n",
              "\n",
              "    .dataframe thead th {\n",
              "        text-align: right;\n",
              "    }\n",
              "</style>\n",
              "<table border=\"1\" class=\"dataframe\">\n",
              "  <thead>\n",
              "    <tr style=\"text-align: right;\">\n",
              "      <th></th>\n",
              "      <th>price</th>\n",
              "      <th>year</th>\n",
              "      <th>mileage</th>\n",
              "    </tr>\n",
              "  </thead>\n",
              "  <tbody>\n",
              "    <tr>\n",
              "      <th>0</th>\n",
              "      <td>7999</td>\n",
              "      <td>2017</td>\n",
              "      <td>17307</td>\n",
              "    </tr>\n",
              "    <tr>\n",
              "      <th>1</th>\n",
              "      <td>14499</td>\n",
              "      <td>2016</td>\n",
              "      <td>25233</td>\n",
              "    </tr>\n",
              "    <tr>\n",
              "      <th>2</th>\n",
              "      <td>11399</td>\n",
              "      <td>2016</td>\n",
              "      <td>37877</td>\n",
              "    </tr>\n",
              "    <tr>\n",
              "      <th>3</th>\n",
              "      <td>6499</td>\n",
              "      <td>2016</td>\n",
              "      <td>23789</td>\n",
              "    </tr>\n",
              "    <tr>\n",
              "      <th>4</th>\n",
              "      <td>10199</td>\n",
              "      <td>2015</td>\n",
              "      <td>33177</td>\n",
              "    </tr>\n",
              "    <tr>\n",
              "      <th>...</th>\n",
              "      <td>...</td>\n",
              "      <td>...</td>\n",
              "      <td>...</td>\n",
              "    </tr>\n",
              "    <tr>\n",
              "      <th>4854</th>\n",
              "      <td>29995</td>\n",
              "      <td>2019</td>\n",
              "      <td>1567</td>\n",
              "    </tr>\n",
              "    <tr>\n",
              "      <th>4856</th>\n",
              "      <td>7830</td>\n",
              "      <td>2015</td>\n",
              "      <td>59508</td>\n",
              "    </tr>\n",
              "    <tr>\n",
              "      <th>4857</th>\n",
              "      <td>6830</td>\n",
              "      <td>2017</td>\n",
              "      <td>13810</td>\n",
              "    </tr>\n",
              "    <tr>\n",
              "      <th>4858</th>\n",
              "      <td>13994</td>\n",
              "      <td>2018</td>\n",
              "      <td>23313</td>\n",
              "    </tr>\n",
              "    <tr>\n",
              "      <th>4859</th>\n",
              "      <td>15999</td>\n",
              "      <td>2016</td>\n",
              "      <td>11472</td>\n",
              "    </tr>\n",
              "  </tbody>\n",
              "</table>\n",
              "<p>4592 rows × 3 columns</p>\n",
              "</div>"
            ],
            "text/plain": [
              "      price  year  mileage\n",
              "0      7999  2017    17307\n",
              "1     14499  2016    25233\n",
              "2     11399  2016    37877\n",
              "3      6499  2016    23789\n",
              "4     10199  2015    33177\n",
              "...     ...   ...      ...\n",
              "4854  29995  2019     1567\n",
              "4856   7830  2015    59508\n",
              "4857   6830  2017    13810\n",
              "4858  13994  2018    23313\n",
              "4859  15999  2016    11472\n",
              "\n",
              "[4592 rows x 3 columns]"
            ]
          },
          "execution_count": 4,
          "metadata": {},
          "output_type": "execute_result"
        }
      ],
      "source": [
        "# 분석을 진행할 열 3개를 가져옵니다.\n",
        "df_new = df[['price','year','mileage']]\n",
        "\n",
        "df_new"
      ]
    },
    {
      "cell_type": "code",
      "execution_count": 5,
      "metadata": {
        "colab": {
          "base_uri": "https://localhost:8080/"
        },
        "id": "qL_PmS8WJsv4",
        "outputId": "c97321c9-d331-4cda-e52e-b5723ef9e5a5"
      },
      "outputs": [
        {
          "name": "stdout",
          "output_type": "stream",
          "text": [
            "      price  year  mileage  cluster_label\n",
            "0      7999  2017    17307              1\n",
            "1     14499  2016    25233              0\n",
            "2     11399  2016    37877              0\n",
            "3      6499  2016    23789              0\n",
            "4     10199  2015    33177              0\n",
            "...     ...   ...      ...            ...\n",
            "4854  29995  2019     1567              1\n",
            "4856   7830  2015    59508              2\n",
            "4857   6830  2017    13810              1\n",
            "4858  13994  2018    23313              0\n",
            "4859  15999  2016    11472              1\n",
            "\n",
            "[4592 rows x 4 columns]\n"
          ]
        },
        {
          "name": "stderr",
          "output_type": "stream",
          "text": [
            "C:\\Users\\rlehd\\AppData\\Local\\Temp\\ipykernel_19744\\1376203929.py:15: SettingWithCopyWarning: \n",
            "A value is trying to be set on a copy of a slice from a DataFrame.\n",
            "Try using .loc[row_indexer,col_indexer] = value instead\n",
            "\n",
            "See the caveats in the documentation: https://pandas.pydata.org/pandas-docs/stable/user_guide/indexing.html#returning-a-view-versus-a-copy\n",
            "  df_new['cluster_label'] = y_km\n"
          ]
        }
      ],
      "source": [
        "from sklearn.cluster import KMeans\n",
        "\n",
        "# KMeans 클러스터링 모델 생성\n",
        "km = KMeans(n_clusters=3,       #클러스터의 개수\n",
        "            init ='random',     #초기 클러스터의 중심을 정하는 매개변수 --> 랜덤으로 설정\n",
        "            n_init = 10,        #군집화(클러스터링)을 진행할 때 몇 번 초기화를 하는가\n",
        "            max_iter = 300,     #KMeans Clustering을 최대 몇 번 반복할 것인가(centroid가 안 변하면 300번 전에 끝남)\n",
        "            tol = 1e-04,        #알고리즘이 수렴되었다고 판단하는 오차값의 기준\n",
        "            random_state=0)\n",
        "\n",
        "# 클러스터링 수행\n",
        "y_km = km.fit_predict(df_new)        #KMeans clustering을 진행\n",
        "\n",
        "# 클러스터링 결과 출력\n",
        "df_new['cluster_label'] = y_km\n",
        "print(df_new)"
      ]
    },
    {
      "cell_type": "code",
      "execution_count": 26,
      "metadata": {
        "colab": {
          "base_uri": "https://localhost:8080/"
        },
        "id": "8mbljvZ1LASR",
        "outputId": "4327ca78-c870-49ce-dab6-a8522b189ab2"
      },
      "outputs": [
        {
          "data": {
            "text/plain": [
              "array([[10718.08785845,  2016.39414277, 30205.25930445],\n",
              "       [14939.21289062,  2018.11367187,  9196.28359375],\n",
              "       [ 8022.79643766,  2013.95165394, 61167.80661578]])"
            ]
          },
          "execution_count": 26,
          "metadata": {},
          "output_type": "execute_result"
        }
      ],
      "source": [
        "# 클러스터 중심점 확인\n",
        "centers = km.cluster_centers_[:, 0:3]  # 중심을 확인하는 코드를 넣어주세요\n",
        "\n",
        "centers"
      ]
    },
    {
      "cell_type": "code",
      "execution_count": 27,
      "metadata": {
        "colab": {
          "base_uri": "https://localhost:8080/",
          "height": 472
        },
        "id": "5uP4mtxQKDPU",
        "outputId": "9611894c-303b-463e-b5a0-c35682801d91"
      },
      "outputs": [
        {
          "data": {
            "image/png": "[encoded data removed]",
            "text/plain": [
              "<Figure size 640x480 with 1 Axes>"
            ]
          },
          "metadata": {},
          "output_type": "display_data"
        }
      ],
      "source": [
        "# 클러스터링 결과 시각화\n",
        "import matplotlib.pyplot as plt\n",
        "\n",
        "# 4800여개의 데이터를 점 찍는 작업입니다.\n",
        "plt.scatter(x = df_new['price'], y = df_new['mileage'], c=y_km, cmap='viridis')  # x, y, c에 값을 집어넣어주세요\n",
        "\n",
        "# 각 cluster의 중심을 점 찍는 작업입니다.\n",
        "#x에는 price가 들어가니 0번 columm, y에는 mileage가 들어가니 2번 column의 중심점을 넣어줘야 한다\n",
        "plt.scatter(x= centers[:, 0], y= centers[:, 2], marker='*', s=250, color='red', label='Centroids') # x,y에 값을 집어넣어주세요\n",
        "\n",
        "plt.xlabel('Price')\n",
        "plt.ylabel('Mileage')\n",
        "plt.title('Clustering Result')\n",
        "plt.legend()\n",
        "plt.show()"
      ]
    },
    {
      "cell_type": "markdown",
      "metadata": {
        "id": "96tgM7uFJYGw"
      },
      "source": [
        "# 아래부터는 배운 내용을 바탕으로 다양한 cluster 분석을 진행해주세요."
      ]
    },
    {
      "cell_type": "markdown",
      "metadata": {},
      "source": [
        "1. price, year, mileage를 특성으로 갖는 3차원 데이터였던 것을 price와 mileage를 기준으로 하는 2차원 데이터로 차원 축소를 하였다\n",
        "2. 하이퍼파라미터(n_cluster)를 3으로 설정하여 3가지 군집으로 나뉘었고 각 군집의 price를 x축으로, mileage를 y축으로 갖는 중심점이 표시되었다\n",
        "3. 전체 데이터는 price가 증가할 때 mileage가 감소하는 경향에 따라 3가지 군집으로 구분된다"
      ]
    }
  ],
  "metadata": {
    "colab": {
      "provenance": []
    },
    "kernelspec": {
      "display_name": "Python 3",
      "name": "python3"
    },
    "language_info": {
      "codemirror_mode": {
        "name": "ipython",
        "version": 3
      },
      "file_extension": ".py",
      "mimetype": "text/x-python",
      "name": "python",
      "nbconvert_exporter": "python",
      "pygments_lexer": "ipython3",
      "version": "3.10.11"
    }
  },
  "nbformat": 4,
  "nbformat_minor": 0
}
