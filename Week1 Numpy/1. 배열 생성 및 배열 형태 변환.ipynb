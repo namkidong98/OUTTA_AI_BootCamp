{
 "cells": [
  {
   "cell_type": "markdown",
   "metadata": {},
   "source": [
    "# **1. 배열 생성 및 배열 형태 변환**"
   ]
  },
  {
   "cell_type": "code",
   "execution_count": 2,
   "metadata": {},
   "outputs": [],
   "source": [
    "# 라이브러리 불러오기\n",
    "import numpy as np"
   ]
  },
  {
   "cell_type": "markdown",
   "metadata": {},
   "source": [
    "정리본\n",
    "\n",
    "1. np.array(리스트 or 튜플): 리스트나 튜플을 ndarray로 바꾼다\n",
    "\n",
    "2. ndarray.reshape(): 원하는 행, 열의 다차원 배열로 변환시킨다\n",
    "\n",
    "3. np.zeros((shape), dtype=원하는 데이터타입): 원하는 shape과 데이터타입의 0만을 원소로 하는 ndarray를 만든다\n",
    "\n",
    "4. np.ones((shape), dtype=원하는 데이터타입): 원하는 shape과 데이터타입의 1만을 원소로 하는 ndarray를 만든다\n",
    "\n",
    "5. np.full((shape), number): 원하는 shape과 원하는 숫자(number)만을 원소로 하는 ndarray를 만든다\n",
    "\n",
    "6. np.arange(start, stop, step): start이상 stop 미만이고 간격이 step인 배열을 생성\n",
    "\n",
    "7. np.linspace(start, stop, n등분): start이상 stop '이하'를 n등분하여 배열 생성\n",
    "\n",
    "8. np.random.choice(data, shape): 주어진 배열(data)에서 임의로 원소를 선택하여 배열 생성\n",
    "\n",
    "9. np.random.shuffle(data): 주어진 배열의 순서 임의로 변경\n",
    "\n",
    "10. np.random.rand(shape): [0, 1)에서 각 구간의 난수 수가 균등분포를 따르도록 샘플링\n",
    "\n",
    "11. np.random.randn(shape): 난수가 표준정규분포를 따르도록 샘플링\n",
    "\n",
    "12. np.random.randint(start, stop, (shape)): start이상 stop '미만'인 난수를 정수로 추출하여 주어진 shape에 따라 샘플링"
   ]
  },
  {
   "cell_type": "markdown",
   "metadata": {},
   "source": [
    "### 유형1) Python의 list 혹은 tuple을 ndarray로 바꾸기"
   ]
  },
  {
   "cell_type": "code",
   "execution_count": 3,
   "metadata": {},
   "outputs": [
    {
     "data": {
      "text/plain": [
       "array([1, 2, 3, 4, 5, 6])"
      ]
     },
     "execution_count": 3,
     "metadata": {},
     "output_type": "execute_result"
    }
   ],
   "source": [
    "# [1, 2, 3, 4, 5, 6] list를 ndarray로 바꾸기\n",
    "np.array([1,2,3,4,5,6])"
   ]
  },
  {
   "cell_type": "code",
   "execution_count": 4,
   "metadata": {},
   "outputs": [
    {
     "data": {
      "text/plain": [
       "array([[1, 2],\n",
       "       [3, 4],\n",
       "       [5, 6]])"
      ]
     },
     "execution_count": 4,
     "metadata": {},
     "output_type": "execute_result"
    }
   ],
   "source": [
    "# [1, 2, 3, 4, 5, 6] list를 ndarray로 바꾸기, shape: 3X2인 2차원 배열\n",
    "np.array([1,2,3,4,5,6]).reshape(3,2) #reshape을 이용하여 1차원 배열을 다차원 배열로 바꿀 수 있다"
   ]
  },
  {
   "cell_type": "code",
   "execution_count": 5,
   "metadata": {},
   "outputs": [
    {
     "data": {
      "text/plain": [
       "array([[[1, 2],\n",
       "        [3, 4]],\n",
       "\n",
       "       [[5, 6],\n",
       "        [7, 8]]])"
      ]
     },
     "execution_count": 5,
     "metadata": {},
     "output_type": "execute_result"
    }
   ],
   "source": [
    "np.array([1,2,3,4,5,6,7,8]).reshape(2,2,2) #3차원으로 바꾼 예제"
   ]
  },
  {
   "cell_type": "markdown",
   "metadata": {},
   "source": [
    "### 유형2) 모두 동일한 원소로 이루어진 ndarray 생성하기"
   ]
  },
  {
   "cell_type": "code",
   "execution_count": 6,
   "metadata": {},
   "outputs": [
    {
     "data": {
      "text/plain": [
       "array([0., 0., 0., 0., 0., 0.])"
      ]
     },
     "execution_count": 6,
     "metadata": {},
     "output_type": "execute_result"
    }
   ],
   "source": [
    "# 0으로만 이루어진 ndarray, shape: 원소가 6개인 1차원 배열\n",
    "np.zeros(6)\n",
    "\n",
    "# 0뒤에 .이 찍힌 것은 ndarray의 dtype이 float임을 의미한다"
   ]
  },
  {
   "cell_type": "code",
   "execution_count": 7,
   "metadata": {},
   "outputs": [
    {
     "data": {
      "text/plain": [
       "array([[0., 0., 0.],\n",
       "       [0., 0., 0.]])"
      ]
     },
     "execution_count": 7,
     "metadata": {},
     "output_type": "execute_result"
    }
   ],
   "source": [
    "# 0으로만 이루어진 ndarray, shape: 2X3인 2차원 배열\n",
    "np.zeros(6).reshape(2,3)"
   ]
  },
  {
   "cell_type": "code",
   "execution_count": 8,
   "metadata": {},
   "outputs": [
    {
     "data": {
      "text/plain": [
       "array([[0., 0., 0.],\n",
       "       [0., 0., 0.]])"
      ]
     },
     "execution_count": 8,
     "metadata": {},
     "output_type": "execute_result"
    }
   ],
   "source": [
    "# 0으로만 이루어진 ndarray, shape: 2X3인 2차원 배열\n",
    "#np.zeros(2, 3)은 오류가 발생\n",
    "np.zeros((2, 3)) #내부의 괄호가 2개 있어야 오류가 발생하지 않는다"
   ]
  },
  {
   "cell_type": "code",
   "execution_count": 9,
   "metadata": {},
   "outputs": [
    {
     "data": {
      "text/plain": [
       "array([[0, 0, 0],\n",
       "       [0, 0, 0]])"
      ]
     },
     "execution_count": 9,
     "metadata": {},
     "output_type": "execute_result"
    }
   ],
   "source": [
    "# 0으로만 이루어진 ndarray, shape: 2X3인 2차원 배열\n",
    "## 데이터타입: 정수\n",
    "np.zeros((2, 3), dtype= int) #dtype을 옵션으로 설정해주면 된다"
   ]
  },
  {
   "cell_type": "code",
   "execution_count": 10,
   "metadata": {},
   "outputs": [
    {
     "data": {
      "text/plain": [
       "array([['1', '1', '1', '1'],\n",
       "       ['1', '1', '1', '1'],\n",
       "       ['1', '1', '1', '1']], dtype='<U1')"
      ]
     },
     "execution_count": 10,
     "metadata": {},
     "output_type": "execute_result"
    }
   ],
   "source": [
    "# 1로만 이루어진 ndarray, shape이 3X4인 2차원 배열 생성\n",
    "# 데이터타입: 문자형\n",
    "np.ones((3, 4), dtype= str)"
   ]
  },
  {
   "cell_type": "code",
   "execution_count": 11,
   "metadata": {},
   "outputs": [
    {
     "data": {
      "text/plain": [
       "array([[500, 500, 500],\n",
       "       [500, 500, 500],\n",
       "       [500, 500, 500],\n",
       "       [500, 500, 500],\n",
       "       [500, 500, 500]])"
      ]
     },
     "execution_count": 11,
     "metadata": {},
     "output_type": "execute_result"
    }
   ],
   "source": [
    "# 500으로만 이루어진 ndarray, shape이 5X3인 2차원 배열 생성\n",
    "np.full((5, 3), 500) #원하는 shape과 원하는 수를 옵션으로 준다"
   ]
  },
  {
   "cell_type": "markdown",
   "metadata": {},
   "source": [
    "### 유형3) 연속적인 원소로 이루어진 ndarray 생성하기"
   ]
  },
  {
   "cell_type": "code",
   "execution_count": 12,
   "metadata": {},
   "outputs": [
    {
     "data": {
      "text/plain": [
       "array([ 1,  2,  3,  4,  5,  6,  7,  8,  9, 10])"
      ]
     },
     "execution_count": 12,
     "metadata": {},
     "output_type": "execute_result"
    }
   ],
   "source": [
    "# 1부터 10까지 연속적인 수로 이루어진 배열\n",
    "np.arange(1, 11, 1) # 두번째 인자는 '미만'이기 때문에 11이 들어온 것이다\n",
    "#np. aragnge(1, 11) # step은 1이 default이므로 없어도 동일한 결과를 출력한다"
   ]
  },
  {
   "cell_type": "code",
   "execution_count": 13,
   "metadata": {},
   "outputs": [
    {
     "data": {
      "text/plain": [
       "array([1, 3, 5, 7, 9])"
      ]
     },
     "execution_count": 13,
     "metadata": {},
     "output_type": "execute_result"
    }
   ],
   "source": [
    "# 1부터 10까지 연속적인 수로 이루어진 배열, step(공차): 2\n",
    "np.arange(1, 11, 2)"
   ]
  },
  {
   "cell_type": "code",
   "execution_count": 14,
   "metadata": {},
   "outputs": [
    {
     "data": {
      "text/plain": [
       "array([ 1.  ,  3.25,  5.5 ,  7.75, 10.  ])"
      ]
     },
     "execution_count": 14,
     "metadata": {},
     "output_type": "execute_result"
    }
   ],
   "source": [
    "# 1부터 10까지 5등분한 5개의 수로 이루어진 배열\n",
    "np.linspace(1, 10, 5) #linspace의 두 번째 인자는 '미만'이 아니라 '이하'라는 점에 주의해야 한다!!"
   ]
  },
  {
   "cell_type": "markdown",
   "metadata": {},
   "source": [
    "### 유형4) random모듈, 주어진 배열이 존재하는 경우"
   ]
  },
  {
   "cell_type": "code",
   "execution_count": 15,
   "metadata": {},
   "outputs": [
    {
     "data": {
      "text/plain": [
       "array([ 1,  2,  3,  4,  5,  6,  7,  8,  9, 10, 11, 12, 13, 14, 15, 16, 17,\n",
       "       18, 19, 20, 21, 22, 23, 24, 25, 26, 27, 28, 29, 30, 31, 32, 33, 34,\n",
       "       35, 36, 37, 38, 39, 40, 41, 42, 43, 44, 45, 46, 47, 48, 49, 50])"
      ]
     },
     "execution_count": 15,
     "metadata": {},
     "output_type": "execute_result"
    }
   ],
   "source": [
    "array = np.arange(1, 51)\n",
    "array"
   ]
  },
  {
   "cell_type": "code",
   "execution_count": 16,
   "metadata": {},
   "outputs": [
    {
     "data": {
      "text/plain": [
       "array([[33, 33, 31],\n",
       "       [ 4, 47, 39]])"
      ]
     },
     "execution_count": 16,
     "metadata": {},
     "output_type": "execute_result"
    }
   ],
   "source": [
    "# array속에서 임의로 원소 선택하여 새로운 ndarray 생성\n",
    "# shape: 2X3인 2차원 배열\n",
    "np.random.choice(array, (2, 3))"
   ]
  },
  {
   "cell_type": "code",
   "execution_count": 23,
   "metadata": {},
   "outputs": [
    {
     "data": {
      "text/plain": [
       "array([50, 39, 36,  6, 22, 31, 21, 10,  1,  8, 33,  2, 25, 15, 26, 47, 37,\n",
       "       18, 34, 41, 45, 12, 38, 46, 48, 30, 27, 23, 43, 28,  5, 14, 42, 19,\n",
       "       24,  9, 32,  7, 44, 11, 40, 49, 29,  3, 16,  4, 35, 20, 13, 17])"
      ]
     },
     "execution_count": 23,
     "metadata": {},
     "output_type": "execute_result"
    }
   ],
   "source": [
    "# array의 순서 임의로 섞기\n",
    "np.random.shuffle(array)\n",
    "array"
   ]
  },
  {
   "cell_type": "markdown",
   "metadata": {},
   "source": [
    "### 유형5) random모듈, 주어진 배열이 존재하지 않는 경우"
   ]
  },
  {
   "cell_type": "code",
   "execution_count": 24,
   "metadata": {},
   "outputs": [
    {
     "data": {
      "text/plain": [
       "array([[0.49265198, 0.56694609, 0.19394392],\n",
       "       [0.15763173, 0.27938659, 0.93275378],\n",
       "       [0.2862038 , 0.63147465, 0.20831186],\n",
       "       [0.37899675, 0.05222   , 0.08818966],\n",
       "       [0.76901193, 0.45565495, 0.8097338 ]])"
      ]
     },
     "execution_count": 24,
     "metadata": {},
     "output_type": "execute_result"
    }
   ],
   "source": [
    "# 0이상 1미만 구간에서 난수가 균등분포 따르는 배열 생성\n",
    "# shape: 5X3인 2차원 배열\n",
    "np.random.rand(5, 3)"
   ]
  },
  {
   "cell_type": "code",
   "execution_count": 25,
   "metadata": {},
   "outputs": [
    {
     "data": {
      "text/plain": [
       "array([[ 1.13361452,  0.58300302, -2.42425381],\n",
       "       [-0.6909771 , -0.24148702,  0.48788391],\n",
       "       [-0.15957851,  1.04628247,  0.05959272],\n",
       "       [ 1.44370115, -0.44166204,  0.54041348],\n",
       "       [-0.11455405,  0.03103557, -0.50512207]])"
      ]
     },
     "execution_count": 25,
     "metadata": {},
     "output_type": "execute_result"
    }
   ],
   "source": [
    "# 난수가 표준정규분포 따르는 배열 생성\n",
    "# shape: 5X3인 2차원 배열\n",
    "np.random.randn(5, 3) #rand 뒤에 정규분포(normal distrubution)을 상징하는 'n'이 추가로 붙는다"
   ]
  },
  {
   "cell_type": "code",
   "execution_count": 26,
   "metadata": {},
   "outputs": [
    {
     "data": {
      "text/plain": [
       "array([[7, 2, 6],\n",
       "       [1, 7, 8]])"
      ]
     },
     "execution_count": 26,
     "metadata": {},
     "output_type": "execute_result"
    }
   ],
   "source": [
    "# 1부터 10까지의 정수 중 랜덤으로 수를 추출하여 배열 생성 \n",
    "# shape: 2X3인 2차원 배열\n",
    "np.random.randint(1, 11, (2,3))"
   ]
  }
 ],
 "metadata": {
  "kernelspec": {
   "display_name": "Python 3",
   "language": "python",
   "name": "python3"
  },
  "language_info": {
   "codemirror_mode": {
    "name": "ipython",
    "version": 3
   },
   "file_extension": ".py",
   "mimetype": "text/x-python",
   "name": "python",
   "nbconvert_exporter": "python",
   "pygments_lexer": "ipython3",
   "version": "3.10.11"
  },
  "orig_nbformat": 4
 },
 "nbformat": 4,
 "nbformat_minor": 2
}
