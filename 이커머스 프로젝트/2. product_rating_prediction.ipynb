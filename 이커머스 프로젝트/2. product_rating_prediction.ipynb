{
 "cells": [
  {
   "cell_type": "markdown",
   "id": "38406d21",
   "metadata": {},
   "source": [
    "### 데이터 불러오기\n",
    "\n",
    "파일의 이름에 숫자만 다른 것을 이용하여 반복문으로 한번에 데이터를 가져와 df에 할당합니다."
   ]
  },
  {
   "cell_type": "code",
   "execution_count": 1,
   "id": "57c0059f",
   "metadata": {},
   "outputs": [
    {
     "data": {
      "text/html": [
       "<div>\n",
       "<style scoped>\n",
       "    .dataframe tbody tr th:only-of-type {\n",
       "        vertical-align: middle;\n",
       "    }\n",
       "\n",
       "    .dataframe tbody tr th {\n",
       "        vertical-align: top;\n",
       "    }\n",
       "\n",
       "    .dataframe thead th {\n",
       "        text-align: right;\n",
       "    }\n",
       "</style>\n",
       "<table border=\"1\" class=\"dataframe\">\n",
       "  <thead>\n",
       "    <tr style=\"text-align: right;\">\n",
       "      <th></th>\n",
       "      <th>브랜드</th>\n",
       "      <th>상품명</th>\n",
       "      <th>카테고리</th>\n",
       "      <th>정가</th>\n",
       "      <th>할인가</th>\n",
       "      <th>아이디</th>\n",
       "      <th>별점</th>\n",
       "      <th>피부정보</th>\n",
       "      <th>피부타입</th>\n",
       "      <th>피부고민</th>\n",
       "      <th>자극도</th>\n",
       "    </tr>\n",
       "  </thead>\n",
       "  <tbody>\n",
       "    <tr>\n",
       "      <th>0</th>\n",
       "      <td>구달</td>\n",
       "      <td>[대용량 한정기획] 구달 청귤 비타C 잡티케어 세럼 50ml+31ml 증정 기획</td>\n",
       "      <td>에센스/세럼</td>\n",
       "      <td>43,000</td>\n",
       "      <td>28,410</td>\n",
       "      <td>치미럽</td>\n",
       "      <td>5점만점에 5점</td>\n",
       "      <td>복합성 봄웜톤 미백</td>\n",
       "      <td>지성에 좋아요</td>\n",
       "      <td>보습에 좋아요</td>\n",
       "      <td>자극없이 순해요</td>\n",
       "    </tr>\n",
       "    <tr>\n",
       "      <th>1</th>\n",
       "      <td>구달</td>\n",
       "      <td>[대용량 한정기획] 구달 청귤 비타C 잡티케어 세럼 50ml+31ml 증정 기획</td>\n",
       "      <td>에센스/세럼</td>\n",
       "      <td>43,000</td>\n",
       "      <td>28,410</td>\n",
       "      <td>DGHP</td>\n",
       "      <td>5점만점에 5점</td>\n",
       "      <td>민감성 웜톤 각질 모공</td>\n",
       "      <td>복합성에 좋아요</td>\n",
       "      <td>진정에 좋아요</td>\n",
       "      <td>보통이에요</td>\n",
       "    </tr>\n",
       "    <tr>\n",
       "      <th>2</th>\n",
       "      <td>구달</td>\n",
       "      <td>[대용량 한정기획] 구달 청귤 비타C 잡티케어 세럼 50ml+31ml 증정 기획</td>\n",
       "      <td>에센스/세럼</td>\n",
       "      <td>43,000</td>\n",
       "      <td>28,410</td>\n",
       "      <td>세일조아</td>\n",
       "      <td>5점만점에 5점</td>\n",
       "      <td>트러블성 가을웜톤 모공 미백</td>\n",
       "      <td>복합성에 좋아요</td>\n",
       "      <td>주름/미백에 좋아요</td>\n",
       "      <td>자극없이 순해요</td>\n",
       "    </tr>\n",
       "    <tr>\n",
       "      <th>3</th>\n",
       "      <td>구달</td>\n",
       "      <td>[대용량 한정기획] 구달 청귤 비타C 잡티케어 세럼 50ml+31ml 증정 기획</td>\n",
       "      <td>에센스/세럼</td>\n",
       "      <td>43,000</td>\n",
       "      <td>28,410</td>\n",
       "      <td>히뽀02</td>\n",
       "      <td>5점만점에 5점</td>\n",
       "      <td>복합성 웜톤 모공 블랙헤드</td>\n",
       "      <td>건성에 좋아요</td>\n",
       "      <td>주름/미백에 좋아요</td>\n",
       "      <td>보통이에요</td>\n",
       "    </tr>\n",
       "    <tr>\n",
       "      <th>4</th>\n",
       "      <td>구달</td>\n",
       "      <td>[대용량 한정기획] 구달 청귤 비타C 잡티케어 세럼 50ml+31ml 증정 기획</td>\n",
       "      <td>에센스/세럼</td>\n",
       "      <td>43,000</td>\n",
       "      <td>28,410</td>\n",
       "      <td>올live</td>\n",
       "      <td>5점만점에 4점</td>\n",
       "      <td>복합성 웜톤 각질 미백</td>\n",
       "      <td>건성에 좋아요</td>\n",
       "      <td>보습에 좋아요</td>\n",
       "      <td>자극없이 순해요</td>\n",
       "    </tr>\n",
       "  </tbody>\n",
       "</table>\n",
       "</div>"
      ],
      "text/plain": [
       "  브랜드                                           상품명    카테고리      정가     할인가   \n",
       "0  구달  [대용량 한정기획] 구달 청귤 비타C 잡티케어 세럼 50ml+31ml 증정 기획  에센스/세럼  43,000  28,410  \\\n",
       "1  구달  [대용량 한정기획] 구달 청귤 비타C 잡티케어 세럼 50ml+31ml 증정 기획  에센스/세럼  43,000  28,410   \n",
       "2  구달  [대용량 한정기획] 구달 청귤 비타C 잡티케어 세럼 50ml+31ml 증정 기획  에센스/세럼  43,000  28,410   \n",
       "3  구달  [대용량 한정기획] 구달 청귤 비타C 잡티케어 세럼 50ml+31ml 증정 기획  에센스/세럼  43,000  28,410   \n",
       "4  구달  [대용량 한정기획] 구달 청귤 비타C 잡티케어 세럼 50ml+31ml 증정 기획  에센스/세럼  43,000  28,410   \n",
       "\n",
       "     아이디        별점             피부정보      피부타입        피부고민       자극도  \n",
       "0    치미럽  5점만점에 5점       복합성 봄웜톤 미백   지성에 좋아요     보습에 좋아요  자극없이 순해요  \n",
       "1   DGHP  5점만점에 5점     민감성 웜톤 각질 모공  복합성에 좋아요     진정에 좋아요     보통이에요  \n",
       "2   세일조아  5점만점에 5점  트러블성 가을웜톤 모공 미백  복합성에 좋아요  주름/미백에 좋아요  자극없이 순해요  \n",
       "3   히뽀02  5점만점에 5점   복합성 웜톤 모공 블랙헤드   건성에 좋아요  주름/미백에 좋아요     보통이에요  \n",
       "4  올live  5점만점에 4점     복합성 웜톤 각질 미백   건성에 좋아요     보습에 좋아요  자극없이 순해요  "
      ]
     },
     "execution_count": 1,
     "metadata": {},
     "output_type": "execute_result"
    }
   ],
   "source": [
    "import pandas as pd\n",
    "import numpy as np\n",
    "import matplotlib.pyplot as plt\n",
    "import warnings\n",
    "warnings.filterwarnings(action='ignore')\n",
    "\n",
    "#일반적으로 사용하는 데이터 파일 불러오는 방법\n",
    "d1= pd.read_excel(\"파일명.xlsx\")\n",
    "d1.head()"
   ]
  },
  {
   "cell_type": "code",
   "execution_count": 1,
   "id": "e85cdfae",
   "metadata": {},
   "outputs": [
    {
     "data": {
      "text/html": [
       "<div>\n",
       "<style scoped>\n",
       "    .dataframe tbody tr th:only-of-type {\n",
       "        vertical-align: middle;\n",
       "    }\n",
       "\n",
       "    .dataframe tbody tr th {\n",
       "        vertical-align: top;\n",
       "    }\n",
       "\n",
       "    .dataframe thead th {\n",
       "        text-align: right;\n",
       "    }\n",
       "</style>\n",
       "<table border=\"1\" class=\"dataframe\">\n",
       "  <thead>\n",
       "    <tr style=\"text-align: right;\">\n",
       "      <th></th>\n",
       "      <th>브랜드</th>\n",
       "      <th>상품명</th>\n",
       "      <th>카테고리</th>\n",
       "      <th>정가</th>\n",
       "      <th>할인가</th>\n",
       "      <th>아이디</th>\n",
       "      <th>별점</th>\n",
       "      <th>피부정보</th>\n",
       "      <th>피부타입</th>\n",
       "      <th>피부고민</th>\n",
       "      <th>자극도</th>\n",
       "    </tr>\n",
       "  </thead>\n",
       "  <tbody>\n",
       "    <tr>\n",
       "      <th>0</th>\n",
       "      <td>구달</td>\n",
       "      <td>[홍현희 PICK/ 한정기획] 구달 청귤 비타C 잡티케어 세럼 50ml+50ml 리필기획</td>\n",
       "      <td>에센스/세럼</td>\n",
       "      <td>43,000</td>\n",
       "      <td>28,900</td>\n",
       "      <td>고먐미먼지</td>\n",
       "      <td>5점만점에 3점</td>\n",
       "      <td>복합성</td>\n",
       "      <td>지성에 좋아요</td>\n",
       "      <td>주름/미백에 좋아요</td>\n",
       "      <td>자극없이 순해요</td>\n",
       "    </tr>\n",
       "    <tr>\n",
       "      <th>1</th>\n",
       "      <td>구달</td>\n",
       "      <td>[홍현희 PICK/ 한정기획] 구달 청귤 비타C 잡티케어 세럼 50ml+50ml 리필기획</td>\n",
       "      <td>에센스/세럼</td>\n",
       "      <td>43,000</td>\n",
       "      <td>28,900</td>\n",
       "      <td>뚜딘</td>\n",
       "      <td>5점만점에 5점</td>\n",
       "      <td>복합성</td>\n",
       "      <td>복합성에 좋아요</td>\n",
       "      <td>주름/미백에 좋아요</td>\n",
       "      <td>자극없이 순해요</td>\n",
       "    </tr>\n",
       "    <tr>\n",
       "      <th>2</th>\n",
       "      <td>구달</td>\n",
       "      <td>[홍현희 PICK/ 한정기획] 구달 청귤 비타C 잡티케어 세럼 50ml+50ml 리필기획</td>\n",
       "      <td>에센스/세럼</td>\n",
       "      <td>43,000</td>\n",
       "      <td>28,900</td>\n",
       "      <td>뽀드득뽀드득</td>\n",
       "      <td>5점만점에 5점</td>\n",
       "      <td>민감성</td>\n",
       "      <td>복합성에 좋아요</td>\n",
       "      <td>주름/미백에 좋아요</td>\n",
       "      <td>보통이에요</td>\n",
       "    </tr>\n",
       "    <tr>\n",
       "      <th>3</th>\n",
       "      <td>구달</td>\n",
       "      <td>[홍현희 PICK/ 한정기획] 구달 청귤 비타C 잡티케어 세럼 50ml+50ml 리필기획</td>\n",
       "      <td>에센스/세럼</td>\n",
       "      <td>43,000</td>\n",
       "      <td>28,900</td>\n",
       "      <td>아아룰루</td>\n",
       "      <td>5점만점에 5점</td>\n",
       "      <td>복합성</td>\n",
       "      <td>복합성에 좋아요</td>\n",
       "      <td>주름/미백에 좋아요</td>\n",
       "      <td>자극없이 순해요</td>\n",
       "    </tr>\n",
       "    <tr>\n",
       "      <th>4</th>\n",
       "      <td>구달</td>\n",
       "      <td>[홍현희 PICK/ 한정기획] 구달 청귤 비타C 잡티케어 세럼 50ml+50ml 리필기획</td>\n",
       "      <td>에센스/세럼</td>\n",
       "      <td>43,000</td>\n",
       "      <td>28,900</td>\n",
       "      <td>수부지지만행복해묘</td>\n",
       "      <td>5점만점에 5점</td>\n",
       "      <td>지성</td>\n",
       "      <td>건성에 좋아요</td>\n",
       "      <td>주름/미백에 좋아요</td>\n",
       "      <td>자극없이 순해요</td>\n",
       "    </tr>\n",
       "  </tbody>\n",
       "</table>\n",
       "</div>"
      ],
      "text/plain": [
       "  브랜드                                                상품명    카테고리      정가  \\\n",
       "0  구달  [홍현희 PICK/ 한정기획] 구달 청귤 비타C 잡티케어 세럼 50ml+50ml 리필기획  에센스/세럼  43,000   \n",
       "1  구달  [홍현희 PICK/ 한정기획] 구달 청귤 비타C 잡티케어 세럼 50ml+50ml 리필기획  에센스/세럼  43,000   \n",
       "2  구달  [홍현희 PICK/ 한정기획] 구달 청귤 비타C 잡티케어 세럼 50ml+50ml 리필기획  에센스/세럼  43,000   \n",
       "3  구달  [홍현희 PICK/ 한정기획] 구달 청귤 비타C 잡티케어 세럼 50ml+50ml 리필기획  에센스/세럼  43,000   \n",
       "4  구달  [홍현희 PICK/ 한정기획] 구달 청귤 비타C 잡티케어 세럼 50ml+50ml 리필기획  에센스/세럼  43,000   \n",
       "\n",
       "      할인가        아이디        별점 피부정보      피부타입        피부고민       자극도  \n",
       "0  28,900      고먐미먼지  5점만점에 3점  복합성   지성에 좋아요  주름/미백에 좋아요  자극없이 순해요  \n",
       "1  28,900         뚜딘  5점만점에 5점  복합성  복합성에 좋아요  주름/미백에 좋아요  자극없이 순해요  \n",
       "2  28,900     뽀드득뽀드득  5점만점에 5점  민감성  복합성에 좋아요  주름/미백에 좋아요     보통이에요  \n",
       "3  28,900       아아룰루  5점만점에 5점  복합성  복합성에 좋아요  주름/미백에 좋아요  자극없이 순해요  \n",
       "4  28,900  수부지지만행복해묘  5점만점에 5점   지성   건성에 좋아요  주름/미백에 좋아요  자극없이 순해요  "
      ]
     },
     "execution_count": 1,
     "metadata": {},
     "output_type": "execute_result"
    }
   ],
   "source": [
    "import pandas as pd\n",
    "import numpy as np\n",
    "import matplotlib.pyplot as plt\n",
    "import warnings\n",
    "warnings.filterwarnings(action='ignore')\n",
    "\n",
    "#일반적으로 사용하는 데이터 파일 불러오는 방법\n",
    "d1= pd.read_excel(\"올리브영_판매랭킹_스킨케어_2까지.xlsx\")\n",
    "d1.head()"
   ]
  },
  {
   "cell_type": "code",
   "execution_count": 2,
   "id": "61520f0e",
   "metadata": {},
   "outputs": [
    {
     "data": {
      "text/html": [
       "<div>\n",
       "<style scoped>\n",
       "    .dataframe tbody tr th:only-of-type {\n",
       "        vertical-align: middle;\n",
       "    }\n",
       "\n",
       "    .dataframe tbody tr th {\n",
       "        vertical-align: top;\n",
       "    }\n",
       "\n",
       "    .dataframe thead th {\n",
       "        text-align: right;\n",
       "    }\n",
       "</style>\n",
       "<table border=\"1\" class=\"dataframe\">\n",
       "  <thead>\n",
       "    <tr style=\"text-align: right;\">\n",
       "      <th></th>\n",
       "      <th>브랜드</th>\n",
       "      <th>상품명</th>\n",
       "      <th>카테고리</th>\n",
       "      <th>정가</th>\n",
       "      <th>할인가</th>\n",
       "      <th>아이디</th>\n",
       "      <th>별점</th>\n",
       "      <th>피부정보</th>\n",
       "      <th>피부타입</th>\n",
       "      <th>피부고민</th>\n",
       "      <th>자극도</th>\n",
       "    </tr>\n",
       "  </thead>\n",
       "  <tbody>\n",
       "    <tr>\n",
       "      <th>0</th>\n",
       "      <td>구달</td>\n",
       "      <td>[대용량 한정기획] 구달 청귤 비타C 잡티케어 세럼 50ml+31ml 증정 기획</td>\n",
       "      <td>에센스/세럼</td>\n",
       "      <td>43,000</td>\n",
       "      <td>28,410</td>\n",
       "      <td>치미럽</td>\n",
       "      <td>5점만점에 5점</td>\n",
       "      <td>복합성 봄웜톤 미백</td>\n",
       "      <td>지성에 좋아요</td>\n",
       "      <td>보습에 좋아요</td>\n",
       "      <td>자극없이 순해요</td>\n",
       "    </tr>\n",
       "    <tr>\n",
       "      <th>1</th>\n",
       "      <td>구달</td>\n",
       "      <td>[대용량 한정기획] 구달 청귤 비타C 잡티케어 세럼 50ml+31ml 증정 기획</td>\n",
       "      <td>에센스/세럼</td>\n",
       "      <td>43,000</td>\n",
       "      <td>28,410</td>\n",
       "      <td>DGHP</td>\n",
       "      <td>5점만점에 5점</td>\n",
       "      <td>민감성 웜톤 각질 모공</td>\n",
       "      <td>복합성에 좋아요</td>\n",
       "      <td>진정에 좋아요</td>\n",
       "      <td>보통이에요</td>\n",
       "    </tr>\n",
       "    <tr>\n",
       "      <th>2</th>\n",
       "      <td>구달</td>\n",
       "      <td>[대용량 한정기획] 구달 청귤 비타C 잡티케어 세럼 50ml+31ml 증정 기획</td>\n",
       "      <td>에센스/세럼</td>\n",
       "      <td>43,000</td>\n",
       "      <td>28,410</td>\n",
       "      <td>세일조아</td>\n",
       "      <td>5점만점에 5점</td>\n",
       "      <td>트러블성 가을웜톤 모공 미백</td>\n",
       "      <td>복합성에 좋아요</td>\n",
       "      <td>주름/미백에 좋아요</td>\n",
       "      <td>자극없이 순해요</td>\n",
       "    </tr>\n",
       "    <tr>\n",
       "      <th>3</th>\n",
       "      <td>구달</td>\n",
       "      <td>[대용량 한정기획] 구달 청귤 비타C 잡티케어 세럼 50ml+31ml 증정 기획</td>\n",
       "      <td>에센스/세럼</td>\n",
       "      <td>43,000</td>\n",
       "      <td>28,410</td>\n",
       "      <td>히뽀02</td>\n",
       "      <td>5점만점에 5점</td>\n",
       "      <td>복합성 웜톤 모공 블랙헤드</td>\n",
       "      <td>건성에 좋아요</td>\n",
       "      <td>주름/미백에 좋아요</td>\n",
       "      <td>보통이에요</td>\n",
       "    </tr>\n",
       "    <tr>\n",
       "      <th>4</th>\n",
       "      <td>구달</td>\n",
       "      <td>[대용량 한정기획] 구달 청귤 비타C 잡티케어 세럼 50ml+31ml 증정 기획</td>\n",
       "      <td>에센스/세럼</td>\n",
       "      <td>43,000</td>\n",
       "      <td>28,410</td>\n",
       "      <td>올live</td>\n",
       "      <td>5점만점에 4점</td>\n",
       "      <td>복합성 웜톤 각질 미백</td>\n",
       "      <td>건성에 좋아요</td>\n",
       "      <td>보습에 좋아요</td>\n",
       "      <td>자극없이 순해요</td>\n",
       "    </tr>\n",
       "  </tbody>\n",
       "</table>\n",
       "</div>"
      ],
      "text/plain": [
       "  브랜드                                           상품명    카테고리      정가     할인가   \n",
       "0  구달  [대용량 한정기획] 구달 청귤 비타C 잡티케어 세럼 50ml+31ml 증정 기획  에센스/세럼  43,000  28,410  \\\n",
       "1  구달  [대용량 한정기획] 구달 청귤 비타C 잡티케어 세럼 50ml+31ml 증정 기획  에센스/세럼  43,000  28,410   \n",
       "2  구달  [대용량 한정기획] 구달 청귤 비타C 잡티케어 세럼 50ml+31ml 증정 기획  에센스/세럼  43,000  28,410   \n",
       "3  구달  [대용량 한정기획] 구달 청귤 비타C 잡티케어 세럼 50ml+31ml 증정 기획  에센스/세럼  43,000  28,410   \n",
       "4  구달  [대용량 한정기획] 구달 청귤 비타C 잡티케어 세럼 50ml+31ml 증정 기획  에센스/세럼  43,000  28,410   \n",
       "\n",
       "     아이디        별점             피부정보      피부타입        피부고민       자극도  \n",
       "0    치미럽  5점만점에 5점       복합성 봄웜톤 미백   지성에 좋아요     보습에 좋아요  자극없이 순해요  \n",
       "1   DGHP  5점만점에 5점     민감성 웜톤 각질 모공  복합성에 좋아요     진정에 좋아요     보통이에요  \n",
       "2   세일조아  5점만점에 5점  트러블성 가을웜톤 모공 미백  복합성에 좋아요  주름/미백에 좋아요  자극없이 순해요  \n",
       "3   히뽀02  5점만점에 5점   복합성 웜톤 모공 블랙헤드   건성에 좋아요  주름/미백에 좋아요     보통이에요  \n",
       "4  올live  5점만점에 4점     복합성 웜톤 각질 미백   건성에 좋아요     보습에 좋아요  자극없이 순해요  "
      ]
     },
     "execution_count": 2,
     "metadata": {},
     "output_type": "execute_result"
    }
   ],
   "source": [
    "#반복문을 이용해서 데이터 파일 data에 저장\n",
    "\n",
    "data=[]\n",
    "for i in range(1,6):\n",
    "    data.함수1( pd.read_excel(f\"파일명규칙활용.xlsx\"))    \n",
    "\n",
    "    \n",
    "#함수2를 이용하여 data에 있는 데이터들을 합치기\n",
    "df = pd.함수2(data, ignore_index=True)    \n",
    "df.head()"
   ]
  },
  {
   "cell_type": "markdown",
   "id": "66df6d17",
   "metadata": {},
   "source": [
    "### 결측값 제거\n",
    "\n",
    "크롤링 코드 작성 시 크롤링하지 못한 정보는 '없음'으로 저장하게 했기 때문에 '없음'의 갯수로 결측값의 갯수를 파악합니다."
   ]
  },
  {
   "cell_type": "code",
   "execution_count": 3,
   "id": "f8f82995",
   "metadata": {},
   "outputs": [
    {
     "name": "stdout",
     "output_type": "stream",
     "text": [
      "브랜드 0\n",
      "상품명 0\n",
      "카테고리 0\n",
      "정가 0\n",
      "할인가 0\n",
      "아이디 4\n",
      "별점 4\n",
      "피부정보 4917\n",
      "피부타입 17\n",
      "피부고민 16\n",
      "자극도 18\n"
     ]
    }
   ],
   "source": [
    "###############제공된 코드 건드리지 마세요 ###################\n",
    "\n",
    "### 데이터 컬럼별 없음(결측치) 개수 파악\n",
    "\n",
    "col_name= df.columns    #컬럼명 저장\n",
    "from collections import Counter\n",
    "\n",
    "for i in col_name:\n",
    "    print(i,Counter(df[i])[\"없음\"])\n",
    "    "
   ]
  },
  {
   "cell_type": "code",
   "execution_count": 4,
   "id": "fec5090b",
   "metadata": {},
   "outputs": [
    {
     "data": {
      "text/html": [
       "<div>\n",
       "<style scoped>\n",
       "    .dataframe tbody tr th:only-of-type {\n",
       "        vertical-align: middle;\n",
       "    }\n",
       "\n",
       "    .dataframe tbody tr th {\n",
       "        vertical-align: top;\n",
       "    }\n",
       "\n",
       "    .dataframe thead th {\n",
       "        text-align: right;\n",
       "    }\n",
       "</style>\n",
       "<table border=\"1\" class=\"dataframe\">\n",
       "  <thead>\n",
       "    <tr style=\"text-align: right;\">\n",
       "      <th></th>\n",
       "      <th>브랜드</th>\n",
       "      <th>상품명</th>\n",
       "      <th>카테고리</th>\n",
       "      <th>정가</th>\n",
       "      <th>할인가</th>\n",
       "      <th>아이디</th>\n",
       "      <th>별점</th>\n",
       "      <th>피부정보</th>\n",
       "      <th>피부타입</th>\n",
       "      <th>피부고민</th>\n",
       "      <th>자극도</th>\n",
       "    </tr>\n",
       "  </thead>\n",
       "  <tbody>\n",
       "    <tr>\n",
       "      <th>16</th>\n",
       "      <td>구달</td>\n",
       "      <td>[대용량 한정기획] 구달 청귤 비타C 잡티케어 세럼 50ml+31ml 증정 기획</td>\n",
       "      <td>에센스/세럼</td>\n",
       "      <td>43,000</td>\n",
       "      <td>28,410</td>\n",
       "      <td>lee****</td>\n",
       "      <td>5점만점에 4점</td>\n",
       "      <td>없음</td>\n",
       "      <td>지성에 좋아요</td>\n",
       "      <td>보습에 좋아요</td>\n",
       "      <td>자극이 느껴져요</td>\n",
       "    </tr>\n",
       "    <tr>\n",
       "      <th>17</th>\n",
       "      <td>구달</td>\n",
       "      <td>[대용량 한정기획] 구달 청귤 비타C 잡티케어 세럼 50ml+31ml 증정 기획</td>\n",
       "      <td>에센스/세럼</td>\n",
       "      <td>43,000</td>\n",
       "      <td>28,410</td>\n",
       "      <td>Junobug</td>\n",
       "      <td>5점만점에 4점</td>\n",
       "      <td>없음</td>\n",
       "      <td>복합성에 좋아요</td>\n",
       "      <td>주름/미백에 좋아요</td>\n",
       "      <td>보통이에요</td>\n",
       "    </tr>\n",
       "    <tr>\n",
       "      <th>18</th>\n",
       "      <td>구달</td>\n",
       "      <td>[대용량 한정기획] 구달 청귤 비타C 잡티케어 세럼 50ml+31ml 증정 기획</td>\n",
       "      <td>에센스/세럼</td>\n",
       "      <td>43,000</td>\n",
       "      <td>28,410</td>\n",
       "      <td>이수미</td>\n",
       "      <td>5점만점에 5점</td>\n",
       "      <td>없음</td>\n",
       "      <td>건성에 좋아요</td>\n",
       "      <td>보습에 좋아요</td>\n",
       "      <td>자극없이 순해요</td>\n",
       "    </tr>\n",
       "    <tr>\n",
       "      <th>19</th>\n",
       "      <td>구달</td>\n",
       "      <td>[대용량 한정기획] 구달 청귤 비타C 잡티케어 세럼 50ml+31ml 증정 기획</td>\n",
       "      <td>에센스/세럼</td>\n",
       "      <td>43,000</td>\n",
       "      <td>28,410</td>\n",
       "      <td>dainty423</td>\n",
       "      <td>5점만점에 5점</td>\n",
       "      <td>없음</td>\n",
       "      <td>복합성에 좋아요</td>\n",
       "      <td>주름/미백에 좋아요</td>\n",
       "      <td>자극없이 순해요</td>\n",
       "    </tr>\n",
       "    <tr>\n",
       "      <th>21</th>\n",
       "      <td>구달</td>\n",
       "      <td>[대용량 한정기획] 구달 청귤 비타C 잡티케어 세럼 50ml+31ml 증정 기획</td>\n",
       "      <td>에센스/세럼</td>\n",
       "      <td>43,000</td>\n",
       "      <td>28,410</td>\n",
       "      <td>부자되고싶다</td>\n",
       "      <td>5점만점에 5점</td>\n",
       "      <td>없음</td>\n",
       "      <td>복합성에 좋아요</td>\n",
       "      <td>주름/미백에 좋아요</td>\n",
       "      <td>자극없이 순해요</td>\n",
       "    </tr>\n",
       "    <tr>\n",
       "      <th>...</th>\n",
       "      <td>...</td>\n",
       "      <td>...</td>\n",
       "      <td>...</td>\n",
       "      <td>...</td>\n",
       "      <td>...</td>\n",
       "      <td>...</td>\n",
       "      <td>...</td>\n",
       "      <td>...</td>\n",
       "      <td>...</td>\n",
       "      <td>...</td>\n",
       "      <td>...</td>\n",
       "    </tr>\n",
       "    <tr>\n",
       "      <th>10301</th>\n",
       "      <td>에스트라</td>\n",
       "      <td>에스트라 아토베리어365 로션 150ml 기획 (+하이드로에센스 25ml+무기자차선...</td>\n",
       "      <td>로션/에멀젼</td>\n",
       "      <td>31,000</td>\n",
       "      <td>24,800</td>\n",
       "      <td>요거트다내꺼</td>\n",
       "      <td>5점만점에 5점</td>\n",
       "      <td>없음</td>\n",
       "      <td>건성에 좋아요</td>\n",
       "      <td>보습에 좋아요</td>\n",
       "      <td>자극없이 순해요</td>\n",
       "    </tr>\n",
       "    <tr>\n",
       "      <th>10308</th>\n",
       "      <td>에스트라</td>\n",
       "      <td>에스트라 아토베리어365 로션 150ml 기획 (+하이드로에센스 25ml+무기자차선...</td>\n",
       "      <td>로션/에멀젼</td>\n",
       "      <td>31,000</td>\n",
       "      <td>24,800</td>\n",
       "      <td>전빵</td>\n",
       "      <td>5점만점에 5점</td>\n",
       "      <td>없음</td>\n",
       "      <td>복합성에 좋아요</td>\n",
       "      <td>진정에 좋아요</td>\n",
       "      <td>자극없이 순해요</td>\n",
       "    </tr>\n",
       "    <tr>\n",
       "      <th>10309</th>\n",
       "      <td>에스트라</td>\n",
       "      <td>에스트라 아토베리어365 로션 150ml 기획 (+하이드로에센스 25ml+무기자차선...</td>\n",
       "      <td>로션/에멀젼</td>\n",
       "      <td>31,000</td>\n",
       "      <td>24,800</td>\n",
       "      <td>이젼91</td>\n",
       "      <td>5점만점에 5점</td>\n",
       "      <td>없음</td>\n",
       "      <td>건성에 좋아요</td>\n",
       "      <td>보습에 좋아요</td>\n",
       "      <td>자극없이 순해요</td>\n",
       "    </tr>\n",
       "    <tr>\n",
       "      <th>10310</th>\n",
       "      <td>에스트라</td>\n",
       "      <td>에스트라 아토베리어365 로션 150ml 기획 (+하이드로에센스 25ml+무기자차선...</td>\n",
       "      <td>로션/에멀젼</td>\n",
       "      <td>31,000</td>\n",
       "      <td>24,800</td>\n",
       "      <td>오일리해</td>\n",
       "      <td>5점만점에 5점</td>\n",
       "      <td>없음</td>\n",
       "      <td>복합성에 좋아요</td>\n",
       "      <td>보습에 좋아요</td>\n",
       "      <td>자극없이 순해요</td>\n",
       "    </tr>\n",
       "    <tr>\n",
       "      <th>10311</th>\n",
       "      <td>에스트라</td>\n",
       "      <td>에스트라 아토베리어365 로션 150ml 기획 (+하이드로에센스 25ml+무기자차선...</td>\n",
       "      <td>로션/에멀젼</td>\n",
       "      <td>31,000</td>\n",
       "      <td>24,800</td>\n",
       "      <td>잉고기</td>\n",
       "      <td>5점만점에 5점</td>\n",
       "      <td>없음</td>\n",
       "      <td>복합성에 좋아요</td>\n",
       "      <td>보습에 좋아요</td>\n",
       "      <td>자극없이 순해요</td>\n",
       "    </tr>\n",
       "  </tbody>\n",
       "</table>\n",
       "<p>4920 rows × 11 columns</p>\n",
       "</div>"
      ],
      "text/plain": [
       "        브랜드                                                상품명    카테고리   \n",
       "16       구달       [대용량 한정기획] 구달 청귤 비타C 잡티케어 세럼 50ml+31ml 증정 기획  에센스/세럼  \\\n",
       "17       구달       [대용량 한정기획] 구달 청귤 비타C 잡티케어 세럼 50ml+31ml 증정 기획  에센스/세럼   \n",
       "18       구달       [대용량 한정기획] 구달 청귤 비타C 잡티케어 세럼 50ml+31ml 증정 기획  에센스/세럼   \n",
       "19       구달       [대용량 한정기획] 구달 청귤 비타C 잡티케어 세럼 50ml+31ml 증정 기획  에센스/세럼   \n",
       "21       구달       [대용량 한정기획] 구달 청귤 비타C 잡티케어 세럼 50ml+31ml 증정 기획  에센스/세럼   \n",
       "...     ...                                                ...     ...   \n",
       "10301  에스트라  에스트라 아토베리어365 로션 150ml 기획 (+하이드로에센스 25ml+무기자차선...  로션/에멀젼   \n",
       "10308  에스트라  에스트라 아토베리어365 로션 150ml 기획 (+하이드로에센스 25ml+무기자차선...  로션/에멀젼   \n",
       "10309  에스트라  에스트라 아토베리어365 로션 150ml 기획 (+하이드로에센스 25ml+무기자차선...  로션/에멀젼   \n",
       "10310  에스트라  에스트라 아토베리어365 로션 150ml 기획 (+하이드로에센스 25ml+무기자차선...  로션/에멀젼   \n",
       "10311  에스트라  에스트라 아토베리어365 로션 150ml 기획 (+하이드로에센스 25ml+무기자차선...  로션/에멀젼   \n",
       "\n",
       "           정가     할인가        아이디        별점 피부정보      피부타입        피부고민   \n",
       "16     43,000  28,410    lee****  5점만점에 4점   없음   지성에 좋아요     보습에 좋아요  \\\n",
       "17     43,000  28,410    Junobug  5점만점에 4점   없음  복합성에 좋아요  주름/미백에 좋아요   \n",
       "18     43,000  28,410        이수미  5점만점에 5점   없음   건성에 좋아요     보습에 좋아요   \n",
       "19     43,000  28,410  dainty423  5점만점에 5점   없음  복합성에 좋아요  주름/미백에 좋아요   \n",
       "21     43,000  28,410     부자되고싶다  5점만점에 5점   없음  복합성에 좋아요  주름/미백에 좋아요   \n",
       "...       ...     ...        ...       ...  ...       ...         ...   \n",
       "10301  31,000  24,800     요거트다내꺼  5점만점에 5점   없음   건성에 좋아요     보습에 좋아요   \n",
       "10308  31,000  24,800         전빵  5점만점에 5점   없음  복합성에 좋아요     진정에 좋아요   \n",
       "10309  31,000  24,800       이젼91  5점만점에 5점   없음   건성에 좋아요     보습에 좋아요   \n",
       "10310  31,000  24,800       오일리해  5점만점에 5점   없음  복합성에 좋아요     보습에 좋아요   \n",
       "10311  31,000  24,800        잉고기  5점만점에 5점   없음  복합성에 좋아요     보습에 좋아요   \n",
       "\n",
       "            자극도  \n",
       "16     자극이 느껴져요  \n",
       "17        보통이에요  \n",
       "18     자극없이 순해요  \n",
       "19     자극없이 순해요  \n",
       "21     자극없이 순해요  \n",
       "...         ...  \n",
       "10301  자극없이 순해요  \n",
       "10308  자극없이 순해요  \n",
       "10309  자극없이 순해요  \n",
       "10310  자극없이 순해요  \n",
       "10311  자극없이 순해요  \n",
       "\n",
       "[4920 rows x 11 columns]"
      ]
     },
     "execution_count": 4,
     "metadata": {},
     "output_type": "execute_result"
    }
   ],
   "source": [
    "#피부정보, 별점, 피부타입, 피부고민, 자극도 중 하나라도 값이 '없음'인 경우 \n",
    "df."
   ]
  },
  {
   "cell_type": "code",
   "execution_count": 5,
   "id": "6147bbee",
   "metadata": {},
   "outputs": [
    {
     "data": {
      "text/plain": [
       "(5392, 11)"
      ]
     },
     "execution_count": 5,
     "metadata": {},
     "output_type": "execute_result"
    }
   ],
   "source": [
    "### 별점, 피부타입, 피부고민, 자극도 값이 없음은 제거한 데이터를 df2에 저장\n",
    "\n",
    "df2= \n",
    "df2.reset_index(drop=True, inplace=True)\n",
    "df2.shape"
   ]
  },
  {
   "cell_type": "code",
   "execution_count": 6,
   "id": "0aabf144",
   "metadata": {},
   "outputs": [
    {
     "name": "stdout",
     "output_type": "stream",
     "text": [
      "브랜드 0\n",
      "상품명 0\n",
      "카테고리 0\n",
      "정가 0\n",
      "할인가 0\n",
      "아이디 0\n",
      "별점 0\n",
      "피부정보 0\n",
      "피부타입 0\n",
      "피부고민 0\n",
      "자극도 0\n"
     ]
    }
   ],
   "source": [
    "###############제공된 코드 건드리지 마세요 ###################\n",
    "### 데이터 컬럼별 없음(결측치) 개수 파악\n",
    "\n",
    "col_name= df2.columns    #컬럼명 저장\n",
    "from collections import Counter\n",
    "\n",
    "for i in col_name:\n",
    "    print(i,Counter(df2[i])[\"없음\"])"
   ]
  },
  {
   "cell_type": "markdown",
   "id": "61f4a48f",
   "metadata": {},
   "source": [
    "### 정가, 할인가 데이터 타입 변경\n",
    "\n",
    "정가,할인가의 쉼표를 제거하고 데이터 타입을 int64로 바꿔줍니다."
   ]
  },
  {
   "cell_type": "code",
   "execution_count": 7,
   "id": "080f3c78",
   "metadata": {},
   "outputs": [
    {
     "data": {
      "text/html": [
       "<div>\n",
       "<style scoped>\n",
       "    .dataframe tbody tr th:only-of-type {\n",
       "        vertical-align: middle;\n",
       "    }\n",
       "\n",
       "    .dataframe tbody tr th {\n",
       "        vertical-align: top;\n",
       "    }\n",
       "\n",
       "    .dataframe thead th {\n",
       "        text-align: right;\n",
       "    }\n",
       "</style>\n",
       "<table border=\"1\" class=\"dataframe\">\n",
       "  <thead>\n",
       "    <tr style=\"text-align: right;\">\n",
       "      <th></th>\n",
       "      <th>브랜드</th>\n",
       "      <th>상품명</th>\n",
       "      <th>카테고리</th>\n",
       "      <th>정가</th>\n",
       "      <th>할인가</th>\n",
       "      <th>아이디</th>\n",
       "      <th>별점</th>\n",
       "      <th>피부정보</th>\n",
       "      <th>피부타입</th>\n",
       "      <th>피부고민</th>\n",
       "      <th>자극도</th>\n",
       "    </tr>\n",
       "  </thead>\n",
       "  <tbody>\n",
       "    <tr>\n",
       "      <th>0</th>\n",
       "      <td>구달</td>\n",
       "      <td>[대용량 한정기획] 구달 청귤 비타C 잡티케어 세럼 50ml+31ml 증정 기획</td>\n",
       "      <td>에센스/세럼</td>\n",
       "      <td>43000</td>\n",
       "      <td>28410</td>\n",
       "      <td>치미럽</td>\n",
       "      <td>5점만점에 5점</td>\n",
       "      <td>복합성 봄웜톤 미백</td>\n",
       "      <td>지성에 좋아요</td>\n",
       "      <td>보습에 좋아요</td>\n",
       "      <td>자극없이 순해요</td>\n",
       "    </tr>\n",
       "    <tr>\n",
       "      <th>1</th>\n",
       "      <td>구달</td>\n",
       "      <td>[대용량 한정기획] 구달 청귤 비타C 잡티케어 세럼 50ml+31ml 증정 기획</td>\n",
       "      <td>에센스/세럼</td>\n",
       "      <td>43000</td>\n",
       "      <td>28410</td>\n",
       "      <td>DGHP</td>\n",
       "      <td>5점만점에 5점</td>\n",
       "      <td>민감성 웜톤 각질 모공</td>\n",
       "      <td>복합성에 좋아요</td>\n",
       "      <td>진정에 좋아요</td>\n",
       "      <td>보통이에요</td>\n",
       "    </tr>\n",
       "    <tr>\n",
       "      <th>2</th>\n",
       "      <td>구달</td>\n",
       "      <td>[대용량 한정기획] 구달 청귤 비타C 잡티케어 세럼 50ml+31ml 증정 기획</td>\n",
       "      <td>에센스/세럼</td>\n",
       "      <td>43000</td>\n",
       "      <td>28410</td>\n",
       "      <td>세일조아</td>\n",
       "      <td>5점만점에 5점</td>\n",
       "      <td>트러블성 가을웜톤 모공 미백</td>\n",
       "      <td>복합성에 좋아요</td>\n",
       "      <td>주름/미백에 좋아요</td>\n",
       "      <td>자극없이 순해요</td>\n",
       "    </tr>\n",
       "    <tr>\n",
       "      <th>3</th>\n",
       "      <td>구달</td>\n",
       "      <td>[대용량 한정기획] 구달 청귤 비타C 잡티케어 세럼 50ml+31ml 증정 기획</td>\n",
       "      <td>에센스/세럼</td>\n",
       "      <td>43000</td>\n",
       "      <td>28410</td>\n",
       "      <td>히뽀02</td>\n",
       "      <td>5점만점에 5점</td>\n",
       "      <td>복합성 웜톤 모공 블랙헤드</td>\n",
       "      <td>건성에 좋아요</td>\n",
       "      <td>주름/미백에 좋아요</td>\n",
       "      <td>보통이에요</td>\n",
       "    </tr>\n",
       "    <tr>\n",
       "      <th>4</th>\n",
       "      <td>구달</td>\n",
       "      <td>[대용량 한정기획] 구달 청귤 비타C 잡티케어 세럼 50ml+31ml 증정 기획</td>\n",
       "      <td>에센스/세럼</td>\n",
       "      <td>43000</td>\n",
       "      <td>28410</td>\n",
       "      <td>올live</td>\n",
       "      <td>5점만점에 4점</td>\n",
       "      <td>복합성 웜톤 각질 미백</td>\n",
       "      <td>건성에 좋아요</td>\n",
       "      <td>보습에 좋아요</td>\n",
       "      <td>자극없이 순해요</td>\n",
       "    </tr>\n",
       "  </tbody>\n",
       "</table>\n",
       "</div>"
      ],
      "text/plain": [
       "  브랜드                                           상품명    카테고리     정가    할인가   \n",
       "0  구달  [대용량 한정기획] 구달 청귤 비타C 잡티케어 세럼 50ml+31ml 증정 기획  에센스/세럼  43000  28410  \\\n",
       "1  구달  [대용량 한정기획] 구달 청귤 비타C 잡티케어 세럼 50ml+31ml 증정 기획  에센스/세럼  43000  28410   \n",
       "2  구달  [대용량 한정기획] 구달 청귤 비타C 잡티케어 세럼 50ml+31ml 증정 기획  에센스/세럼  43000  28410   \n",
       "3  구달  [대용량 한정기획] 구달 청귤 비타C 잡티케어 세럼 50ml+31ml 증정 기획  에센스/세럼  43000  28410   \n",
       "4  구달  [대용량 한정기획] 구달 청귤 비타C 잡티케어 세럼 50ml+31ml 증정 기획  에센스/세럼  43000  28410   \n",
       "\n",
       "     아이디        별점             피부정보      피부타입        피부고민       자극도  \n",
       "0    치미럽  5점만점에 5점       복합성 봄웜톤 미백   지성에 좋아요     보습에 좋아요  자극없이 순해요  \n",
       "1   DGHP  5점만점에 5점     민감성 웜톤 각질 모공  복합성에 좋아요     진정에 좋아요     보통이에요  \n",
       "2   세일조아  5점만점에 5점  트러블성 가을웜톤 모공 미백  복합성에 좋아요  주름/미백에 좋아요  자극없이 순해요  \n",
       "3   히뽀02  5점만점에 5점   복합성 웜톤 모공 블랙헤드   건성에 좋아요  주름/미백에 좋아요     보통이에요  \n",
       "4  올live  5점만점에 4점     복합성 웜톤 각질 미백   건성에 좋아요     보습에 좋아요  자극없이 순해요  "
      ]
     },
     "execution_count": 7,
     "metadata": {},
     "output_type": "execute_result"
    }
   ],
   "source": [
    "\n",
    "\n",
    "df2.head()"
   ]
  },
  {
   "cell_type": "code",
   "execution_count": 8,
   "id": "66844f67",
   "metadata": {},
   "outputs": [
    {
     "data": {
      "text/plain": [
       "브랜드     object\n",
       "상품명     object\n",
       "카테고리    object\n",
       "정가       int64\n",
       "할인가      int64\n",
       "아이디     object\n",
       "별점      object\n",
       "피부정보    object\n",
       "피부타입    object\n",
       "피부고민    object\n",
       "자극도     object\n",
       "dtype: object"
      ]
     },
     "execution_count": 8,
     "metadata": {},
     "output_type": "execute_result"
    }
   ],
   "source": [
    "df2.dtypes"
   ]
  },
  {
   "cell_type": "markdown",
   "id": "4b276ece",
   "metadata": {},
   "source": [
    "### 아이디 컬럼 삭제\n",
    "\n",
    "모델 학습 시 아이디 정보는 필요하지 않기 때문에 제거해줍니다."
   ]
  },
  {
   "cell_type": "code",
   "execution_count": 9,
   "id": "d863642d",
   "metadata": {},
   "outputs": [
    {
     "data": {
      "text/html": [
       "<div>\n",
       "<style scoped>\n",
       "    .dataframe tbody tr th:only-of-type {\n",
       "        vertical-align: middle;\n",
       "    }\n",
       "\n",
       "    .dataframe tbody tr th {\n",
       "        vertical-align: top;\n",
       "    }\n",
       "\n",
       "    .dataframe thead th {\n",
       "        text-align: right;\n",
       "    }\n",
       "</style>\n",
       "<table border=\"1\" class=\"dataframe\">\n",
       "  <thead>\n",
       "    <tr style=\"text-align: right;\">\n",
       "      <th></th>\n",
       "      <th>브랜드</th>\n",
       "      <th>상품명</th>\n",
       "      <th>카테고리</th>\n",
       "      <th>정가</th>\n",
       "      <th>할인가</th>\n",
       "      <th>별점</th>\n",
       "      <th>피부정보</th>\n",
       "      <th>피부타입</th>\n",
       "      <th>피부고민</th>\n",
       "      <th>자극도</th>\n",
       "    </tr>\n",
       "  </thead>\n",
       "  <tbody>\n",
       "    <tr>\n",
       "      <th>0</th>\n",
       "      <td>구달</td>\n",
       "      <td>[대용량 한정기획] 구달 청귤 비타C 잡티케어 세럼 50ml+31ml 증정 기획</td>\n",
       "      <td>에센스/세럼</td>\n",
       "      <td>43000</td>\n",
       "      <td>28410</td>\n",
       "      <td>5점만점에 5점</td>\n",
       "      <td>복합성 봄웜톤 미백</td>\n",
       "      <td>지성에 좋아요</td>\n",
       "      <td>보습에 좋아요</td>\n",
       "      <td>자극없이 순해요</td>\n",
       "    </tr>\n",
       "    <tr>\n",
       "      <th>1</th>\n",
       "      <td>구달</td>\n",
       "      <td>[대용량 한정기획] 구달 청귤 비타C 잡티케어 세럼 50ml+31ml 증정 기획</td>\n",
       "      <td>에센스/세럼</td>\n",
       "      <td>43000</td>\n",
       "      <td>28410</td>\n",
       "      <td>5점만점에 5점</td>\n",
       "      <td>민감성 웜톤 각질 모공</td>\n",
       "      <td>복합성에 좋아요</td>\n",
       "      <td>진정에 좋아요</td>\n",
       "      <td>보통이에요</td>\n",
       "    </tr>\n",
       "    <tr>\n",
       "      <th>2</th>\n",
       "      <td>구달</td>\n",
       "      <td>[대용량 한정기획] 구달 청귤 비타C 잡티케어 세럼 50ml+31ml 증정 기획</td>\n",
       "      <td>에센스/세럼</td>\n",
       "      <td>43000</td>\n",
       "      <td>28410</td>\n",
       "      <td>5점만점에 5점</td>\n",
       "      <td>트러블성 가을웜톤 모공 미백</td>\n",
       "      <td>복합성에 좋아요</td>\n",
       "      <td>주름/미백에 좋아요</td>\n",
       "      <td>자극없이 순해요</td>\n",
       "    </tr>\n",
       "    <tr>\n",
       "      <th>3</th>\n",
       "      <td>구달</td>\n",
       "      <td>[대용량 한정기획] 구달 청귤 비타C 잡티케어 세럼 50ml+31ml 증정 기획</td>\n",
       "      <td>에센스/세럼</td>\n",
       "      <td>43000</td>\n",
       "      <td>28410</td>\n",
       "      <td>5점만점에 5점</td>\n",
       "      <td>복합성 웜톤 모공 블랙헤드</td>\n",
       "      <td>건성에 좋아요</td>\n",
       "      <td>주름/미백에 좋아요</td>\n",
       "      <td>보통이에요</td>\n",
       "    </tr>\n",
       "    <tr>\n",
       "      <th>4</th>\n",
       "      <td>구달</td>\n",
       "      <td>[대용량 한정기획] 구달 청귤 비타C 잡티케어 세럼 50ml+31ml 증정 기획</td>\n",
       "      <td>에센스/세럼</td>\n",
       "      <td>43000</td>\n",
       "      <td>28410</td>\n",
       "      <td>5점만점에 4점</td>\n",
       "      <td>복합성 웜톤 각질 미백</td>\n",
       "      <td>건성에 좋아요</td>\n",
       "      <td>보습에 좋아요</td>\n",
       "      <td>자극없이 순해요</td>\n",
       "    </tr>\n",
       "  </tbody>\n",
       "</table>\n",
       "</div>"
      ],
      "text/plain": [
       "  브랜드                                           상품명    카테고리     정가    할인가   \n",
       "0  구달  [대용량 한정기획] 구달 청귤 비타C 잡티케어 세럼 50ml+31ml 증정 기획  에센스/세럼  43000  28410  \\\n",
       "1  구달  [대용량 한정기획] 구달 청귤 비타C 잡티케어 세럼 50ml+31ml 증정 기획  에센스/세럼  43000  28410   \n",
       "2  구달  [대용량 한정기획] 구달 청귤 비타C 잡티케어 세럼 50ml+31ml 증정 기획  에센스/세럼  43000  28410   \n",
       "3  구달  [대용량 한정기획] 구달 청귤 비타C 잡티케어 세럼 50ml+31ml 증정 기획  에센스/세럼  43000  28410   \n",
       "4  구달  [대용량 한정기획] 구달 청귤 비타C 잡티케어 세럼 50ml+31ml 증정 기획  에센스/세럼  43000  28410   \n",
       "\n",
       "         별점             피부정보      피부타입        피부고민       자극도  \n",
       "0  5점만점에 5점       복합성 봄웜톤 미백   지성에 좋아요     보습에 좋아요  자극없이 순해요  \n",
       "1  5점만점에 5점     민감성 웜톤 각질 모공  복합성에 좋아요     진정에 좋아요     보통이에요  \n",
       "2  5점만점에 5점  트러블성 가을웜톤 모공 미백  복합성에 좋아요  주름/미백에 좋아요  자극없이 순해요  \n",
       "3  5점만점에 5점   복합성 웜톤 모공 블랙헤드   건성에 좋아요  주름/미백에 좋아요     보통이에요  \n",
       "4  5점만점에 4점     복합성 웜톤 각질 미백   건성에 좋아요     보습에 좋아요  자극없이 순해요  "
      ]
     },
     "execution_count": 9,
     "metadata": {},
     "output_type": "execute_result"
    }
   ],
   "source": [
    "\n",
    "df2.head()"
   ]
  },
  {
   "cell_type": "markdown",
   "id": "eb864889",
   "metadata": {},
   "source": [
    "### 별점에서 숫자만 남기기\n",
    "\n",
    "현재 별점은 5점만점에 X점과 같은 형식으로 되어있습니다. 여기서 X만 남기고 데이터 타입을 int64로 바꿔줍니다."
   ]
  },
  {
   "cell_type": "code",
   "execution_count": 10,
   "id": "c61ca93c",
   "metadata": {},
   "outputs": [
    {
     "data": {
      "text/html": [
       "<div>\n",
       "<style scoped>\n",
       "    .dataframe tbody tr th:only-of-type {\n",
       "        vertical-align: middle;\n",
       "    }\n",
       "\n",
       "    .dataframe tbody tr th {\n",
       "        vertical-align: top;\n",
       "    }\n",
       "\n",
       "    .dataframe thead th {\n",
       "        text-align: right;\n",
       "    }\n",
       "</style>\n",
       "<table border=\"1\" class=\"dataframe\">\n",
       "  <thead>\n",
       "    <tr style=\"text-align: right;\">\n",
       "      <th></th>\n",
       "      <th>브랜드</th>\n",
       "      <th>상품명</th>\n",
       "      <th>카테고리</th>\n",
       "      <th>정가</th>\n",
       "      <th>할인가</th>\n",
       "      <th>별점</th>\n",
       "      <th>피부정보</th>\n",
       "      <th>피부타입</th>\n",
       "      <th>피부고민</th>\n",
       "      <th>자극도</th>\n",
       "    </tr>\n",
       "  </thead>\n",
       "  <tbody>\n",
       "    <tr>\n",
       "      <th>0</th>\n",
       "      <td>구달</td>\n",
       "      <td>[대용량 한정기획] 구달 청귤 비타C 잡티케어 세럼 50ml+31ml 증정 기획</td>\n",
       "      <td>에센스/세럼</td>\n",
       "      <td>43000</td>\n",
       "      <td>28410</td>\n",
       "      <td>5</td>\n",
       "      <td>복합성 봄웜톤 미백</td>\n",
       "      <td>지성에 좋아요</td>\n",
       "      <td>보습에 좋아요</td>\n",
       "      <td>자극없이 순해요</td>\n",
       "    </tr>\n",
       "    <tr>\n",
       "      <th>1</th>\n",
       "      <td>구달</td>\n",
       "      <td>[대용량 한정기획] 구달 청귤 비타C 잡티케어 세럼 50ml+31ml 증정 기획</td>\n",
       "      <td>에센스/세럼</td>\n",
       "      <td>43000</td>\n",
       "      <td>28410</td>\n",
       "      <td>5</td>\n",
       "      <td>민감성 웜톤 각질 모공</td>\n",
       "      <td>복합성에 좋아요</td>\n",
       "      <td>진정에 좋아요</td>\n",
       "      <td>보통이에요</td>\n",
       "    </tr>\n",
       "    <tr>\n",
       "      <th>2</th>\n",
       "      <td>구달</td>\n",
       "      <td>[대용량 한정기획] 구달 청귤 비타C 잡티케어 세럼 50ml+31ml 증정 기획</td>\n",
       "      <td>에센스/세럼</td>\n",
       "      <td>43000</td>\n",
       "      <td>28410</td>\n",
       "      <td>5</td>\n",
       "      <td>트러블성 가을웜톤 모공 미백</td>\n",
       "      <td>복합성에 좋아요</td>\n",
       "      <td>주름/미백에 좋아요</td>\n",
       "      <td>자극없이 순해요</td>\n",
       "    </tr>\n",
       "    <tr>\n",
       "      <th>3</th>\n",
       "      <td>구달</td>\n",
       "      <td>[대용량 한정기획] 구달 청귤 비타C 잡티케어 세럼 50ml+31ml 증정 기획</td>\n",
       "      <td>에센스/세럼</td>\n",
       "      <td>43000</td>\n",
       "      <td>28410</td>\n",
       "      <td>5</td>\n",
       "      <td>복합성 웜톤 모공 블랙헤드</td>\n",
       "      <td>건성에 좋아요</td>\n",
       "      <td>주름/미백에 좋아요</td>\n",
       "      <td>보통이에요</td>\n",
       "    </tr>\n",
       "    <tr>\n",
       "      <th>4</th>\n",
       "      <td>구달</td>\n",
       "      <td>[대용량 한정기획] 구달 청귤 비타C 잡티케어 세럼 50ml+31ml 증정 기획</td>\n",
       "      <td>에센스/세럼</td>\n",
       "      <td>43000</td>\n",
       "      <td>28410</td>\n",
       "      <td>4</td>\n",
       "      <td>복합성 웜톤 각질 미백</td>\n",
       "      <td>건성에 좋아요</td>\n",
       "      <td>보습에 좋아요</td>\n",
       "      <td>자극없이 순해요</td>\n",
       "    </tr>\n",
       "  </tbody>\n",
       "</table>\n",
       "</div>"
      ],
      "text/plain": [
       "  브랜드                                           상품명    카테고리     정가    할인가  별점   \n",
       "0  구달  [대용량 한정기획] 구달 청귤 비타C 잡티케어 세럼 50ml+31ml 증정 기획  에센스/세럼  43000  28410   5  \\\n",
       "1  구달  [대용량 한정기획] 구달 청귤 비타C 잡티케어 세럼 50ml+31ml 증정 기획  에센스/세럼  43000  28410   5   \n",
       "2  구달  [대용량 한정기획] 구달 청귤 비타C 잡티케어 세럼 50ml+31ml 증정 기획  에센스/세럼  43000  28410   5   \n",
       "3  구달  [대용량 한정기획] 구달 청귤 비타C 잡티케어 세럼 50ml+31ml 증정 기획  에센스/세럼  43000  28410   5   \n",
       "4  구달  [대용량 한정기획] 구달 청귤 비타C 잡티케어 세럼 50ml+31ml 증정 기획  에센스/세럼  43000  28410   4   \n",
       "\n",
       "              피부정보      피부타입        피부고민       자극도  \n",
       "0       복합성 봄웜톤 미백   지성에 좋아요     보습에 좋아요  자극없이 순해요  \n",
       "1     민감성 웜톤 각질 모공  복합성에 좋아요     진정에 좋아요     보통이에요  \n",
       "2  트러블성 가을웜톤 모공 미백  복합성에 좋아요  주름/미백에 좋아요  자극없이 순해요  \n",
       "3   복합성 웜톤 모공 블랙헤드   건성에 좋아요  주름/미백에 좋아요     보통이에요  \n",
       "4     복합성 웜톤 각질 미백   건성에 좋아요     보습에 좋아요  자극없이 순해요  "
      ]
     },
     "execution_count": 10,
     "metadata": {},
     "output_type": "execute_result"
    }
   ],
   "source": [
    "\n",
    "\n",
    "df2.head()"
   ]
  },
  {
   "cell_type": "code",
   "execution_count": 11,
   "id": "af923f15",
   "metadata": {},
   "outputs": [
    {
     "data": {
      "text/plain": [
       "브랜드     object\n",
       "상품명     object\n",
       "카테고리    object\n",
       "정가       int64\n",
       "할인가      int64\n",
       "별점       int64\n",
       "피부정보    object\n",
       "피부타입    object\n",
       "피부고민    object\n",
       "자극도     object\n",
       "dtype: object"
      ]
     },
     "execution_count": 11,
     "metadata": {},
     "output_type": "execute_result"
    }
   ],
   "source": [
    "df2.dtypes"
   ]
  },
  {
   "cell_type": "markdown",
   "id": "fd05bfa2",
   "metadata": {},
   "source": [
    "### 피부정보 컬럼을 여러컬럼으로 구분\n",
    "\n",
    "피부정보에는 최대 피부타입, 피부톤, 2개의 피부고민 총 4개로 이루어져 있습니다.  \n",
    "해당 텍스트는 공백으로 구분되어있고 이를 이용해 4개의 컬럼(user피부타입/user피부톤/user피부고민1/user피부고민2)으로 만들어 줍니다."
   ]
  },
  {
   "cell_type": "code",
   "execution_count": 12,
   "id": "130518af",
   "metadata": {},
   "outputs": [
    {
     "data": {
      "text/html": [
       "<div>\n",
       "<style scoped>\n",
       "    .dataframe tbody tr th:only-of-type {\n",
       "        vertical-align: middle;\n",
       "    }\n",
       "\n",
       "    .dataframe tbody tr th {\n",
       "        vertical-align: top;\n",
       "    }\n",
       "\n",
       "    .dataframe thead th {\n",
       "        text-align: right;\n",
       "    }\n",
       "</style>\n",
       "<table border=\"1\" class=\"dataframe\">\n",
       "  <thead>\n",
       "    <tr style=\"text-align: right;\">\n",
       "      <th></th>\n",
       "      <th>브랜드</th>\n",
       "      <th>상품명</th>\n",
       "      <th>카테고리</th>\n",
       "      <th>정가</th>\n",
       "      <th>할인가</th>\n",
       "      <th>별점</th>\n",
       "      <th>피부정보</th>\n",
       "      <th>피부타입</th>\n",
       "      <th>피부고민</th>\n",
       "      <th>자극도</th>\n",
       "      <th>user피부타입</th>\n",
       "      <th>user피부톤</th>\n",
       "      <th>user피부고민1</th>\n",
       "      <th>user피부고민2</th>\n",
       "    </tr>\n",
       "  </thead>\n",
       "  <tbody>\n",
       "    <tr>\n",
       "      <th>0</th>\n",
       "      <td>구달</td>\n",
       "      <td>[대용량 한정기획] 구달 청귤 비타C 잡티케어 세럼 50ml+31ml 증정 기획</td>\n",
       "      <td>에센스/세럼</td>\n",
       "      <td>43000</td>\n",
       "      <td>28410</td>\n",
       "      <td>5</td>\n",
       "      <td>복합성 봄웜톤 미백</td>\n",
       "      <td>지성에 좋아요</td>\n",
       "      <td>보습에 좋아요</td>\n",
       "      <td>자극없이 순해요</td>\n",
       "      <td>복합성</td>\n",
       "      <td>봄웜톤</td>\n",
       "      <td>미백</td>\n",
       "      <td>NaN</td>\n",
       "    </tr>\n",
       "    <tr>\n",
       "      <th>1</th>\n",
       "      <td>구달</td>\n",
       "      <td>[대용량 한정기획] 구달 청귤 비타C 잡티케어 세럼 50ml+31ml 증정 기획</td>\n",
       "      <td>에센스/세럼</td>\n",
       "      <td>43000</td>\n",
       "      <td>28410</td>\n",
       "      <td>5</td>\n",
       "      <td>민감성 웜톤 각질 모공</td>\n",
       "      <td>복합성에 좋아요</td>\n",
       "      <td>진정에 좋아요</td>\n",
       "      <td>보통이에요</td>\n",
       "      <td>민감성</td>\n",
       "      <td>웜톤</td>\n",
       "      <td>각질</td>\n",
       "      <td>모공</td>\n",
       "    </tr>\n",
       "    <tr>\n",
       "      <th>2</th>\n",
       "      <td>구달</td>\n",
       "      <td>[대용량 한정기획] 구달 청귤 비타C 잡티케어 세럼 50ml+31ml 증정 기획</td>\n",
       "      <td>에센스/세럼</td>\n",
       "      <td>43000</td>\n",
       "      <td>28410</td>\n",
       "      <td>5</td>\n",
       "      <td>트러블성 가을웜톤 모공 미백</td>\n",
       "      <td>복합성에 좋아요</td>\n",
       "      <td>주름/미백에 좋아요</td>\n",
       "      <td>자극없이 순해요</td>\n",
       "      <td>트러블성</td>\n",
       "      <td>가을웜톤</td>\n",
       "      <td>모공</td>\n",
       "      <td>미백</td>\n",
       "    </tr>\n",
       "    <tr>\n",
       "      <th>3</th>\n",
       "      <td>구달</td>\n",
       "      <td>[대용량 한정기획] 구달 청귤 비타C 잡티케어 세럼 50ml+31ml 증정 기획</td>\n",
       "      <td>에센스/세럼</td>\n",
       "      <td>43000</td>\n",
       "      <td>28410</td>\n",
       "      <td>5</td>\n",
       "      <td>복합성 웜톤 모공 블랙헤드</td>\n",
       "      <td>건성에 좋아요</td>\n",
       "      <td>주름/미백에 좋아요</td>\n",
       "      <td>보통이에요</td>\n",
       "      <td>복합성</td>\n",
       "      <td>웜톤</td>\n",
       "      <td>모공</td>\n",
       "      <td>블랙헤드</td>\n",
       "    </tr>\n",
       "    <tr>\n",
       "      <th>4</th>\n",
       "      <td>구달</td>\n",
       "      <td>[대용량 한정기획] 구달 청귤 비타C 잡티케어 세럼 50ml+31ml 증정 기획</td>\n",
       "      <td>에센스/세럼</td>\n",
       "      <td>43000</td>\n",
       "      <td>28410</td>\n",
       "      <td>4</td>\n",
       "      <td>복합성 웜톤 각질 미백</td>\n",
       "      <td>건성에 좋아요</td>\n",
       "      <td>보습에 좋아요</td>\n",
       "      <td>자극없이 순해요</td>\n",
       "      <td>복합성</td>\n",
       "      <td>웜톤</td>\n",
       "      <td>각질</td>\n",
       "      <td>미백</td>\n",
       "    </tr>\n",
       "  </tbody>\n",
       "</table>\n",
       "</div>"
      ],
      "text/plain": [
       "  브랜드                                           상품명    카테고리     정가    할인가  별점   \n",
       "0  구달  [대용량 한정기획] 구달 청귤 비타C 잡티케어 세럼 50ml+31ml 증정 기획  에센스/세럼  43000  28410   5  \\\n",
       "1  구달  [대용량 한정기획] 구달 청귤 비타C 잡티케어 세럼 50ml+31ml 증정 기획  에센스/세럼  43000  28410   5   \n",
       "2  구달  [대용량 한정기획] 구달 청귤 비타C 잡티케어 세럼 50ml+31ml 증정 기획  에센스/세럼  43000  28410   5   \n",
       "3  구달  [대용량 한정기획] 구달 청귤 비타C 잡티케어 세럼 50ml+31ml 증정 기획  에센스/세럼  43000  28410   5   \n",
       "4  구달  [대용량 한정기획] 구달 청귤 비타C 잡티케어 세럼 50ml+31ml 증정 기획  에센스/세럼  43000  28410   4   \n",
       "\n",
       "              피부정보      피부타입        피부고민       자극도 user피부타입 user피부톤 user피부고민1   \n",
       "0       복합성 봄웜톤 미백   지성에 좋아요     보습에 좋아요  자극없이 순해요      복합성     봄웜톤        미백  \\\n",
       "1     민감성 웜톤 각질 모공  복합성에 좋아요     진정에 좋아요     보통이에요      민감성      웜톤        각질   \n",
       "2  트러블성 가을웜톤 모공 미백  복합성에 좋아요  주름/미백에 좋아요  자극없이 순해요     트러블성    가을웜톤        모공   \n",
       "3   복합성 웜톤 모공 블랙헤드   건성에 좋아요  주름/미백에 좋아요     보통이에요      복합성      웜톤        모공   \n",
       "4     복합성 웜톤 각질 미백   건성에 좋아요     보습에 좋아요  자극없이 순해요      복합성      웜톤        각질   \n",
       "\n",
       "  user피부고민2  \n",
       "0       NaN  \n",
       "1        모공  \n",
       "2        미백  \n",
       "3      블랙헤드  \n",
       "4        미백  "
      ]
     },
     "execution_count": 12,
     "metadata": {},
     "output_type": "execute_result"
    }
   ],
   "source": [
    "#힌트: split 함수\n",
    "\n",
    "\n",
    "df2[\"user피부타입\"] = \n",
    "df2[\"user피부톤\"] =\n",
    "df2[\"user피부고민1\"] = \n",
    "df2[\"user피부고민2\"] = \n",
    "\n",
    "\n",
    "df2.head()"
   ]
  },
  {
   "cell_type": "markdown",
   "id": "46ad259f",
   "metadata": {},
   "source": [
    "#### user피부타입 컬럼에서 복합성/건성/지성/민감성/트러블성/약건성/중성 을 제외하고 모두 np.NaN 처리 해줍니다.  "
   ]
  },
  {
   "cell_type": "code",
   "execution_count": 17,
   "id": "f1e6a2dc",
   "metadata": {},
   "outputs": [
    {
     "data": {
      "text/plain": [
       "user피부타입\n",
       "복합성     1280\n",
       "건성       823\n",
       "지성       399\n",
       "민감성      265\n",
       "트러블성     113\n",
       "약건성       38\n",
       "중성        32\n",
       "Name: count, dtype: int64"
      ]
     },
     "execution_count": 17,
     "metadata": {},
     "output_type": "execute_result"
    }
   ],
   "source": [
    "#user피부타입에서 해당하지 않는 값은 nan 처리\n",
    "def to_nan(x):\n",
    "    if :\n",
    "        return np.NaN\n",
    "    else:\n",
    "        return x\n",
    "        \n",
    "        \n",
    "df2[\"user피부타입\"] =\n",
    "df2[\"user피부타입\"].value_counts()"
   ]
  },
  {
   "cell_type": "markdown",
   "id": "548bd591",
   "metadata": {},
   "source": [
    "#### user피부고민2의 결측값을 user피부톤 컬럼값으로 채운 후  (웜톤/쿨톤/여름쿨톤/봄웜톤/가을웜톤/겨울쿨톤) 값을  np.NaN 처리 해줍니다."
   ]
  },
  {
   "cell_type": "code",
   "execution_count": 19,
   "id": "0e951298",
   "metadata": {},
   "outputs": [
    {
     "data": {
      "text/plain": [
       "user피부고민2\n",
       "모공      594\n",
       "민감성     439\n",
       "미백      367\n",
       "잡티      329\n",
       "블랙헤드    278\n",
       "트러블     177\n",
       "다크서클    128\n",
       "주름       98\n",
       "탄력       94\n",
       "웜톤       93\n",
       "쿨톤       80\n",
       "홍조       53\n",
       "아토피      51\n",
       "가을웜톤     33\n",
       "봄웜톤      32\n",
       "각질       30\n",
       "여름쿨톤     28\n",
       "겨울쿨톤     17\n",
       "피지과다     15\n",
       "Name: count, dtype: int64"
      ]
     },
     "execution_count": 19,
     "metadata": {},
     "output_type": "execute_result"
    }
   ],
   "source": [
    "df2[\"user피부고민2\"]= \n",
    "df2[\"user피부고민2\"].value_counts()"
   ]
  },
  {
   "cell_type": "code",
   "execution_count": 20,
   "id": "4c1ad969",
   "metadata": {},
   "outputs": [
    {
     "data": {
      "text/plain": [
       "user피부고민2\n",
       "모공      594\n",
       "민감성     439\n",
       "미백      367\n",
       "잡티      329\n",
       "블랙헤드    278\n",
       "트러블     177\n",
       "다크서클    128\n",
       "주름       98\n",
       "탄력       94\n",
       "홍조       53\n",
       "아토피      51\n",
       "각질       30\n",
       "피지과다     15\n",
       "Name: count, dtype: int64"
      ]
     },
     "execution_count": 20,
     "metadata": {},
     "output_type": "execute_result"
    }
   ],
   "source": [
    "def to_nan_피부고민2(x):\n",
    "    if :\n",
    "        return np.NaN\n",
    "    else:\n",
    "        return x\n",
    "        \n",
    "        \n",
    "df2[\"user피부고민2\"] = \n",
    "df2[\"user피부고민2\"].value_counts()"
   ]
  },
  {
   "cell_type": "markdown",
   "id": "aee1ceba",
   "metadata": {},
   "source": [
    "### user피부타입, usesr피부고민1, user피부고민2 에서 결측값 제거"
   ]
  },
  {
   "cell_type": "code",
   "execution_count": 21,
   "id": "73b6f748",
   "metadata": {},
   "outputs": [
    {
     "data": {
      "text/plain": [
       "브랜드             0\n",
       "상품명             0\n",
       "카테고리            0\n",
       "정가              0\n",
       "할인가             0\n",
       "별점              0\n",
       "피부정보            0\n",
       "피부타입            0\n",
       "피부고민            0\n",
       "자극도             0\n",
       "user피부타입     2442\n",
       "user피부톤      2456\n",
       "user피부고민1    2545\n",
       "user피부고민2    2739\n",
       "dtype: int64"
      ]
     },
     "execution_count": 21,
     "metadata": {},
     "output_type": "execute_result"
    }
   ],
   "source": [
    "df2.isnull().sum()"
   ]
  },
  {
   "cell_type": "code",
   "execution_count": 22,
   "id": "33a6618d",
   "metadata": {},
   "outputs": [
    {
     "data": {
      "text/plain": [
       "브랜드          0\n",
       "상품명          0\n",
       "카테고리         0\n",
       "정가           0\n",
       "할인가          0\n",
       "별점           0\n",
       "피부정보         0\n",
       "피부타입         0\n",
       "피부고민         0\n",
       "자극도          0\n",
       "user피부타입     0\n",
       "user피부톤      0\n",
       "user피부고민1    0\n",
       "user피부고민2    0\n",
       "dtype: int64"
      ]
     },
     "execution_count": 22,
     "metadata": {},
     "output_type": "execute_result"
    }
   ],
   "source": [
    "df2.코드작성\n",
    "df2.isnull().sum()"
   ]
  },
  {
   "cell_type": "code",
   "execution_count": 23,
   "id": "e727a527",
   "metadata": {},
   "outputs": [
    {
     "data": {
      "text/html": [
       "<div>\n",
       "<style scoped>\n",
       "    .dataframe tbody tr th:only-of-type {\n",
       "        vertical-align: middle;\n",
       "    }\n",
       "\n",
       "    .dataframe tbody tr th {\n",
       "        vertical-align: top;\n",
       "    }\n",
       "\n",
       "    .dataframe thead th {\n",
       "        text-align: right;\n",
       "    }\n",
       "</style>\n",
       "<table border=\"1\" class=\"dataframe\">\n",
       "  <thead>\n",
       "    <tr style=\"text-align: right;\">\n",
       "      <th></th>\n",
       "      <th>브랜드</th>\n",
       "      <th>상품명</th>\n",
       "      <th>카테고리</th>\n",
       "      <th>정가</th>\n",
       "      <th>할인가</th>\n",
       "      <th>별점</th>\n",
       "      <th>피부정보</th>\n",
       "      <th>피부타입</th>\n",
       "      <th>피부고민</th>\n",
       "      <th>자극도</th>\n",
       "      <th>user피부타입</th>\n",
       "      <th>user피부톤</th>\n",
       "      <th>user피부고민1</th>\n",
       "      <th>user피부고민2</th>\n",
       "    </tr>\n",
       "  </thead>\n",
       "  <tbody>\n",
       "    <tr>\n",
       "      <th>1</th>\n",
       "      <td>구달</td>\n",
       "      <td>[대용량 한정기획] 구달 청귤 비타C 잡티케어 세럼 50ml+31ml 증정 기획</td>\n",
       "      <td>에센스/세럼</td>\n",
       "      <td>43000</td>\n",
       "      <td>28410</td>\n",
       "      <td>5</td>\n",
       "      <td>민감성 웜톤 각질 모공</td>\n",
       "      <td>복합성에 좋아요</td>\n",
       "      <td>진정에 좋아요</td>\n",
       "      <td>보통이에요</td>\n",
       "      <td>민감성</td>\n",
       "      <td>웜톤</td>\n",
       "      <td>각질</td>\n",
       "      <td>모공</td>\n",
       "    </tr>\n",
       "    <tr>\n",
       "      <th>2</th>\n",
       "      <td>구달</td>\n",
       "      <td>[대용량 한정기획] 구달 청귤 비타C 잡티케어 세럼 50ml+31ml 증정 기획</td>\n",
       "      <td>에센스/세럼</td>\n",
       "      <td>43000</td>\n",
       "      <td>28410</td>\n",
       "      <td>5</td>\n",
       "      <td>트러블성 가을웜톤 모공 미백</td>\n",
       "      <td>복합성에 좋아요</td>\n",
       "      <td>주름/미백에 좋아요</td>\n",
       "      <td>자극없이 순해요</td>\n",
       "      <td>트러블성</td>\n",
       "      <td>가을웜톤</td>\n",
       "      <td>모공</td>\n",
       "      <td>미백</td>\n",
       "    </tr>\n",
       "    <tr>\n",
       "      <th>3</th>\n",
       "      <td>구달</td>\n",
       "      <td>[대용량 한정기획] 구달 청귤 비타C 잡티케어 세럼 50ml+31ml 증정 기획</td>\n",
       "      <td>에센스/세럼</td>\n",
       "      <td>43000</td>\n",
       "      <td>28410</td>\n",
       "      <td>5</td>\n",
       "      <td>복합성 웜톤 모공 블랙헤드</td>\n",
       "      <td>건성에 좋아요</td>\n",
       "      <td>주름/미백에 좋아요</td>\n",
       "      <td>보통이에요</td>\n",
       "      <td>복합성</td>\n",
       "      <td>웜톤</td>\n",
       "      <td>모공</td>\n",
       "      <td>블랙헤드</td>\n",
       "    </tr>\n",
       "    <tr>\n",
       "      <th>4</th>\n",
       "      <td>구달</td>\n",
       "      <td>[대용량 한정기획] 구달 청귤 비타C 잡티케어 세럼 50ml+31ml 증정 기획</td>\n",
       "      <td>에센스/세럼</td>\n",
       "      <td>43000</td>\n",
       "      <td>28410</td>\n",
       "      <td>4</td>\n",
       "      <td>복합성 웜톤 각질 미백</td>\n",
       "      <td>건성에 좋아요</td>\n",
       "      <td>보습에 좋아요</td>\n",
       "      <td>자극없이 순해요</td>\n",
       "      <td>복합성</td>\n",
       "      <td>웜톤</td>\n",
       "      <td>각질</td>\n",
       "      <td>미백</td>\n",
       "    </tr>\n",
       "    <tr>\n",
       "      <th>5</th>\n",
       "      <td>구달</td>\n",
       "      <td>[대용량 한정기획] 구달 청귤 비타C 잡티케어 세럼 50ml+31ml 증정 기획</td>\n",
       "      <td>에센스/세럼</td>\n",
       "      <td>43000</td>\n",
       "      <td>28410</td>\n",
       "      <td>5</td>\n",
       "      <td>복합성 쿨톤 모공 잡티</td>\n",
       "      <td>복합성에 좋아요</td>\n",
       "      <td>보습에 좋아요</td>\n",
       "      <td>보통이에요</td>\n",
       "      <td>복합성</td>\n",
       "      <td>쿨톤</td>\n",
       "      <td>모공</td>\n",
       "      <td>잡티</td>\n",
       "    </tr>\n",
       "  </tbody>\n",
       "</table>\n",
       "</div>"
      ],
      "text/plain": [
       "  브랜드                                           상품명    카테고리     정가    할인가  별점   \n",
       "1  구달  [대용량 한정기획] 구달 청귤 비타C 잡티케어 세럼 50ml+31ml 증정 기획  에센스/세럼  43000  28410   5  \\\n",
       "2  구달  [대용량 한정기획] 구달 청귤 비타C 잡티케어 세럼 50ml+31ml 증정 기획  에센스/세럼  43000  28410   5   \n",
       "3  구달  [대용량 한정기획] 구달 청귤 비타C 잡티케어 세럼 50ml+31ml 증정 기획  에센스/세럼  43000  28410   5   \n",
       "4  구달  [대용량 한정기획] 구달 청귤 비타C 잡티케어 세럼 50ml+31ml 증정 기획  에센스/세럼  43000  28410   4   \n",
       "5  구달  [대용량 한정기획] 구달 청귤 비타C 잡티케어 세럼 50ml+31ml 증정 기획  에센스/세럼  43000  28410   5   \n",
       "\n",
       "              피부정보      피부타입        피부고민       자극도 user피부타입 user피부톤 user피부고민1   \n",
       "1     민감성 웜톤 각질 모공  복합성에 좋아요     진정에 좋아요     보통이에요      민감성      웜톤        각질  \\\n",
       "2  트러블성 가을웜톤 모공 미백  복합성에 좋아요  주름/미백에 좋아요  자극없이 순해요     트러블성    가을웜톤        모공   \n",
       "3   복합성 웜톤 모공 블랙헤드   건성에 좋아요  주름/미백에 좋아요     보통이에요      복합성      웜톤        모공   \n",
       "4     복합성 웜톤 각질 미백   건성에 좋아요     보습에 좋아요  자극없이 순해요      복합성      웜톤        각질   \n",
       "5     복합성 쿨톤 모공 잡티  복합성에 좋아요     보습에 좋아요     보통이에요      복합성      쿨톤        모공   \n",
       "\n",
       "  user피부고민2  \n",
       "1        모공  \n",
       "2        미백  \n",
       "3      블랙헤드  \n",
       "4        미백  \n",
       "5        잡티  "
      ]
     },
     "execution_count": 23,
     "metadata": {},
     "output_type": "execute_result"
    }
   ],
   "source": [
    "df2.head()"
   ]
  },
  {
   "cell_type": "code",
   "execution_count": 24,
   "id": "fe5189bc",
   "metadata": {},
   "outputs": [
    {
     "data": {
      "text/plain": [
       "(2630, 14)"
      ]
     },
     "execution_count": 24,
     "metadata": {},
     "output_type": "execute_result"
    }
   ],
   "source": [
    "df2.shape"
   ]
  },
  {
   "cell_type": "markdown",
   "id": "b39aec36",
   "metadata": {},
   "source": [
    "### df2를 df3에 복사한 후 상품명컬럼의 값을 간단하게 변경해줍니다.\n",
    "* 대용량 한정기획] 구달 청귤 비타C 잡티케어 세럼 50ml+31ml 증정 기획                                     : goodal\n",
    "* [1등 국민미스트] 달바 화이트 트러플 퍼스트 스프레이 세럼 100ml + 100ml 기획세트                        : dalba_mist\n",
    "* 성분에디터 그린토마토 포어 리프팅 앰플 플러스 30ml+10ml 기획                                           : sungboon\n",
    "* [2세대 천만크림] 닥터지 레드 블레미쉬 클리어 수딩 크림 70ml+30ml 세트                                  : dr_g\n",
    "* 라로슈포제 NEW 시카플라스트 밤B5+ 100ml 기획(+시카토너 50ml 증정)                                      : larocheposay\n",
    "* [100ml+100ml/단독기획] 토리든 다이브인 저분자 히알루론산 수딩크림 더블기획                             : torriden_cream\n",
    "* 에스트라 아토베리어365 크림 80ml 기획 (+하이드로에센스 25ml+무기자차선크림10ml 증정)(2305)             : aestura_cream\n",
    "* 에스트라 아토베리어365 로션 150ml 기획 (+하이드로에센스 25ml+무기자차선크림10ml 증정)                  : aestura_lotion\n",
    "* [단독기획] 토리든 다이브인 저분자 히알루론산 세럼 더블기획 (50ml+50ml)                                 : torriden_serum\n",
    "* [5월 올영픽/대용량] 파티온 노스카나인 트러블 세럼 단독 기획(50ml+15ml)                                 : fation\n",
    "* [쿵야 키링&스티커 증정] V&A 안티옥시던트 래디언스 앰플 더블 기획 (30ml+30ml)                           : V&A\n",
    "* [박은빈 PICK] 한율 어린쑥 수분진정크림 55ml 기획(+45ml 리필 증정)                                      : hanyul"
   ]
  },
  {
   "cell_type": "code",
   "execution_count": 25,
   "id": "4a2b8b22",
   "metadata": {},
   "outputs": [
    {
     "data": {
      "text/html": [
       "<div>\n",
       "<style scoped>\n",
       "    .dataframe tbody tr th:only-of-type {\n",
       "        vertical-align: middle;\n",
       "    }\n",
       "\n",
       "    .dataframe tbody tr th {\n",
       "        vertical-align: top;\n",
       "    }\n",
       "\n",
       "    .dataframe thead th {\n",
       "        text-align: right;\n",
       "    }\n",
       "</style>\n",
       "<table border=\"1\" class=\"dataframe\">\n",
       "  <thead>\n",
       "    <tr style=\"text-align: right;\">\n",
       "      <th></th>\n",
       "      <th>브랜드</th>\n",
       "      <th>상품명</th>\n",
       "      <th>카테고리</th>\n",
       "      <th>정가</th>\n",
       "      <th>할인가</th>\n",
       "      <th>별점</th>\n",
       "      <th>피부정보</th>\n",
       "      <th>피부타입</th>\n",
       "      <th>피부고민</th>\n",
       "      <th>자극도</th>\n",
       "      <th>user피부타입</th>\n",
       "      <th>user피부톤</th>\n",
       "      <th>user피부고민1</th>\n",
       "      <th>user피부고민2</th>\n",
       "    </tr>\n",
       "  </thead>\n",
       "  <tbody>\n",
       "    <tr>\n",
       "      <th>1</th>\n",
       "      <td>구달</td>\n",
       "      <td>goodal</td>\n",
       "      <td>에센스/세럼</td>\n",
       "      <td>43000</td>\n",
       "      <td>28410</td>\n",
       "      <td>5</td>\n",
       "      <td>민감성 웜톤 각질 모공</td>\n",
       "      <td>복합성에 좋아요</td>\n",
       "      <td>진정에 좋아요</td>\n",
       "      <td>보통이에요</td>\n",
       "      <td>민감성</td>\n",
       "      <td>웜톤</td>\n",
       "      <td>각질</td>\n",
       "      <td>모공</td>\n",
       "    </tr>\n",
       "    <tr>\n",
       "      <th>2</th>\n",
       "      <td>구달</td>\n",
       "      <td>goodal</td>\n",
       "      <td>에센스/세럼</td>\n",
       "      <td>43000</td>\n",
       "      <td>28410</td>\n",
       "      <td>5</td>\n",
       "      <td>트러블성 가을웜톤 모공 미백</td>\n",
       "      <td>복합성에 좋아요</td>\n",
       "      <td>주름/미백에 좋아요</td>\n",
       "      <td>자극없이 순해요</td>\n",
       "      <td>트러블성</td>\n",
       "      <td>가을웜톤</td>\n",
       "      <td>모공</td>\n",
       "      <td>미백</td>\n",
       "    </tr>\n",
       "    <tr>\n",
       "      <th>3</th>\n",
       "      <td>구달</td>\n",
       "      <td>goodal</td>\n",
       "      <td>에센스/세럼</td>\n",
       "      <td>43000</td>\n",
       "      <td>28410</td>\n",
       "      <td>5</td>\n",
       "      <td>복합성 웜톤 모공 블랙헤드</td>\n",
       "      <td>건성에 좋아요</td>\n",
       "      <td>주름/미백에 좋아요</td>\n",
       "      <td>보통이에요</td>\n",
       "      <td>복합성</td>\n",
       "      <td>웜톤</td>\n",
       "      <td>모공</td>\n",
       "      <td>블랙헤드</td>\n",
       "    </tr>\n",
       "    <tr>\n",
       "      <th>4</th>\n",
       "      <td>구달</td>\n",
       "      <td>goodal</td>\n",
       "      <td>에센스/세럼</td>\n",
       "      <td>43000</td>\n",
       "      <td>28410</td>\n",
       "      <td>4</td>\n",
       "      <td>복합성 웜톤 각질 미백</td>\n",
       "      <td>건성에 좋아요</td>\n",
       "      <td>보습에 좋아요</td>\n",
       "      <td>자극없이 순해요</td>\n",
       "      <td>복합성</td>\n",
       "      <td>웜톤</td>\n",
       "      <td>각질</td>\n",
       "      <td>미백</td>\n",
       "    </tr>\n",
       "    <tr>\n",
       "      <th>5</th>\n",
       "      <td>구달</td>\n",
       "      <td>goodal</td>\n",
       "      <td>에센스/세럼</td>\n",
       "      <td>43000</td>\n",
       "      <td>28410</td>\n",
       "      <td>5</td>\n",
       "      <td>복합성 쿨톤 모공 잡티</td>\n",
       "      <td>복합성에 좋아요</td>\n",
       "      <td>보습에 좋아요</td>\n",
       "      <td>보통이에요</td>\n",
       "      <td>복합성</td>\n",
       "      <td>쿨톤</td>\n",
       "      <td>모공</td>\n",
       "      <td>잡티</td>\n",
       "    </tr>\n",
       "  </tbody>\n",
       "</table>\n",
       "</div>"
      ],
      "text/plain": [
       "  브랜드     상품명    카테고리     정가    할인가  별점             피부정보      피부타입   \n",
       "1  구달  goodal  에센스/세럼  43000  28410   5     민감성 웜톤 각질 모공  복합성에 좋아요  \\\n",
       "2  구달  goodal  에센스/세럼  43000  28410   5  트러블성 가을웜톤 모공 미백  복합성에 좋아요   \n",
       "3  구달  goodal  에센스/세럼  43000  28410   5   복합성 웜톤 모공 블랙헤드   건성에 좋아요   \n",
       "4  구달  goodal  에센스/세럼  43000  28410   4     복합성 웜톤 각질 미백   건성에 좋아요   \n",
       "5  구달  goodal  에센스/세럼  43000  28410   5     복합성 쿨톤 모공 잡티  복합성에 좋아요   \n",
       "\n",
       "         피부고민       자극도 user피부타입 user피부톤 user피부고민1 user피부고민2  \n",
       "1     진정에 좋아요     보통이에요      민감성      웜톤        각질        모공  \n",
       "2  주름/미백에 좋아요  자극없이 순해요     트러블성    가을웜톤        모공        미백  \n",
       "3  주름/미백에 좋아요     보통이에요      복합성      웜톤        모공      블랙헤드  \n",
       "4     보습에 좋아요  자극없이 순해요      복합성      웜톤        각질        미백  \n",
       "5     보습에 좋아요     보통이에요      복합성      쿨톤        모공        잡티  "
      ]
     },
     "execution_count": 25,
     "metadata": {},
     "output_type": "execute_result"
    }
   ],
   "source": [
    "df3=df2.copy()\n",
    "\n",
    "\n",
    "#상품명 간소화\n",
    "def name_min(x):\n",
    "    if :\n",
    "        return \"\"\n",
    "    elif :\n",
    "        return \"\"\n",
    "    elif :\n",
    "        return \"\"\n",
    "\n",
    "\n",
    "    \n",
    "\n",
    "df3[\"상품명\"]=\n",
    "df3.head()"
   ]
  },
  {
   "cell_type": "markdown",
   "id": "77892340",
   "metadata": {},
   "source": [
    "### 브랜드, 피부정보, user피부톤 컬럼을 삭제합니다."
   ]
  },
  {
   "cell_type": "code",
   "execution_count": 26,
   "id": "d719dc27",
   "metadata": {},
   "outputs": [],
   "source": [
    "df3."
   ]
  },
  {
   "cell_type": "markdown",
   "id": "05c02132",
   "metadata": {},
   "source": [
    "### 컬럼명을 변경해줍니다.\n",
    "* 피부타입 -> 효과1  \n",
    "* 피부고민 -> 효과2  \n",
    "* user피부타입 -> 피부타입  \n",
    "* user피부고민1 -> 피부고민1  \n",
    "* user피부고민2 -> 피부고민2 "
   ]
  },
  {
   "cell_type": "code",
   "execution_count": 27,
   "id": "d3abb73f",
   "metadata": {},
   "outputs": [
    {
     "data": {
      "text/html": [
       "<div>\n",
       "<style scoped>\n",
       "    .dataframe tbody tr th:only-of-type {\n",
       "        vertical-align: middle;\n",
       "    }\n",
       "\n",
       "    .dataframe tbody tr th {\n",
       "        vertical-align: top;\n",
       "    }\n",
       "\n",
       "    .dataframe thead th {\n",
       "        text-align: right;\n",
       "    }\n",
       "</style>\n",
       "<table border=\"1\" class=\"dataframe\">\n",
       "  <thead>\n",
       "    <tr style=\"text-align: right;\">\n",
       "      <th></th>\n",
       "      <th>상품명</th>\n",
       "      <th>카테고리</th>\n",
       "      <th>정가</th>\n",
       "      <th>할인가</th>\n",
       "      <th>별점</th>\n",
       "      <th>효과1</th>\n",
       "      <th>효과2</th>\n",
       "      <th>자극도</th>\n",
       "      <th>피부타입</th>\n",
       "      <th>피부고민1</th>\n",
       "      <th>피부고민2</th>\n",
       "    </tr>\n",
       "  </thead>\n",
       "  <tbody>\n",
       "    <tr>\n",
       "      <th>1</th>\n",
       "      <td>goodal</td>\n",
       "      <td>에센스/세럼</td>\n",
       "      <td>43000</td>\n",
       "      <td>28410</td>\n",
       "      <td>5</td>\n",
       "      <td>복합성에 좋아요</td>\n",
       "      <td>진정에 좋아요</td>\n",
       "      <td>보통이에요</td>\n",
       "      <td>민감성</td>\n",
       "      <td>각질</td>\n",
       "      <td>모공</td>\n",
       "    </tr>\n",
       "    <tr>\n",
       "      <th>2</th>\n",
       "      <td>goodal</td>\n",
       "      <td>에센스/세럼</td>\n",
       "      <td>43000</td>\n",
       "      <td>28410</td>\n",
       "      <td>5</td>\n",
       "      <td>복합성에 좋아요</td>\n",
       "      <td>주름/미백에 좋아요</td>\n",
       "      <td>자극없이 순해요</td>\n",
       "      <td>트러블성</td>\n",
       "      <td>모공</td>\n",
       "      <td>미백</td>\n",
       "    </tr>\n",
       "    <tr>\n",
       "      <th>3</th>\n",
       "      <td>goodal</td>\n",
       "      <td>에센스/세럼</td>\n",
       "      <td>43000</td>\n",
       "      <td>28410</td>\n",
       "      <td>5</td>\n",
       "      <td>건성에 좋아요</td>\n",
       "      <td>주름/미백에 좋아요</td>\n",
       "      <td>보통이에요</td>\n",
       "      <td>복합성</td>\n",
       "      <td>모공</td>\n",
       "      <td>블랙헤드</td>\n",
       "    </tr>\n",
       "    <tr>\n",
       "      <th>4</th>\n",
       "      <td>goodal</td>\n",
       "      <td>에센스/세럼</td>\n",
       "      <td>43000</td>\n",
       "      <td>28410</td>\n",
       "      <td>4</td>\n",
       "      <td>건성에 좋아요</td>\n",
       "      <td>보습에 좋아요</td>\n",
       "      <td>자극없이 순해요</td>\n",
       "      <td>복합성</td>\n",
       "      <td>각질</td>\n",
       "      <td>미백</td>\n",
       "    </tr>\n",
       "    <tr>\n",
       "      <th>5</th>\n",
       "      <td>goodal</td>\n",
       "      <td>에센스/세럼</td>\n",
       "      <td>43000</td>\n",
       "      <td>28410</td>\n",
       "      <td>5</td>\n",
       "      <td>복합성에 좋아요</td>\n",
       "      <td>보습에 좋아요</td>\n",
       "      <td>보통이에요</td>\n",
       "      <td>복합성</td>\n",
       "      <td>모공</td>\n",
       "      <td>잡티</td>\n",
       "    </tr>\n",
       "  </tbody>\n",
       "</table>\n",
       "</div>"
      ],
      "text/plain": [
       "      상품명    카테고리     정가    할인가  별점       효과1         효과2       자극도  피부타입   \n",
       "1  goodal  에센스/세럼  43000  28410   5  복합성에 좋아요     진정에 좋아요     보통이에요   민감성  \\\n",
       "2  goodal  에센스/세럼  43000  28410   5  복합성에 좋아요  주름/미백에 좋아요  자극없이 순해요  트러블성   \n",
       "3  goodal  에센스/세럼  43000  28410   5   건성에 좋아요  주름/미백에 좋아요     보통이에요   복합성   \n",
       "4  goodal  에센스/세럼  43000  28410   4   건성에 좋아요     보습에 좋아요  자극없이 순해요   복합성   \n",
       "5  goodal  에센스/세럼  43000  28410   5  복합성에 좋아요     보습에 좋아요     보통이에요   복합성   \n",
       "\n",
       "  피부고민1 피부고민2  \n",
       "1    각질    모공  \n",
       "2    모공    미백  \n",
       "3    모공  블랙헤드  \n",
       "4    각질    미백  \n",
       "5    모공    잡티  "
      ]
     },
     "execution_count": 27,
     "metadata": {},
     "output_type": "execute_result"
    }
   ],
   "source": [
    "df3.\n",
    "df3.head()"
   ]
  },
  {
   "cell_type": "code",
   "execution_count": 29,
   "id": "60cee98c",
   "metadata": {},
   "outputs": [
    {
     "data": {
      "text/plain": [
       "(2630, 11)"
      ]
     },
     "execution_count": 29,
     "metadata": {},
     "output_type": "execute_result"
    }
   ],
   "source": [
    "df3.shape"
   ]
  },
  {
   "cell_type": "markdown",
   "id": "d1ca7a56",
   "metadata": {},
   "source": [
    "## 데이터 인코딩"
   ]
  },
  {
   "cell_type": "code",
   "execution_count": 31,
   "id": "c3566a73",
   "metadata": {},
   "outputs": [
    {
     "data": {
      "text/plain": [
       "자극도\n",
       "자극없이 순해요    2111\n",
       "보통이에요        485\n",
       "자극이 느껴져요      34\n",
       "Name: count, dtype: int64"
      ]
     },
     "execution_count": 31,
     "metadata": {},
     "output_type": "execute_result"
    }
   ],
   "source": [
    "df3[\"자극도\"].value_counts()"
   ]
  },
  {
   "cell_type": "markdown",
   "id": "d4d5ad3d",
   "metadata": {},
   "source": [
    "### 직접 함수를 만들어 자극도 컬럼을 레이블인코딩 합니다.\n",
    "* 자극없이 순해요 -> 0\n",
    "* 보통이에요 -> 1\n",
    "* 자극이 느껴져요 -> 2"
   ]
  },
  {
   "cell_type": "code",
   "execution_count": 32,
   "id": "06b8cccc",
   "metadata": {},
   "outputs": [
    {
     "data": {
      "text/plain": [
       "자극도\n",
       "0    2111\n",
       "1     485\n",
       "2      34\n",
       "Name: count, dtype: int64"
      ]
     },
     "execution_count": 32,
     "metadata": {},
     "output_type": "execute_result"
    }
   ],
   "source": [
    "def 자극도인코딩(x):\n",
    "\n",
    "    \n",
    "\n",
    "df3[\"자극도\"]=\n",
    "df3[\"자극도\"].value_counts()"
   ]
  },
  {
   "cell_type": "markdown",
   "id": "5f2e465c",
   "metadata": {},
   "source": [
    "### 상품명, 카테고리, 효과1, 효과2, 피부타입, 피부고민1, 피부고민2 은  get_dummies를 이용해 원핫인코딩을 합니다.\n",
    "결과를 df4에 저장합니다."
   ]
  },
  {
   "cell_type": "code",
   "execution_count": 33,
   "id": "ca177fdf",
   "metadata": {},
   "outputs": [
    {
     "data": {
      "text/html": [
       "<div>\n",
       "<style scoped>\n",
       "    .dataframe tbody tr th:only-of-type {\n",
       "        vertical-align: middle;\n",
       "    }\n",
       "\n",
       "    .dataframe tbody tr th {\n",
       "        vertical-align: top;\n",
       "    }\n",
       "\n",
       "    .dataframe thead th {\n",
       "        text-align: right;\n",
       "    }\n",
       "</style>\n",
       "<table border=\"1\" class=\"dataframe\">\n",
       "  <thead>\n",
       "    <tr style=\"text-align: right;\">\n",
       "      <th></th>\n",
       "      <th>정가</th>\n",
       "      <th>할인가</th>\n",
       "      <th>별점</th>\n",
       "      <th>자극도</th>\n",
       "      <th>상품명_V&amp;A</th>\n",
       "      <th>상품명_aestura_cream</th>\n",
       "      <th>상품명_aestura_lotion</th>\n",
       "      <th>상품명_dalba_mist</th>\n",
       "      <th>상품명_dr_g</th>\n",
       "      <th>상품명_fation</th>\n",
       "      <th>...</th>\n",
       "      <th>피부고민2_미백</th>\n",
       "      <th>피부고민2_민감성</th>\n",
       "      <th>피부고민2_블랙헤드</th>\n",
       "      <th>피부고민2_아토피</th>\n",
       "      <th>피부고민2_잡티</th>\n",
       "      <th>피부고민2_주름</th>\n",
       "      <th>피부고민2_탄력</th>\n",
       "      <th>피부고민2_트러블</th>\n",
       "      <th>피부고민2_피지과다</th>\n",
       "      <th>피부고민2_홍조</th>\n",
       "    </tr>\n",
       "  </thead>\n",
       "  <tbody>\n",
       "    <tr>\n",
       "      <th>1</th>\n",
       "      <td>43000</td>\n",
       "      <td>28410</td>\n",
       "      <td>5</td>\n",
       "      <td>1</td>\n",
       "      <td>0</td>\n",
       "      <td>0</td>\n",
       "      <td>0</td>\n",
       "      <td>0</td>\n",
       "      <td>0</td>\n",
       "      <td>0</td>\n",
       "      <td>...</td>\n",
       "      <td>0</td>\n",
       "      <td>0</td>\n",
       "      <td>0</td>\n",
       "      <td>0</td>\n",
       "      <td>0</td>\n",
       "      <td>0</td>\n",
       "      <td>0</td>\n",
       "      <td>0</td>\n",
       "      <td>0</td>\n",
       "      <td>0</td>\n",
       "    </tr>\n",
       "    <tr>\n",
       "      <th>2</th>\n",
       "      <td>43000</td>\n",
       "      <td>28410</td>\n",
       "      <td>5</td>\n",
       "      <td>0</td>\n",
       "      <td>0</td>\n",
       "      <td>0</td>\n",
       "      <td>0</td>\n",
       "      <td>0</td>\n",
       "      <td>0</td>\n",
       "      <td>0</td>\n",
       "      <td>...</td>\n",
       "      <td>1</td>\n",
       "      <td>0</td>\n",
       "      <td>0</td>\n",
       "      <td>0</td>\n",
       "      <td>0</td>\n",
       "      <td>0</td>\n",
       "      <td>0</td>\n",
       "      <td>0</td>\n",
       "      <td>0</td>\n",
       "      <td>0</td>\n",
       "    </tr>\n",
       "    <tr>\n",
       "      <th>3</th>\n",
       "      <td>43000</td>\n",
       "      <td>28410</td>\n",
       "      <td>5</td>\n",
       "      <td>1</td>\n",
       "      <td>0</td>\n",
       "      <td>0</td>\n",
       "      <td>0</td>\n",
       "      <td>0</td>\n",
       "      <td>0</td>\n",
       "      <td>0</td>\n",
       "      <td>...</td>\n",
       "      <td>0</td>\n",
       "      <td>0</td>\n",
       "      <td>1</td>\n",
       "      <td>0</td>\n",
       "      <td>0</td>\n",
       "      <td>0</td>\n",
       "      <td>0</td>\n",
       "      <td>0</td>\n",
       "      <td>0</td>\n",
       "      <td>0</td>\n",
       "    </tr>\n",
       "    <tr>\n",
       "      <th>4</th>\n",
       "      <td>43000</td>\n",
       "      <td>28410</td>\n",
       "      <td>4</td>\n",
       "      <td>0</td>\n",
       "      <td>0</td>\n",
       "      <td>0</td>\n",
       "      <td>0</td>\n",
       "      <td>0</td>\n",
       "      <td>0</td>\n",
       "      <td>0</td>\n",
       "      <td>...</td>\n",
       "      <td>1</td>\n",
       "      <td>0</td>\n",
       "      <td>0</td>\n",
       "      <td>0</td>\n",
       "      <td>0</td>\n",
       "      <td>0</td>\n",
       "      <td>0</td>\n",
       "      <td>0</td>\n",
       "      <td>0</td>\n",
       "      <td>0</td>\n",
       "    </tr>\n",
       "    <tr>\n",
       "      <th>5</th>\n",
       "      <td>43000</td>\n",
       "      <td>28410</td>\n",
       "      <td>5</td>\n",
       "      <td>1</td>\n",
       "      <td>0</td>\n",
       "      <td>0</td>\n",
       "      <td>0</td>\n",
       "      <td>0</td>\n",
       "      <td>0</td>\n",
       "      <td>0</td>\n",
       "      <td>...</td>\n",
       "      <td>0</td>\n",
       "      <td>0</td>\n",
       "      <td>0</td>\n",
       "      <td>0</td>\n",
       "      <td>1</td>\n",
       "      <td>0</td>\n",
       "      <td>0</td>\n",
       "      <td>0</td>\n",
       "      <td>0</td>\n",
       "      <td>0</td>\n",
       "    </tr>\n",
       "  </tbody>\n",
       "</table>\n",
       "<p>5 rows × 59 columns</p>\n",
       "</div>"
      ],
      "text/plain": [
       "      정가    할인가  별점  자극도  상품명_V&A  상품명_aestura_cream  상품명_aestura_lotion   \n",
       "1  43000  28410   5    1        0                  0                   0  \\\n",
       "2  43000  28410   5    0        0                  0                   0   \n",
       "3  43000  28410   5    1        0                  0                   0   \n",
       "4  43000  28410   4    0        0                  0                   0   \n",
       "5  43000  28410   5    1        0                  0                   0   \n",
       "\n",
       "   상품명_dalba_mist  상품명_dr_g  상품명_fation  ...  피부고민2_미백  피부고민2_민감성  피부고민2_블랙헤드   \n",
       "1               0         0           0  ...         0          0           0  \\\n",
       "2               0         0           0  ...         1          0           0   \n",
       "3               0         0           0  ...         0          0           1   \n",
       "4               0         0           0  ...         1          0           0   \n",
       "5               0         0           0  ...         0          0           0   \n",
       "\n",
       "   피부고민2_아토피  피부고민2_잡티  피부고민2_주름  피부고민2_탄력  피부고민2_트러블  피부고민2_피지과다  피부고민2_홍조  \n",
       "1          0         0         0         0          0           0         0  \n",
       "2          0         0         0         0          0           0         0  \n",
       "3          0         0         0         0          0           0         0  \n",
       "4          0         0         0         0          0           0         0  \n",
       "5          0         1         0         0          0           0         0  \n",
       "\n",
       "[5 rows x 59 columns]"
      ]
     },
     "execution_count": 33,
     "metadata": {},
     "output_type": "execute_result"
    }
   ],
   "source": [
    "df4= \n",
    "df4.head()"
   ]
  },
  {
   "cell_type": "markdown",
   "id": "0ccbd6e3",
   "metadata": {},
   "source": [
    "# 랜덤포레스트"
   ]
  },
  {
   "cell_type": "markdown",
   "id": "1c770ec2",
   "metadata": {},
   "source": [
    "#### 피처값과 타겟값을 지정해줍니다. (target : 별점, 피처는 별점 제외 모든 컬럼)"
   ]
  },
  {
   "cell_type": "code",
   "execution_count": 144,
   "id": "703244f1",
   "metadata": {},
   "outputs": [],
   "source": [
    "features=\n",
    "target= "
   ]
  },
  {
   "cell_type": "markdown",
   "id": "4d0ee21e",
   "metadata": {},
   "source": [
    "#### 저장한 피처와 타겟을 가지고 train : test 데이터를 8:2로 나누어 줍니다. random_state = 50"
   ]
  },
  {
   "cell_type": "code",
   "execution_count": 145,
   "id": "7e7f9d81",
   "metadata": {},
   "outputs": [],
   "source": [
    "from sklearn.model_selection import train_test_split\n",
    "\n"
   ]
  },
  {
   "cell_type": "markdown",
   "id": "8ebe350f",
   "metadata": {},
   "source": [
    "#### df4의 별점의 분포를 막대그래프로 시각화하여 불균형한지 확인합니다."
   ]
  },
  {
   "cell_type": "code",
   "execution_count": 146,
   "id": "368cbb8c",
   "metadata": {},
   "outputs": [
    {
     "data": {
      "text/plain": [
       "<Axes: xlabel='별점'>"
      ]
     },
     "execution_count": 146,
     "metadata": {},
     "output_type": "execute_result"
    },
    {
     "data": {
      "image/png": "[encoded data removed]",
      "text/plain": [
       "<Figure size 600x400 with 1 Axes>"
      ]
     },
     "metadata": {},
     "output_type": "display_data"
    }
   ],
   "source": [
    "#한글 깨짐 방지\n",
    "plt.rcParams['font.family'] ='Malgun Gothic'\n",
    "plt.rcParams['axes.unicode_minus'] =False\n",
    "\n",
    "#막대그래프 코드 작성\n"
   ]
  },
  {
   "cell_type": "markdown",
   "id": "4b36a2ba",
   "metadata": {},
   "source": [
    "### 불균형한 데이터 샘플링 SMOTE 활용"
   ]
  },
  {
   "cell_type": "code",
   "execution_count": 147,
   "id": "53d7826c",
   "metadata": {},
   "outputs": [
    {
     "name": "stdout",
     "output_type": "stream",
     "text": [
      "SMOTE 적용 전 train 데이터셋 shape :  (2104, 58) (2104,)\n",
      "SMOTE 적용 후 train 데이터셋 shape : (8915, 58) (8915,)\n",
      "SMOTE 적용 후 train 타겟 별점 분포 별점\n",
      "5    1783\n",
      "4    1783\n",
      "3    1783\n",
      "2    1783\n",
      "1    1783\n",
      "Name: count, dtype: int64\n"
     ]
    }
   ],
   "source": [
    "#불균형 데이터 오버샘플링 SMOTE \n",
    "from imblearn.over_sampling import SMOTE\n",
    "\n",
    "smote = SMOTE(random_state=42)\n",
    "X_train_over, y_train_over = smote.fit_resample(X_train, y_train)\n",
    "\n",
    "print(\"SMOTE 적용 전 train 데이터셋 shape : \", X_train.shape, y_train.shape)\n",
    "print('SMOTE 적용 후 train 데이터셋 shape :', X_train_over.shape, y_train_over.shape)\n",
    "print('SMOTE 적용 후 train 타겟 별점 분포',y_train_over.value_counts() )"
   ]
  },
  {
   "cell_type": "markdown",
   "id": "de42b99e",
   "metadata": {},
   "source": [
    "### 데이터 스케일링\n",
    "피처의 단위를 동일하게 만들기 위해 StandardScaler로 스케일링을 진행합니다."
   ]
  },
  {
   "cell_type": "code",
   "execution_count": 148,
   "id": "46d025c5",
   "metadata": {},
   "outputs": [],
   "source": [
    "from sklearn.preprocessing import StandardScaler\n",
    "\n",
    "                      \n",
    "X_train_scaled =      \n",
    "X_test_scaled = "
   ]
  },
  {
   "cell_type": "markdown",
   "id": "8504f15d",
   "metadata": {},
   "source": [
    "### 그리드서치로 최적의 파라미터 찾기 \n",
    "1. 지정할 파라미터와 값을 params에 저장합니다.  \n",
    "2. 랜덤포레스트 모델을 생성하고 rfc로 할당합니다. (random_state=100, n_jobs=-1)  \n",
    "3. 그리드서치를 실행하여 grid_cv로 할당합니다. (cv=3, n_jobs=-1)\n",
    "4. 스케일링 완료한 훈련 데이터를 grid_cv에 fit해줍니다.\n",
    "5. 최적의 파라미터를 print 합니다."
   ]
  },
  {
   "cell_type": "code",
   "execution_count": 152,
   "id": "6104be63",
   "metadata": {},
   "outputs": [
    {
     "name": "stdout",
     "output_type": "stream",
     "text": [
      "최적 파라미터: {'max_depth': 5, 'max_features': 50, 'min_samples_split': 20, 'n_estimators': 70}\n"
     ]
    }
   ],
   "source": [
    "from sklearn.model_selection import GridSearchCV\n",
    "from sklearn.ensemble import RandomForestClassifier\n",
    "\n",
    "#각 파라미터 값 넣기\n",
    "params = { 'n_estimators' : ,\n",
    "           'max_depth' : ,\n",
    "           'max_features': ,\n",
    "           'min_samples_split' : \n",
    "            }\n",
    "\n",
    "\n",
    "rfc = \n",
    "grid_cv = GridSearchCV( '내부 코드 채우기' )     # cv는 교차 검증을 위해 분할되는 학습 데이터의 세트 수\n",
    "grid_cv.fit(X_train_scaled, y_train_over)\n",
    "\n",
    "print(f'최적 파라미터: {grid_cv.best_params_}')"
   ]
  },
  {
   "cell_type": "markdown",
   "id": "76236670",
   "metadata": {},
   "source": [
    "### 랜덤포레스트 모델 훈련\n",
    "위에서 구한 최적 파라미터를 활용하여 랜덤포레스트 모델을 만들고 해당 모델로 다시 훈련시킵니다. random_state=100, n_jobs=-1"
   ]
  },
  {
   "cell_type": "code",
   "execution_count": 163,
   "id": "07f0d014",
   "metadata": {},
   "outputs": [
    {
     "data": {
      "text/html": [
       "<style>#sk-container-id-23 {color: black;background-color: white;}#sk-container-id-23 pre{padding: 0;}#sk-container-id-23 div.sk-toggleable {background-color: white;}#sk-container-id-23 label.sk-toggleable__label {cursor: pointer;display: block;width: 100%;margin-bottom: 0;padding: 0.3em;box-sizing: border-box;text-align: center;}#sk-container-id-23 label.sk-toggleable__label-arrow:before {content: \"▸\";float: left;margin-right: 0.25em;color: #696969;}#sk-container-id-23 label.sk-toggleable__label-arrow:hover:before {color: black;}#sk-container-id-23 div.sk-estimator:hover label.sk-toggleable__label-arrow:before {color: black;}#sk-container-id-23 div.sk-toggleable__content {max-height: 0;max-width: 0;overflow: hidden;text-align: left;background-color: #f0f8ff;}#sk-container-id-23 div.sk-toggleable__content pre {margin: 0.2em;color: black;border-radius: 0.25em;background-color: #f0f8ff;}#sk-container-id-23 input.sk-toggleable__control:checked~div.sk-toggleable__content {max-height: 200px;max-width: 100%;overflow: auto;}#sk-container-id-23 input.sk-toggleable__control:checked~label.sk-toggleable__label-arrow:before {content: \"▾\";}#sk-container-id-23 div.sk-estimator input.sk-toggleable__control:checked~label.sk-toggleable__label {background-color: #d4ebff;}#sk-container-id-23 div.sk-label input.sk-toggleable__control:checked~label.sk-toggleable__label {background-color: #d4ebff;}#sk-container-id-23 input.sk-hidden--visually {border: 0;clip: rect(1px 1px 1px 1px);clip: rect(1px, 1px, 1px, 1px);height: 1px;margin: -1px;overflow: hidden;padding: 0;position: absolute;width: 1px;}#sk-container-id-23 div.sk-estimator {font-family: monospace;background-color: #f0f8ff;border: 1px dotted black;border-radius: 0.25em;box-sizing: border-box;margin-bottom: 0.5em;}#sk-container-id-23 div.sk-estimator:hover {background-color: #d4ebff;}#sk-container-id-23 div.sk-parallel-item::after {content: \"\";width: 100%;border-bottom: 1px solid gray;flex-grow: 1;}#sk-container-id-23 div.sk-label:hover label.sk-toggleable__label {background-color: #d4ebff;}#sk-container-id-23 div.sk-serial::before {content: \"\";position: absolute;border-left: 1px solid gray;box-sizing: border-box;top: 0;bottom: 0;left: 50%;z-index: 0;}#sk-container-id-23 div.sk-serial {display: flex;flex-direction: column;align-items: center;background-color: white;padding-right: 0.2em;padding-left: 0.2em;position: relative;}#sk-container-id-23 div.sk-item {position: relative;z-index: 1;}#sk-container-id-23 div.sk-parallel {display: flex;align-items: stretch;justify-content: center;background-color: white;position: relative;}#sk-container-id-23 div.sk-item::before, #sk-container-id-23 div.sk-parallel-item::before {content: \"\";position: absolute;border-left: 1px solid gray;box-sizing: border-box;top: 0;bottom: 0;left: 50%;z-index: -1;}#sk-container-id-23 div.sk-parallel-item {display: flex;flex-direction: column;z-index: 1;position: relative;background-color: white;}#sk-container-id-23 div.sk-parallel-item:first-child::after {align-self: flex-end;width: 50%;}#sk-container-id-23 div.sk-parallel-item:last-child::after {align-self: flex-start;width: 50%;}#sk-container-id-23 div.sk-parallel-item:only-child::after {width: 0;}#sk-container-id-23 div.sk-dashed-wrapped {border: 1px dashed gray;margin: 0 0.4em 0.5em 0.4em;box-sizing: border-box;padding-bottom: 0.4em;background-color: white;}#sk-container-id-23 div.sk-label label {font-family: monospace;font-weight: bold;display: inline-block;line-height: 1.2em;}#sk-container-id-23 div.sk-label-container {text-align: center;}#sk-container-id-23 div.sk-container {/* jupyter's `normalize.less` sets `[hidden] { display: none; }` but bootstrap.min.css set `[hidden] { display: none !important; }` so we also need the `!important` here to be able to override the default hidden behavior on the sphinx rendered scikit-learn.org. See: https://github.com/scikit-learn/scikit-learn/issues/21755 */display: inline-block !important;position: relative;}#sk-container-id-23 div.sk-text-repr-fallback {display: none;}</style><div id=\"sk-container-id-23\" class=\"sk-top-container\"><div class=\"sk-text-repr-fallback\"><pre>RandomForestClassifier(max_depth=5, max_features=50, min_samples_split=20,\n",
       "                       n_estimators=50, n_jobs=-1, random_state=100)</pre><b>In a Jupyter environment, please rerun this cell to show the HTML representation or trust the notebook. <br />On GitHub, the HTML representation is unable to render, please try loading this page with nbviewer.org.</b></div><div class=\"sk-container\" hidden><div class=\"sk-item\"><div class=\"sk-estimator sk-toggleable\"><input class=\"sk-toggleable__control sk-hidden--visually\" id=\"sk-estimator-id-23\" type=\"checkbox\" checked><label for=\"sk-estimator-id-23\" class=\"sk-toggleable__label sk-toggleable__label-arrow\">RandomForestClassifier</label><div class=\"sk-toggleable__content\"><pre>RandomForestClassifier(max_depth=5, max_features=50, min_samples_split=20,\n",
       "                       n_estimators=50, n_jobs=-1, random_state=100)</pre></div></div></div></div></div>"
      ],
      "text/plain": [
       "RandomForestClassifier(max_depth=5, max_features=50, min_samples_split=20,\n",
       "                       n_estimators=50, n_jobs=-1, random_state=100)"
      ]
     },
     "execution_count": 163,
     "metadata": {},
     "output_type": "execute_result"
    }
   ],
   "source": [
    "from sklearn.ensemble import RandomForestClassifier\n",
    "rfc=\n",
    "rfc.fit(X_train_scaled, y_train_over)"
   ]
  },
  {
   "cell_type": "markdown",
   "id": "e3219092",
   "metadata": {},
   "source": [
    " ### 모델 평가지표 결과값이 한번에 나오도록 함수 만들기\n",
    " 함수에 y_test와 pred를 입력하면 정확도, 정밀도, 재현율, f1스코어가 데이터 프레임으로 나오도록 함수를 만듭니다.  \n",
    " 단, 정확도, 정밀도, 재현율, f1스코어의 average는 모두 'micro'로 설정  \n",
    " 딕셔너리를 활용하여 데이터 프레임을 만들어주세요.  "
   ]
  },
  {
   "cell_type": "code",
   "execution_count": 164,
   "id": "fab7e5cf",
   "metadata": {},
   "outputs": [],
   "source": [
    "from sklearn.metrics import accuracy_score, precision_score, recall_score,f1_score\n",
    "\n",
    "\n",
    "def _metrics(y_test, pred):\n",
    "    acc= \n",
    "    precision= \n",
    "    recall= \n",
    "    f1=\n",
    "    \n",
    "    dict_metrics=\n",
    "    df_metrics=pd.DataFrame\n",
    "    \n",
    "    return df_metrics\n"
   ]
  },
  {
   "cell_type": "markdown",
   "id": "e9fa4def",
   "metadata": {},
   "source": [
    "#### 스케일링한 test데이터를 가지고 모델에 적용하여 나온 예측값을 pred에 할당하고 평가지표함수로 성능을 확인합니다."
   ]
  },
  {
   "cell_type": "code",
   "execution_count": 165,
   "id": "70dbc01d",
   "metadata": {},
   "outputs": [
    {
     "data": {
      "text/html": [
       "<div>\n",
       "<style scoped>\n",
       "    .dataframe tbody tr th:only-of-type {\n",
       "        vertical-align: middle;\n",
       "    }\n",
       "\n",
       "    .dataframe tbody tr th {\n",
       "        vertical-align: top;\n",
       "    }\n",
       "\n",
       "    .dataframe thead th {\n",
       "        text-align: right;\n",
       "    }\n",
       "</style>\n",
       "<table border=\"1\" class=\"dataframe\">\n",
       "  <thead>\n",
       "    <tr style=\"text-align: right;\">\n",
       "      <th></th>\n",
       "      <th>accuracy</th>\n",
       "      <th>precision</th>\n",
       "      <th>recall</th>\n",
       "      <th>f1</th>\n",
       "    </tr>\n",
       "  </thead>\n",
       "  <tbody>\n",
       "    <tr>\n",
       "      <th>0</th>\n",
       "      <td>0.521</td>\n",
       "      <td>0.521</td>\n",
       "      <td>0.521</td>\n",
       "      <td>0.521</td>\n",
       "    </tr>\n",
       "  </tbody>\n",
       "</table>\n",
       "</div>"
      ],
      "text/plain": [
       "   accuracy  precision  recall     f1\n",
       "0     0.521      0.521   0.521  0.521"
      ]
     },
     "execution_count": 165,
     "metadata": {},
     "output_type": "execute_result"
    }
   ],
   "source": [
    "pred = \n",
    "\n",
    "_metrics(y_test,pred)"
   ]
  },
  {
   "cell_type": "markdown",
   "id": "e38ba83c",
   "metadata": {},
   "source": [
    "### 피처 중요도 확인하기\n",
    "\n",
    "피처 중요도 값을 저장한 feat_importance 값을 내림차순하여 20개만 top_20에 할당합니다.  \n",
    "그 값을 가지고 barplot을 만들어 줍니다. \n",
    "* 제목 : 피처 중요도 Top2 20 \n",
    "* figsize = (8,6)"
   ]
  },
  {
   "cell_type": "code",
   "execution_count": 166,
   "id": "c6734d8c",
   "metadata": {},
   "outputs": [
    {
     "data": {
      "image/png": "[encoded data removed]",
      "text/plain": [
       "<Figure size 800x600 with 1 Axes>"
      ]
     },
     "metadata": {},
     "output_type": "display_data"
    }
   ],
   "source": [
    "import matplotlib.pyplot as plt\n",
    "import seaborn as sns\n",
    "\n",
    "#제공 코드\n",
    "feat_importance = pd.Series(rfc.feature_importances_, index=features.columns)\n",
    "\n",
    "top20 = \n",
    "\n",
    "#한글 깨짐 방지\n",
    "plt.rcParams['font.family'] ='Malgun Gothic'\n",
    "plt.rcParams['axes.unicode_minus'] =False\n",
    "\n",
    "\n",
    "plt.figure(figsize=(8,6))\n",
    "plt.title()\n",
    "sns.barplot(x=, y=)\n",
    "plt.show()"
   ]
  },
  {
   "cell_type": "markdown",
   "id": "25111d93",
   "metadata": {},
   "source": [
    "### 혼동행렬\n",
    "y_test와 예측값 pred를 이용하여 혼동행렬 생성하여 cf에 할당합니다."
   ]
  },
  {
   "cell_type": "code",
   "execution_count": 167,
   "id": "2e04884d",
   "metadata": {},
   "outputs": [
    {
     "data": {
      "text/plain": [
       "array([[  1,   0,   1,   0,   1],\n",
       "       [  1,   1,   1,   1,   0],\n",
       "       [  1,   1,   7,   2,   7],\n",
       "       [  4,   4,   9,  15,  26],\n",
       "       [  5,  19,  42, 127, 250]], dtype=int64)"
      ]
     },
     "execution_count": 167,
     "metadata": {},
     "output_type": "execute_result"
    }
   ],
   "source": [
    "from sklearn.metrics import confusion_matrix\n",
    "\n",
    "cf = \n",
    "cf"
   ]
  },
  {
   "cell_type": "markdown",
   "id": "6f03d755",
   "metadata": {},
   "source": [
    "### 혼동행렬 시각화\n",
    "cf를 데이터 프레임(cf_matrix)으로 만든 후 컬럼명과, 인덱스를 1~5점으로 저장합니다.   \n",
    "데이터 프레임을 heatmap으로 만들어 줍니다. ( anno=True  -> 각 셀에 숫자 입력 , fmt='d'  -> 정수형으로 나오도록함)   \n",
    "x라벨 : 예측값, y라벨 : 실제값"
   ]
  },
  {
   "cell_type": "code",
   "execution_count": 88,
   "id": "551e4e20",
   "metadata": {},
   "outputs": [
    {
     "data": {
      "image/png": "[encoded data removed]",
      "text/plain": [
       "<Figure size 640x480 with 2 Axes>"
      ]
     },
     "metadata": {},
     "output_type": "display_data"
    }
   ],
   "source": [
    "cf_matrix= \n",
    "\n",
    "#히트맵 코드 작성\n",
    "\n",
    "plt.xlabel(\"예측값\")\n",
    "plt.ylabel(\"실제값\")\n",
    "plt.show()"
   ]
  },
  {
   "cell_type": "markdown",
   "id": "9513816c",
   "metadata": {},
   "source": [
    "# KNN"
   ]
  },
  {
   "cell_type": "markdown",
   "id": "cdc4282e",
   "metadata": {},
   "source": [
    "### 랜덤포레스트와 데이터 스케일링까지 과정이 반복됨"
   ]
  },
  {
   "cell_type": "code",
   "execution_count": null,
   "id": "808ba1f3",
   "metadata": {},
   "outputs": [],
   "source": [
    "#데이터 다시 확인해보기\n",
    "df4.head()"
   ]
  },
  {
   "cell_type": "markdown",
   "id": "dac5d49f",
   "metadata": {},
   "source": [
    "#### 피처값과 타겟값  (target : 별점, 피처는 별점 제외 모든 컬럼)"
   ]
  },
  {
   "cell_type": "code",
   "execution_count": 168,
   "id": "123560de",
   "metadata": {},
   "outputs": [],
   "source": [
    "features=\n",
    "target= "
   ]
  },
  {
   "cell_type": "markdown",
   "id": "36febf3e",
   "metadata": {},
   "source": [
    "#### 저장한 피처와 타겟을 가지고 train : test 데이터를 8:2로 나누어 줍니다. random_state = 50"
   ]
  },
  {
   "cell_type": "code",
   "execution_count": 169,
   "id": "01188865",
   "metadata": {},
   "outputs": [],
   "source": [
    "from sklearn.neighbors import KNeighborsClassifier\n",
    "from sklearn.model_selection import train_test_split\n",
    "\n",
    "#train/test 데이터 분리 8:2로\n"
   ]
  },
  {
   "cell_type": "markdown",
   "id": "79526ee8",
   "metadata": {},
   "source": [
    "#### 불균형 데이터 smote로 오버샘플링"
   ]
  },
  {
   "cell_type": "code",
   "execution_count": 170,
   "id": "0e0df86d",
   "metadata": {},
   "outputs": [],
   "source": [
    "from imblearn.over_sampling import SMOTE\n",
    "smote = SMOTE(random_state=42)\n",
    "X_train_over, y_train_over = smote.fit_resample(X_train, y_train)"
   ]
  },
  {
   "cell_type": "markdown",
   "id": "40293bb4",
   "metadata": {},
   "source": [
    "#### 피처의 단위를 동일하게 만들기 위해 StandardScaler로 스케일링을 진행합니다."
   ]
  },
  {
   "cell_type": "code",
   "execution_count": 171,
   "id": "7d963e07",
   "metadata": {},
   "outputs": [],
   "source": [
    "from sklearn.preprocessing import StandardScaler\n",
    "      \n",
    "X_train_scaled =      \n",
    "X_test_scaled = "
   ]
  },
  {
   "cell_type": "markdown",
   "id": "b5d33f09",
   "metadata": {},
   "source": [
    "### 그리드서치로 최적의 파라미터 찾기 \n",
    "1. 지정할 파라미터와 값을 knn_params에 저장합니다.  \n",
    "2. KNN 모델을 생성하고 knn으로 할당합니다. (n_jobs=-1)  \n",
    "3. 그리드서치를 실행하여 grid_cv로 할당합니다. (cv=5, n_jobs=-1)\n",
    "4. 스케일링 완료한 훈련 데이터를 grid_cv에 fit해줍니다.\n",
    "5. 최적의 파라미터를 print 합니다."
   ]
  },
  {
   "cell_type": "code",
   "execution_count": 208,
   "id": "a7a0c7c4",
   "metadata": {},
   "outputs": [
    {
     "name": "stdout",
     "output_type": "stream",
     "text": [
      "최적 하이퍼 파라미터: {'n_neighbors': 7, 'weights': 'distance'}\n"
     ]
    }
   ],
   "source": [
    "from sklearn.neighbors import KNeighborsClassifier\n",
    "from sklearn.model_selection import GridSearchCV\n",
    "\n",
    "#각 파라미터 값 넣기\n",
    "knn_params = {\n",
    "    'n_neighbors' : ,\n",
    "    'weights' : \n",
    "}\n",
    "\n",
    "\n",
    "knn=\n",
    "\n",
    "grid_cv=GridSearchCV('내부 코드 채우기')       \n",
    "grid_cv.fit(X_train_scaled,y_train_over)\n",
    "\n",
    "\n",
    "print(f'최적 하이퍼 파라미터: {grid_cv.best_params_}')"
   ]
  },
  {
   "cell_type": "markdown",
   "id": "47bd42eb",
   "metadata": {},
   "source": [
    "### KNN 모델 훈련\n",
    "위에서 구한 최적 파라미터를 활용하여 knn 모델을 만들고 해당 모델로 다시 훈련시킵니다. n_jobs=-1"
   ]
  },
  {
   "cell_type": "code",
   "execution_count": 209,
   "id": "4ce46b64",
   "metadata": {},
   "outputs": [
    {
     "data": {
      "text/html": [
       "<style>#sk-container-id-32 {color: black;background-color: white;}#sk-container-id-32 pre{padding: 0;}#sk-container-id-32 div.sk-toggleable {background-color: white;}#sk-container-id-32 label.sk-toggleable__label {cursor: pointer;display: block;width: 100%;margin-bottom: 0;padding: 0.3em;box-sizing: border-box;text-align: center;}#sk-container-id-32 label.sk-toggleable__label-arrow:before {content: \"▸\";float: left;margin-right: 0.25em;color: #696969;}#sk-container-id-32 label.sk-toggleable__label-arrow:hover:before {color: black;}#sk-container-id-32 div.sk-estimator:hover label.sk-toggleable__label-arrow:before {color: black;}#sk-container-id-32 div.sk-toggleable__content {max-height: 0;max-width: 0;overflow: hidden;text-align: left;background-color: #f0f8ff;}#sk-container-id-32 div.sk-toggleable__content pre {margin: 0.2em;color: black;border-radius: 0.25em;background-color: #f0f8ff;}#sk-container-id-32 input.sk-toggleable__control:checked~div.sk-toggleable__content {max-height: 200px;max-width: 100%;overflow: auto;}#sk-container-id-32 input.sk-toggleable__control:checked~label.sk-toggleable__label-arrow:before {content: \"▾\";}#sk-container-id-32 div.sk-estimator input.sk-toggleable__control:checked~label.sk-toggleable__label {background-color: #d4ebff;}#sk-container-id-32 div.sk-label input.sk-toggleable__control:checked~label.sk-toggleable__label {background-color: #d4ebff;}#sk-container-id-32 input.sk-hidden--visually {border: 0;clip: rect(1px 1px 1px 1px);clip: rect(1px, 1px, 1px, 1px);height: 1px;margin: -1px;overflow: hidden;padding: 0;position: absolute;width: 1px;}#sk-container-id-32 div.sk-estimator {font-family: monospace;background-color: #f0f8ff;border: 1px dotted black;border-radius: 0.25em;box-sizing: border-box;margin-bottom: 0.5em;}#sk-container-id-32 div.sk-estimator:hover {background-color: #d4ebff;}#sk-container-id-32 div.sk-parallel-item::after {content: \"\";width: 100%;border-bottom: 1px solid gray;flex-grow: 1;}#sk-container-id-32 div.sk-label:hover label.sk-toggleable__label {background-color: #d4ebff;}#sk-container-id-32 div.sk-serial::before {content: \"\";position: absolute;border-left: 1px solid gray;box-sizing: border-box;top: 0;bottom: 0;left: 50%;z-index: 0;}#sk-container-id-32 div.sk-serial {display: flex;flex-direction: column;align-items: center;background-color: white;padding-right: 0.2em;padding-left: 0.2em;position: relative;}#sk-container-id-32 div.sk-item {position: relative;z-index: 1;}#sk-container-id-32 div.sk-parallel {display: flex;align-items: stretch;justify-content: center;background-color: white;position: relative;}#sk-container-id-32 div.sk-item::before, #sk-container-id-32 div.sk-parallel-item::before {content: \"\";position: absolute;border-left: 1px solid gray;box-sizing: border-box;top: 0;bottom: 0;left: 50%;z-index: -1;}#sk-container-id-32 div.sk-parallel-item {display: flex;flex-direction: column;z-index: 1;position: relative;background-color: white;}#sk-container-id-32 div.sk-parallel-item:first-child::after {align-self: flex-end;width: 50%;}#sk-container-id-32 div.sk-parallel-item:last-child::after {align-self: flex-start;width: 50%;}#sk-container-id-32 div.sk-parallel-item:only-child::after {width: 0;}#sk-container-id-32 div.sk-dashed-wrapped {border: 1px dashed gray;margin: 0 0.4em 0.5em 0.4em;box-sizing: border-box;padding-bottom: 0.4em;background-color: white;}#sk-container-id-32 div.sk-label label {font-family: monospace;font-weight: bold;display: inline-block;line-height: 1.2em;}#sk-container-id-32 div.sk-label-container {text-align: center;}#sk-container-id-32 div.sk-container {/* jupyter's `normalize.less` sets `[hidden] { display: none; }` but bootstrap.min.css set `[hidden] { display: none !important; }` so we also need the `!important` here to be able to override the default hidden behavior on the sphinx rendered scikit-learn.org. See: https://github.com/scikit-learn/scikit-learn/issues/21755 */display: inline-block !important;position: relative;}#sk-container-id-32 div.sk-text-repr-fallback {display: none;}</style><div id=\"sk-container-id-32\" class=\"sk-top-container\"><div class=\"sk-text-repr-fallback\"><pre>KNeighborsClassifier(n_jobs=-1, n_neighbors=7, weights=&#x27;distance&#x27;)</pre><b>In a Jupyter environment, please rerun this cell to show the HTML representation or trust the notebook. <br />On GitHub, the HTML representation is unable to render, please try loading this page with nbviewer.org.</b></div><div class=\"sk-container\" hidden><div class=\"sk-item\"><div class=\"sk-estimator sk-toggleable\"><input class=\"sk-toggleable__control sk-hidden--visually\" id=\"sk-estimator-id-32\" type=\"checkbox\" checked><label for=\"sk-estimator-id-32\" class=\"sk-toggleable__label sk-toggleable__label-arrow\">KNeighborsClassifier</label><div class=\"sk-toggleable__content\"><pre>KNeighborsClassifier(n_jobs=-1, n_neighbors=7, weights=&#x27;distance&#x27;)</pre></div></div></div></div></div>"
      ],
      "text/plain": [
       "KNeighborsClassifier(n_jobs=-1, n_neighbors=7, weights='distance')"
      ]
     },
     "execution_count": 209,
     "metadata": {},
     "output_type": "execute_result"
    }
   ],
   "source": [
    "knn=\n",
    "knn.fit(X_train_scaled,y_train_over)"
   ]
  },
  {
   "cell_type": "markdown",
   "id": "0c0e6e0d",
   "metadata": {},
   "source": [
    "#### 스케일링한 test데이터를 가지고 모델에 적용하여 나온 예측값을 knn_pred에 할당하고 평가지표함수로 성능을 확인합니다."
   ]
  },
  {
   "cell_type": "code",
   "execution_count": 210,
   "id": "6eb42321",
   "metadata": {},
   "outputs": [
    {
     "data": {
      "text/html": [
       "<div>\n",
       "<style scoped>\n",
       "    .dataframe tbody tr th:only-of-type {\n",
       "        vertical-align: middle;\n",
       "    }\n",
       "\n",
       "    .dataframe tbody tr th {\n",
       "        vertical-align: top;\n",
       "    }\n",
       "\n",
       "    .dataframe thead th {\n",
       "        text-align: right;\n",
       "    }\n",
       "</style>\n",
       "<table border=\"1\" class=\"dataframe\">\n",
       "  <thead>\n",
       "    <tr style=\"text-align: right;\">\n",
       "      <th></th>\n",
       "      <th>accuracy</th>\n",
       "      <th>precision</th>\n",
       "      <th>recall</th>\n",
       "      <th>f1</th>\n",
       "    </tr>\n",
       "  </thead>\n",
       "  <tbody>\n",
       "    <tr>\n",
       "      <th>0</th>\n",
       "      <td>0.722</td>\n",
       "      <td>0.722</td>\n",
       "      <td>0.722</td>\n",
       "      <td>0.722</td>\n",
       "    </tr>\n",
       "  </tbody>\n",
       "</table>\n",
       "</div>"
      ],
      "text/plain": [
       "   accuracy  precision  recall     f1\n",
       "0     0.722      0.722   0.722  0.722"
      ]
     },
     "execution_count": 210,
     "metadata": {},
     "output_type": "execute_result"
    }
   ],
   "source": [
    "knn_pred= \n",
    "\n",
    "_metrics(y_test,knn_pred)"
   ]
  },
  {
   "cell_type": "markdown",
   "id": "a67a849a",
   "metadata": {},
   "source": [
    "### 혼동행렬\n",
    "y_test와 예측값 knn_pred를 이용하여 혼동행렬 생성하여 knn_cf에 할당합니다."
   ]
  },
  {
   "cell_type": "code",
   "execution_count": 211,
   "id": "548383b8",
   "metadata": {},
   "outputs": [
    {
     "data": {
      "text/plain": [
       "array([[  0,   0,   0,   0,   3],\n",
       "       [  0,   1,   1,   0,   2],\n",
       "       [  0,   0,   4,   3,  11],\n",
       "       [  0,   0,   3,  13,  42],\n",
       "       [  0,   1,  18,  62, 362]], dtype=int64)"
      ]
     },
     "execution_count": 211,
     "metadata": {},
     "output_type": "execute_result"
    }
   ],
   "source": [
    "from sklearn.metrics import confusion_matrix\n",
    "\n",
    "knn_cf = \n",
    "knn_cf"
   ]
  },
  {
   "cell_type": "markdown",
   "id": "0e72e1bc",
   "metadata": {},
   "source": [
    "### 혼동행렬 시각화\n",
    "knn_cf를 데이터 프레임(knn_cf_matrix)으로 만든 후 컬럼명과, 인덱스를 1~5점으로 저장합니다.   \n",
    "데이터 프레임을 heatmap으로 만들어 줍니다. ( anno=True  -> 각 셀에 숫자 입력 , fmt='d'  -> 정수형으로 나오도록함)   \n",
    "x라벨 : 예측값, y라벨 : 실제값"
   ]
  },
  {
   "cell_type": "code",
   "execution_count": 212,
   "id": "d970da56",
   "metadata": {
    "scrolled": false
   },
   "outputs": [
    {
     "data": {
      "image/png": "[encoded data removed]",
      "text/plain": [
       "<Figure size 640x480 with 2 Axes>"
      ]
     },
     "metadata": {},
     "output_type": "display_data"
    }
   ],
   "source": [
    "knn_cf_matrix= \n",
    "\n",
    "#히트맵 코드 작성\n",
    "\n",
    "plt.xlabel(\"예측값\")\n",
    "plt.ylabel(\"실제값\")\n",
    "plt.show()"
   ]
  },
  {
   "cell_type": "code",
   "execution_count": null,
   "id": "6a1c34c8",
   "metadata": {},
   "outputs": [],
   "source": []
  },
  {
   "cell_type": "code",
   "execution_count": null,
   "id": "2deb5759",
   "metadata": {},
   "outputs": [],
   "source": []
  }
 ],
 "metadata": {
  "kernelspec": {
   "display_name": "Python 3 (ipykernel)",
   "language": "python",
   "name": "python3"
  },
  "language_info": {
   "codemirror_mode": {
    "name": "ipython",
    "version": 3
   },
   "file_extension": ".py",
   "mimetype": "text/x-python",
   "name": "python",
   "nbconvert_exporter": "python",
   "pygments_lexer": "ipython3",
   "version": "3.10.11"
  }
 },
 "nbformat": 4,
 "nbformat_minor": 5
}
